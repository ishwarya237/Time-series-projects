{
  "nbformat": 4,
  "nbformat_minor": 0,
  "metadata": {
    "kernelspec": {
      "display_name": "Python 3",
      "language": "python",
      "name": "python3"
    },
    "language_info": {
      "codemirror_mode": {
        "name": "ipython",
        "version": 3
      },
      "file_extension": ".py",
      "mimetype": "text/x-python",
      "name": "python",
      "nbconvert_exporter": "python",
      "pygments_lexer": "ipython3",
      "version": "3.7.4"
    },
    "colab": {
      "name": "GlobalWarming_prediction.ipynb",
      "provenance": [],
      "collapsed_sections": []
    }
  },
  "cells": [
    {
      "cell_type": "markdown",
      "metadata": {
        "id": "aTCM41-qXb_j"
      },
      "source": [
        "Importing the required libraries"
      ]
    },
    {
      "cell_type": "code",
      "metadata": {
        "id": "gG_nv7Na8YlK"
      },
      "source": [
        "import pandas as pd\n",
        "import numpy as np\n",
        "import plotly.express as px\n",
        "import seaborn as sns\n",
        "import warnings\n",
        "warnings.filterwarnings('ignore')\n",
        "import matplotlib.pyplot as plt"
      ],
      "execution_count": null,
      "outputs": []
    },
    {
      "cell_type": "markdown",
      "metadata": {
        "id": "Chg9A2uI8Yno"
      },
      "source": [
        "### 3) Is there a global warming?\n",
        "    Let's read the data from the \"GlobalTemperatures.csv\" file, which has a monthly Earth’s temperature and plot it on the chart."
      ]
    },
    {
      "cell_type": "code",
      "metadata": {
        "id": "lr11c5DR8Yns"
      },
      "source": [
        "global_temp=pd.read_csv('/content/GlobalTemperatures.csv')"
      ],
      "execution_count": null,
      "outputs": []
    },
    {
      "cell_type": "code",
      "metadata": {
        "id": "AlLocdzq8Ynt",
        "outputId": "1a59e893-3d5d-4ea7-93d8-ca949a72ac1c"
      },
      "source": [
        "global_temp.head()"
      ],
      "execution_count": null,
      "outputs": [
        {
          "output_type": "execute_result",
          "data": {
            "text/html": [
              "<div>\n",
              "<style scoped>\n",
              "    .dataframe tbody tr th:only-of-type {\n",
              "        vertical-align: middle;\n",
              "    }\n",
              "\n",
              "    .dataframe tbody tr th {\n",
              "        vertical-align: top;\n",
              "    }\n",
              "\n",
              "    .dataframe thead th {\n",
              "        text-align: right;\n",
              "    }\n",
              "</style>\n",
              "<table border=\"1\" class=\"dataframe\">\n",
              "  <thead>\n",
              "    <tr style=\"text-align: right;\">\n",
              "      <th></th>\n",
              "      <th>dt</th>\n",
              "      <th>LandAverageTemperature</th>\n",
              "      <th>LandAverageTemperatureUncertainty</th>\n",
              "      <th>LandMaxTemperature</th>\n",
              "      <th>LandMaxTemperatureUncertainty</th>\n",
              "      <th>LandMinTemperature</th>\n",
              "      <th>LandMinTemperatureUncertainty</th>\n",
              "      <th>LandAndOceanAverageTemperature</th>\n",
              "      <th>LandAndOceanAverageTemperatureUncertainty</th>\n",
              "    </tr>\n",
              "  </thead>\n",
              "  <tbody>\n",
              "    <tr>\n",
              "      <th>0</th>\n",
              "      <td>1750-01-01</td>\n",
              "      <td>3.034</td>\n",
              "      <td>3.574</td>\n",
              "      <td>NaN</td>\n",
              "      <td>NaN</td>\n",
              "      <td>NaN</td>\n",
              "      <td>NaN</td>\n",
              "      <td>NaN</td>\n",
              "      <td>NaN</td>\n",
              "    </tr>\n",
              "    <tr>\n",
              "      <th>1</th>\n",
              "      <td>1750-02-01</td>\n",
              "      <td>3.083</td>\n",
              "      <td>3.702</td>\n",
              "      <td>NaN</td>\n",
              "      <td>NaN</td>\n",
              "      <td>NaN</td>\n",
              "      <td>NaN</td>\n",
              "      <td>NaN</td>\n",
              "      <td>NaN</td>\n",
              "    </tr>\n",
              "    <tr>\n",
              "      <th>2</th>\n",
              "      <td>1750-03-01</td>\n",
              "      <td>5.626</td>\n",
              "      <td>3.076</td>\n",
              "      <td>NaN</td>\n",
              "      <td>NaN</td>\n",
              "      <td>NaN</td>\n",
              "      <td>NaN</td>\n",
              "      <td>NaN</td>\n",
              "      <td>NaN</td>\n",
              "    </tr>\n",
              "    <tr>\n",
              "      <th>3</th>\n",
              "      <td>1750-04-01</td>\n",
              "      <td>8.490</td>\n",
              "      <td>2.451</td>\n",
              "      <td>NaN</td>\n",
              "      <td>NaN</td>\n",
              "      <td>NaN</td>\n",
              "      <td>NaN</td>\n",
              "      <td>NaN</td>\n",
              "      <td>NaN</td>\n",
              "    </tr>\n",
              "    <tr>\n",
              "      <th>4</th>\n",
              "      <td>1750-05-01</td>\n",
              "      <td>11.573</td>\n",
              "      <td>2.072</td>\n",
              "      <td>NaN</td>\n",
              "      <td>NaN</td>\n",
              "      <td>NaN</td>\n",
              "      <td>NaN</td>\n",
              "      <td>NaN</td>\n",
              "      <td>NaN</td>\n",
              "    </tr>\n",
              "  </tbody>\n",
              "</table>\n",
              "</div>"
            ],
            "text/plain": [
              "           dt  LandAverageTemperature  LandAverageTemperatureUncertainty  \\\n",
              "0  1750-01-01                   3.034                              3.574   \n",
              "1  1750-02-01                   3.083                              3.702   \n",
              "2  1750-03-01                   5.626                              3.076   \n",
              "3  1750-04-01                   8.490                              2.451   \n",
              "4  1750-05-01                  11.573                              2.072   \n",
              "\n",
              "   LandMaxTemperature  LandMaxTemperatureUncertainty  LandMinTemperature  \\\n",
              "0                 NaN                            NaN                 NaN   \n",
              "1                 NaN                            NaN                 NaN   \n",
              "2                 NaN                            NaN                 NaN   \n",
              "3                 NaN                            NaN                 NaN   \n",
              "4                 NaN                            NaN                 NaN   \n",
              "\n",
              "   LandMinTemperatureUncertainty  LandAndOceanAverageTemperature  \\\n",
              "0                            NaN                             NaN   \n",
              "1                            NaN                             NaN   \n",
              "2                            NaN                             NaN   \n",
              "3                            NaN                             NaN   \n",
              "4                            NaN                             NaN   \n",
              "\n",
              "   LandAndOceanAverageTemperatureUncertainty  \n",
              "0                                        NaN  \n",
              "1                                        NaN  \n",
              "2                                        NaN  \n",
              "3                                        NaN  \n",
              "4                                        NaN  "
            ]
          },
          "metadata": {
            "tags": []
          },
          "execution_count": 3
        }
      ]
    },
    {
      "cell_type": "code",
      "metadata": {
        "colab": {
          "base_uri": "https://localhost:8080/"
        },
        "id": "TJRZqI9k92oC",
        "outputId": "53df2cdc-ec79-4e5c-9ce6-218a81d9e14f"
      },
      "source": [
        "global_temp.dtypes"
      ],
      "execution_count": null,
      "outputs": [
        {
          "output_type": "execute_result",
          "data": {
            "text/plain": [
              "dt                                            object\n",
              "LandAverageTemperature                       float64\n",
              "LandAverageTemperatureUncertainty            float64\n",
              "LandMaxTemperature                           float64\n",
              "LandMaxTemperatureUncertainty                float64\n",
              "LandMinTemperature                           float64\n",
              "LandMinTemperatureUncertainty                float64\n",
              "LandAndOceanAverageTemperature               float64\n",
              "LandAndOceanAverageTemperatureUncertainty    float64\n",
              "years                                         object\n",
              "dtype: object"
            ]
          },
          "metadata": {
            "tags": []
          },
          "execution_count": 7
        }
      ]
    },
    {
      "cell_type": "markdown",
      "metadata": {
        "id": "sbJoDRB9-Mcu"
      },
      "source": [
        "To get the year"
      ]
    },
    {
      "cell_type": "code",
      "metadata": {
        "colab": {
          "base_uri": "https://localhost:8080/",
          "height": 36
        },
        "id": "ZKC2oHF_8Yny",
        "outputId": "b2692dc0-8cdc-4af5-f333-434d21b179f6"
      },
      "source": [
        "global_temp['dt'][0].split('-')[0]"
      ],
      "execution_count": null,
      "outputs": [
        {
          "output_type": "execute_result",
          "data": {
            "application/vnd.google.colaboratory.intrinsic+json": {
              "type": "string"
            },
            "text/plain": [
              "'1750'"
            ]
          },
          "metadata": {
            "tags": []
          },
          "execution_count": 3
        }
      ]
    },
    {
      "cell_type": "code",
      "metadata": {
        "id": "oKS7t9q68Yn1"
      },
      "source": [
        "def fetch_year(date):\n",
        "    return date.split('-')[0]"
      ],
      "execution_count": null,
      "outputs": []
    },
    {
      "cell_type": "code",
      "metadata": {
        "id": "uJuutBbZ8Yn2"
      },
      "source": [
        "global_temp['years']=global_temp['dt'].apply(fetch_year)"
      ],
      "execution_count": null,
      "outputs": []
    },
    {
      "cell_type": "code",
      "metadata": {
        "colab": {
          "base_uri": "https://localhost:8080/",
          "height": 304
        },
        "id": "TdgwEMQ48Yn3",
        "outputId": "6ce9ab84-d40c-4b3b-915f-e697e279377d"
      },
      "source": [
        "global_temp.head()"
      ],
      "execution_count": null,
      "outputs": [
        {
          "output_type": "execute_result",
          "data": {
            "text/html": [
              "<div>\n",
              "<style scoped>\n",
              "    .dataframe tbody tr th:only-of-type {\n",
              "        vertical-align: middle;\n",
              "    }\n",
              "\n",
              "    .dataframe tbody tr th {\n",
              "        vertical-align: top;\n",
              "    }\n",
              "\n",
              "    .dataframe thead th {\n",
              "        text-align: right;\n",
              "    }\n",
              "</style>\n",
              "<table border=\"1\" class=\"dataframe\">\n",
              "  <thead>\n",
              "    <tr style=\"text-align: right;\">\n",
              "      <th></th>\n",
              "      <th>dt</th>\n",
              "      <th>LandAverageTemperature</th>\n",
              "      <th>LandAverageTemperatureUncertainty</th>\n",
              "      <th>LandMaxTemperature</th>\n",
              "      <th>LandMaxTemperatureUncertainty</th>\n",
              "      <th>LandMinTemperature</th>\n",
              "      <th>LandMinTemperatureUncertainty</th>\n",
              "      <th>LandAndOceanAverageTemperature</th>\n",
              "      <th>LandAndOceanAverageTemperatureUncertainty</th>\n",
              "      <th>years</th>\n",
              "    </tr>\n",
              "  </thead>\n",
              "  <tbody>\n",
              "    <tr>\n",
              "      <th>0</th>\n",
              "      <td>1750-01-01</td>\n",
              "      <td>3.034</td>\n",
              "      <td>3.574</td>\n",
              "      <td>NaN</td>\n",
              "      <td>NaN</td>\n",
              "      <td>NaN</td>\n",
              "      <td>NaN</td>\n",
              "      <td>NaN</td>\n",
              "      <td>NaN</td>\n",
              "      <td>1750</td>\n",
              "    </tr>\n",
              "    <tr>\n",
              "      <th>1</th>\n",
              "      <td>1750-02-01</td>\n",
              "      <td>3.083</td>\n",
              "      <td>3.702</td>\n",
              "      <td>NaN</td>\n",
              "      <td>NaN</td>\n",
              "      <td>NaN</td>\n",
              "      <td>NaN</td>\n",
              "      <td>NaN</td>\n",
              "      <td>NaN</td>\n",
              "      <td>1750</td>\n",
              "    </tr>\n",
              "    <tr>\n",
              "      <th>2</th>\n",
              "      <td>1750-03-01</td>\n",
              "      <td>5.626</td>\n",
              "      <td>3.076</td>\n",
              "      <td>NaN</td>\n",
              "      <td>NaN</td>\n",
              "      <td>NaN</td>\n",
              "      <td>NaN</td>\n",
              "      <td>NaN</td>\n",
              "      <td>NaN</td>\n",
              "      <td>1750</td>\n",
              "    </tr>\n",
              "    <tr>\n",
              "      <th>3</th>\n",
              "      <td>1750-04-01</td>\n",
              "      <td>8.490</td>\n",
              "      <td>2.451</td>\n",
              "      <td>NaN</td>\n",
              "      <td>NaN</td>\n",
              "      <td>NaN</td>\n",
              "      <td>NaN</td>\n",
              "      <td>NaN</td>\n",
              "      <td>NaN</td>\n",
              "      <td>1750</td>\n",
              "    </tr>\n",
              "    <tr>\n",
              "      <th>4</th>\n",
              "      <td>1750-05-01</td>\n",
              "      <td>11.573</td>\n",
              "      <td>2.072</td>\n",
              "      <td>NaN</td>\n",
              "      <td>NaN</td>\n",
              "      <td>NaN</td>\n",
              "      <td>NaN</td>\n",
              "      <td>NaN</td>\n",
              "      <td>NaN</td>\n",
              "      <td>1750</td>\n",
              "    </tr>\n",
              "  </tbody>\n",
              "</table>\n",
              "</div>"
            ],
            "text/plain": [
              "           dt  ...  years\n",
              "0  1750-01-01  ...   1750\n",
              "1  1750-02-01  ...   1750\n",
              "2  1750-03-01  ...   1750\n",
              "3  1750-04-01  ...   1750\n",
              "4  1750-05-01  ...   1750\n",
              "\n",
              "[5 rows x 10 columns]"
            ]
          },
          "metadata": {
            "tags": []
          },
          "execution_count": 6
        }
      ]
    },
    {
      "cell_type": "markdown",
      "metadata": {
        "id": "3bYxHJ2Y-ZpZ"
      },
      "source": [
        "Grouping the temperatures with respect to year"
      ]
    },
    {
      "cell_type": "code",
      "metadata": {
        "id": "NiPLZYhJ8Yn4"
      },
      "source": [
        "data=global_temp.groupby('years').agg({'LandAverageTemperature':'mean','LandAverageTemperatureUncertainty':'mean'}).reset_index()"
      ],
      "execution_count": null,
      "outputs": []
    },
    {
      "cell_type": "code",
      "metadata": {
        "colab": {
          "base_uri": "https://localhost:8080/",
          "height": 412
        },
        "id": "5SO7lJh68Yn5",
        "outputId": "e91bc89c-7de2-4855-99cc-6ce482bec7ac"
      },
      "source": [
        "data"
      ],
      "execution_count": null,
      "outputs": [
        {
          "output_type": "execute_result",
          "data": {
            "text/html": [
              "<div>\n",
              "<style scoped>\n",
              "    .dataframe tbody tr th:only-of-type {\n",
              "        vertical-align: middle;\n",
              "    }\n",
              "\n",
              "    .dataframe tbody tr th {\n",
              "        vertical-align: top;\n",
              "    }\n",
              "\n",
              "    .dataframe thead th {\n",
              "        text-align: right;\n",
              "    }\n",
              "</style>\n",
              "<table border=\"1\" class=\"dataframe\">\n",
              "  <thead>\n",
              "    <tr style=\"text-align: right;\">\n",
              "      <th></th>\n",
              "      <th>years</th>\n",
              "      <th>LandAverageTemperature</th>\n",
              "      <th>LandAverageTemperatureUncertainty</th>\n",
              "    </tr>\n",
              "  </thead>\n",
              "  <tbody>\n",
              "    <tr>\n",
              "      <th>0</th>\n",
              "      <td>1750</td>\n",
              "      <td>8.719364</td>\n",
              "      <td>2.637818</td>\n",
              "    </tr>\n",
              "    <tr>\n",
              "      <th>1</th>\n",
              "      <td>1751</td>\n",
              "      <td>7.976143</td>\n",
              "      <td>2.781143</td>\n",
              "    </tr>\n",
              "    <tr>\n",
              "      <th>2</th>\n",
              "      <td>1752</td>\n",
              "      <td>5.779833</td>\n",
              "      <td>2.977000</td>\n",
              "    </tr>\n",
              "    <tr>\n",
              "      <th>3</th>\n",
              "      <td>1753</td>\n",
              "      <td>8.388083</td>\n",
              "      <td>3.176000</td>\n",
              "    </tr>\n",
              "    <tr>\n",
              "      <th>4</th>\n",
              "      <td>1754</td>\n",
              "      <td>8.469333</td>\n",
              "      <td>3.494250</td>\n",
              "    </tr>\n",
              "    <tr>\n",
              "      <th>...</th>\n",
              "      <td>...</td>\n",
              "      <td>...</td>\n",
              "      <td>...</td>\n",
              "    </tr>\n",
              "    <tr>\n",
              "      <th>261</th>\n",
              "      <td>2011</td>\n",
              "      <td>9.516000</td>\n",
              "      <td>0.082000</td>\n",
              "    </tr>\n",
              "    <tr>\n",
              "      <th>262</th>\n",
              "      <td>2012</td>\n",
              "      <td>9.507333</td>\n",
              "      <td>0.083417</td>\n",
              "    </tr>\n",
              "    <tr>\n",
              "      <th>263</th>\n",
              "      <td>2013</td>\n",
              "      <td>9.606500</td>\n",
              "      <td>0.097667</td>\n",
              "    </tr>\n",
              "    <tr>\n",
              "      <th>264</th>\n",
              "      <td>2014</td>\n",
              "      <td>9.570667</td>\n",
              "      <td>0.090167</td>\n",
              "    </tr>\n",
              "    <tr>\n",
              "      <th>265</th>\n",
              "      <td>2015</td>\n",
              "      <td>9.831000</td>\n",
              "      <td>0.092167</td>\n",
              "    </tr>\n",
              "  </tbody>\n",
              "</table>\n",
              "<p>266 rows × 3 columns</p>\n",
              "</div>"
            ],
            "text/plain": [
              "    years  LandAverageTemperature  LandAverageTemperatureUncertainty\n",
              "0    1750                8.719364                           2.637818\n",
              "1    1751                7.976143                           2.781143\n",
              "2    1752                5.779833                           2.977000\n",
              "3    1753                8.388083                           3.176000\n",
              "4    1754                8.469333                           3.494250\n",
              "..    ...                     ...                                ...\n",
              "261  2011                9.516000                           0.082000\n",
              "262  2012                9.507333                           0.083417\n",
              "263  2013                9.606500                           0.097667\n",
              "264  2014                9.570667                           0.090167\n",
              "265  2015                9.831000                           0.092167\n",
              "\n",
              "[266 rows x 3 columns]"
            ]
          },
          "metadata": {
            "tags": []
          },
          "execution_count": 11
        }
      ]
    },
    {
      "cell_type": "code",
      "metadata": {
        "id": "dkF74-jV8Yn6"
      },
      "source": [
        "data['Uncertainity_top']=data['LandAverageTemperature'] + data['LandAverageTemperatureUncertainty']\n",
        "data['Uncertainity_bottom']=data['LandAverageTemperature'] - data['LandAverageTemperatureUncertainty']"
      ],
      "execution_count": null,
      "outputs": []
    },
    {
      "cell_type": "code",
      "metadata": {
        "colab": {
          "base_uri": "https://localhost:8080/",
          "height": 200
        },
        "id": "ulAIoJM-8Yn7",
        "outputId": "e0b57bd9-e2de-4e9f-850f-85f9f308fc47"
      },
      "source": [
        "data.head()"
      ],
      "execution_count": null,
      "outputs": [
        {
          "output_type": "execute_result",
          "data": {
            "text/html": [
              "<div>\n",
              "<style scoped>\n",
              "    .dataframe tbody tr th:only-of-type {\n",
              "        vertical-align: middle;\n",
              "    }\n",
              "\n",
              "    .dataframe tbody tr th {\n",
              "        vertical-align: top;\n",
              "    }\n",
              "\n",
              "    .dataframe thead th {\n",
              "        text-align: right;\n",
              "    }\n",
              "</style>\n",
              "<table border=\"1\" class=\"dataframe\">\n",
              "  <thead>\n",
              "    <tr style=\"text-align: right;\">\n",
              "      <th></th>\n",
              "      <th>years</th>\n",
              "      <th>LandAverageTemperature</th>\n",
              "      <th>LandAverageTemperatureUncertainty</th>\n",
              "      <th>Uncertainity_top</th>\n",
              "      <th>Uncertainity_bottom</th>\n",
              "    </tr>\n",
              "  </thead>\n",
              "  <tbody>\n",
              "    <tr>\n",
              "      <th>0</th>\n",
              "      <td>1750</td>\n",
              "      <td>8.719364</td>\n",
              "      <td>2.637818</td>\n",
              "      <td>11.357182</td>\n",
              "      <td>6.081545</td>\n",
              "    </tr>\n",
              "    <tr>\n",
              "      <th>1</th>\n",
              "      <td>1751</td>\n",
              "      <td>7.976143</td>\n",
              "      <td>2.781143</td>\n",
              "      <td>10.757286</td>\n",
              "      <td>5.195000</td>\n",
              "    </tr>\n",
              "    <tr>\n",
              "      <th>2</th>\n",
              "      <td>1752</td>\n",
              "      <td>5.779833</td>\n",
              "      <td>2.977000</td>\n",
              "      <td>8.756833</td>\n",
              "      <td>2.802833</td>\n",
              "    </tr>\n",
              "    <tr>\n",
              "      <th>3</th>\n",
              "      <td>1753</td>\n",
              "      <td>8.388083</td>\n",
              "      <td>3.176000</td>\n",
              "      <td>11.564083</td>\n",
              "      <td>5.212083</td>\n",
              "    </tr>\n",
              "    <tr>\n",
              "      <th>4</th>\n",
              "      <td>1754</td>\n",
              "      <td>8.469333</td>\n",
              "      <td>3.494250</td>\n",
              "      <td>11.963583</td>\n",
              "      <td>4.975083</td>\n",
              "    </tr>\n",
              "  </tbody>\n",
              "</table>\n",
              "</div>"
            ],
            "text/plain": [
              "  years  LandAverageTemperature  ...  Uncertainity_top  Uncertainity_bottom\n",
              "0  1750                8.719364  ...         11.357182             6.081545\n",
              "1  1751                7.976143  ...         10.757286             5.195000\n",
              "2  1752                5.779833  ...          8.756833             2.802833\n",
              "3  1753                8.388083  ...         11.564083             5.212083\n",
              "4  1754                8.469333  ...         11.963583             4.975083\n",
              "\n",
              "[5 rows x 5 columns]"
            ]
          },
          "metadata": {
            "tags": []
          },
          "execution_count": 13
        }
      ]
    },
    {
      "cell_type": "code",
      "metadata": {
        "colab": {
          "base_uri": "https://localhost:8080/"
        },
        "id": "Klubbkww8Yn-",
        "outputId": "e6a1648d-d1e3-4aa0-8c51-80ba137f2a3a"
      },
      "source": [
        "data.columns"
      ],
      "execution_count": null,
      "outputs": [
        {
          "output_type": "execute_result",
          "data": {
            "text/plain": [
              "Index(['years', 'LandAverageTemperature', 'LandAverageTemperatureUncertainty',\n",
              "       'Uncertainity_top', 'Uncertainity_bottom'],\n",
              "      dtype='object')"
            ]
          },
          "metadata": {
            "tags": []
          },
          "execution_count": 14
        }
      ]
    },
    {
      "cell_type": "code",
      "metadata": {
        "colab": {
          "base_uri": "https://localhost:8080/",
          "height": 622
        },
        "id": "2YZvqfg-8YoA",
        "outputId": "df3333f4-5548-4b8c-b4ee-6e3949dbac8e"
      },
      "source": [
        "\n",
        "data.plot(x='years',y=['Uncertainity_top','LandAverageTemperature',\n",
        "        'Uncertainity_bottom'],figsize=(16,10))"
      ],
      "execution_count": null,
      "outputs": [
        {
          "output_type": "execute_result",
          "data": {
            "text/plain": [
              "<matplotlib.axes._subplots.AxesSubplot at 0x7fd09b62b610>"
            ]
          },
          "metadata": {
            "tags": []
          },
          "execution_count": 18
        },
        {
          "output_type": "display_data",
          "data": {
            "image/png": "[encoded data removed]",
            "text/plain": [
              "<Figure size 1152x720 with 1 Axes>"
            ]
          },
          "metadata": {
            "tags": [],
            "needs_background": "light"
          }
        }
      ]
    },
    {
      "cell_type": "code",
      "metadata": {
        "colab": {
          "base_uri": "https://localhost:8080/",
          "height": 541
        },
        "id": "fduLNY_0BUMF",
        "outputId": "b67f063e-ba21-4ec9-f697-ed662013f3b0"
      },
      "source": [
        " import plotly.graph_objs as go\n",
        "fig = go.Figure()\n",
        "for col in ['Uncertainity_top','LandAverageTemperature','Uncertainity_bottom']:\n",
        "    fig.add_trace(go.Line(x=data.years, y=data[col],name=col))\n",
        "fig.show()"
      ],
      "execution_count": null,
      "outputs": [
        {
          "output_type": "display_data",
          "data": {
            "text/html": [
              "<html>\n",
              "<head><meta charset=\"utf-8\" /></head>\n",
              "<body>\n",
              "    <div>\n",
              "            <script src=\"https://cdnjs.cloudflare.com/ajax/libs/mathjax/2.7.5/MathJax.js?config=TeX-AMS-MML_SVG\"></script><script type=\"text/javascript\">if (window.MathJax) {MathJax.Hub.Config({SVG: {font: \"STIX-Web\"}});}</script>\n",
              "                <script type=\"text/javascript\">window.PlotlyConfig = {MathJaxConfig: 'local'};</script>\n",
              "        <script src=\"https://cdn.plot.ly/plotly-latest.min.js\"></script>    \n",
              "            <div id=\"f99350b4-165b-471d-b4dd-bf17ef15363b\" class=\"plotly-graph-div\" style=\"height:525px; width:100%;\"></div>\n",
              "            <script type=\"text/javascript\">\n",
              "                \n",
              "                    window.PLOTLYENV=window.PLOTLYENV || {};\n",
              "                    \n",
              "                if (document.getElementById(\"f99350b4-165b-471d-b4dd-bf17ef15363b\")) {\n",
              "                    Plotly.newPlot(\n",
              "                        'f99350b4-165b-471d-b4dd-bf17ef15363b',\n",
              "                        [{\"name\": \"Uncertainity_top\", \"type\": \"scatter\", \"x\": [\"1750\", \"1751\", \"1752\", \"1753\", \"1754\", \"1755\", \"1756\", \"1757\", \"1758\", \"1759\", \"1760\", \"1761\", \"1762\", \"1763\", \"1764\", \"1765\", \"1766\", \"1767\", \"1768\", \"1769\", \"1770\", \"1771\", \"1772\", \"1773\", \"1774\", \"1775\", \"1776\", \"1777\", \"1778\", \"1779\", \"1780\", \"1781\", \"1782\", \"1783\", \"1784\", \"1785\", \"1786\", \"1787\", \"1788\", \"1789\", \"1790\", \"1791\", \"1792\", \"1793\", \"1794\", \"1795\", \"1796\", \"1797\", \"1798\", \"1799\", \"1800\", \"1801\", \"1802\", \"1803\", \"1804\", \"1805\", \"1806\", \"1807\", \"1808\", \"1809\", \"1810\", \"1811\", \"1812\", \"1813\", \"1814\", \"1815\", \"1816\", \"1817\", \"1818\", \"1819\", \"1820\", \"1821\", \"1822\", \"1823\", \"1824\", \"1825\", \"1826\", \"1827\", \"1828\", \"1829\", \"1830\", \"1831\", \"1832\", \"1833\", \"1834\", \"1835\", \"1836\", \"1837\", \"1838\", \"1839\", \"1840\", \"1841\", \"1842\", \"1843\", \"1844\", \"1845\", \"1846\", \"1847\", \"1848\", \"1849\", \"1850\", \"1851\", \"1852\", \"1853\", \"1854\", \"1855\", \"1856\", \"1857\", \"1858\", \"1859\", \"1860\", \"1861\", \"1862\", \"1863\", \"1864\", \"1865\", \"1866\", \"1867\", \"1868\", \"1869\", \"1870\", \"1871\", \"1872\", \"1873\", \"1874\", \"1875\", \"1876\", \"1877\", \"1878\", \"1879\", \"1880\", \"1881\", \"1882\", \"1883\", \"1884\", \"1885\", \"1886\", \"1887\", \"1888\", \"1889\", \"1890\", \"1891\", \"1892\", \"1893\", \"1894\", \"1895\", \"1896\", \"1897\", \"1898\", \"1899\", \"1900\", \"1901\", \"1902\", \"1903\", \"1904\", \"1905\", \"1906\", \"1907\", \"1908\", \"1909\", \"1910\", \"1911\", \"1912\", \"1913\", \"1914\", \"1915\", \"1916\", \"1917\", \"1918\", \"1919\", \"1920\", \"1921\", \"1922\", \"1923\", \"1924\", \"1925\", \"1926\", \"1927\", \"1928\", \"1929\", \"1930\", \"1931\", \"1932\", \"1933\", \"1934\", \"1935\", \"1936\", \"1937\", \"1938\", \"1939\", \"1940\", \"1941\", \"1942\", \"1943\", \"1944\", \"1945\", \"1946\", \"1947\", \"1948\", \"1949\", \"1950\", \"1951\", \"1952\", \"1953\", \"1954\", \"1955\", \"1956\", \"1957\", \"1958\", \"1959\", \"1960\", \"1961\", \"1962\", \"1963\", \"1964\", \"1965\", \"1966\", \"1967\", \"1968\", \"1969\", \"1970\", \"1971\", \"1972\", \"1973\", \"1974\", \"1975\", \"1976\", \"1977\", \"1978\", \"1979\", \"1980\", \"1981\", \"1982\", \"1983\", \"1984\", \"1985\", \"1986\", \"1987\", \"1988\", \"1989\", \"1990\", \"1991\", \"1992\", \"1993\", \"1994\", \"1995\", \"1996\", \"1997\", \"1998\", \"1999\", \"2000\", \"2001\", \"2002\", \"2003\", \"2004\", \"2005\", \"2006\", \"2007\", \"2008\", \"2009\", \"2010\", \"2011\", \"2012\", \"2013\", \"2014\", \"2015\"], \"y\": [11.357181818181818, 10.757285714285715, 8.756833333333333, 11.564083333333333, 11.963583333333336, 12.205916666666667, 12.111916666666668, 13.048000000000002, 10.1065, 11.664, 10.274083333333333, 11.917333333333332, 12.13075, 10.648333333333332, 11.175583333333332, 10.679666666666666, 11.2415, 11.184166666666666, 9.047333333333334, 10.104666666666667, 10.472583333333333, 10.45775, 10.657333333333334, 10.58225, 12.187333333333331, 11.503666666666668, 11.168166666666668, 10.699083333333334, 11.41475, 11.489083333333333, 12.017750000000001, 10.606416666666664, 10.451833333333331, 10.17525, 10.117666666666668, 9.6025, 10.783583333333333, 10.393583333333334, 11.004999999999999, 10.202833333333333, 9.754, 10.018, 9.789416666666668, 10.503583333333331, 10.505, 10.393666666666666, 10.191666666666666, 10.556250000000002, 10.573583333333332, 10.244166666666665, 10.202916666666669, 10.171333333333335, 10.427166666666666, 10.136166666666666, 10.686666666666667, 10.251666666666665, 10.004166666666665, 9.873666666666665, 9.623666666666665, 9.211833333333333, 9.233666666666664, 8.955250000000001, 9.181833333333334, 9.448750000000002, 9.760250000000001, 9.205833333333334, 9.130416666666667, 8.684000000000001, 9.658000000000001, 8.951083333333333, 9.235, 9.465916666666665, 9.563583333333334, 9.080916666666667, 9.995000000000001, 9.897166666666667, 9.916166666666669, 10.25233333333333, 9.81375, 9.261583333333332, 9.948166666666667, 9.170666666666667, 8.990583333333333, 9.2465, 9.299000000000001, 8.667833333333332, 8.86525, 8.666583333333332, 8.677249999999999, 8.811666666666666, 8.787416666666667, 8.640166666666666, 8.92025, 8.923499999999999, 8.572333333333333, 8.732666666666667, 9.6045, 8.986666666666666, 8.850833333333334, 8.898, 8.777083333333334, 9.0605, 9.018416666666665, 8.876833333333334, 9.036166666666666, 8.997916666666665, 8.756666666666666, 8.509250000000002, 8.8, 8.926666666666668, 8.586833333333333, 8.499916666666667, 8.2475, 8.859833333333333, 8.660000000000002, 8.84, 8.898166666666665, 9.071166666666667, 8.79425, 9.02775, 8.7515, 8.685333333333332, 8.782916666666665, 8.901583333333333, 8.951416666666667, 8.311083333333334, 8.513583333333333, 8.9955, 9.254666666666665, 8.62925, 8.533666666666665, 8.69025, 8.508833333333333, 8.347583333333333, 8.169916666666667, 8.344666666666669, 8.340499999999999, 8.307, 8.472916666666666, 8.688833333333333, 8.314666666666668, 8.354666666666667, 8.404666666666666, 8.402, 8.47825, 8.446250000000001, 8.52375, 8.607166666666668, 8.503666666666666, 8.721083333333333, 8.816333333333333, 8.848166666666666, 8.597166666666666, 8.510166666666667, 8.377333333333333, 8.503916666666665, 8.653999999999998, 8.204333333333334, 8.460833333333333, 8.441, 8.483083333333335, 8.424833333333336, 8.423833333333334, 8.559999999999999, 8.842416666666667, 8.839333333333332, 8.485666666666667, 8.283999999999999, 8.399083333333332, 8.649000000000001, 8.621416666666667, 8.827833333333333, 8.666583333333334, 8.675249999999998, 8.763666666666667, 8.775166666666667, 8.971499999999999, 8.770999999999999, 8.88075, 8.494166666666665, 8.873249999999999, 8.957, 8.954166666666667, 8.580916666666667, 8.868416666666668, 8.751666666666667, 8.797083333333333, 8.938416666666665, 9.104166666666666, 8.997666666666667, 8.995750000000001, 8.996500000000001, 8.957916666666666, 8.981666666666667, 9.070166666666667, 8.805166666666665, 8.899333333333335, 9.014166666666666, 8.956333333333333, 8.794999999999998, 8.551583333333335, 8.809833333333332, 8.847000000000001, 9.085833333333335, 8.747833333333332, 8.779833333333334, 8.400416666666667, 8.8905, 8.878083333333333, 8.839833333333331, 8.67725, 8.894666666666666, 8.878833333333333, 8.948333333333332, 8.502166666666666, 8.63625, 8.691583333333332, 8.78375, 8.628, 8.68025, 8.776499999999999, 8.697166666666666, 8.594916666666666, 9.048999999999998, 8.572, 8.841916666666668, 8.447833333333332, 8.934916666666666, 8.796583333333333, 8.819833333333332, 9.087, 9.253083333333333, 8.721833333333333, 9.122166666666665, 8.794416666666669, 8.751249999999999, 8.918583333333332, 9.079583333333334, 9.281666666666666, 9.009999999999998, 9.320500000000001, 9.2415, 8.919916666666666, 8.947916666666666, 9.109666666666666, 9.423499999999999, 9.123666666666667, 9.291166666666667, 9.596583333333333, 9.364333333333333, 9.284666666666668, 9.502, 9.642833333333334, 9.61625, 9.408, 9.776083333333332, 9.622499999999999, 9.821666666666664, 9.510666666666667, 9.591166666666668, 9.786499999999998, 9.598, 9.59075, 9.704166666666666, 9.660833333333333, 9.923166666666665]}, {\"name\": \"LandAverageTemperature\", \"type\": \"scatter\", \"x\": [\"1750\", \"1751\", \"1752\", \"1753\", \"1754\", \"1755\", \"1756\", \"1757\", \"1758\", \"1759\", \"1760\", \"1761\", \"1762\", \"1763\", \"1764\", \"1765\", \"1766\", \"1767\", \"1768\", \"1769\", \"1770\", \"1771\", \"1772\", \"1773\", \"1774\", \"1775\", \"1776\", \"1777\", \"1778\", \"1779\", \"1780\", \"1781\", \"1782\", \"1783\", \"1784\", \"1785\", \"1786\", \"1787\", \"1788\", \"1789\", \"1790\", \"1791\", \"1792\", \"1793\", \"1794\", \"1795\", \"1796\", \"1797\", \"1798\", \"1799\", \"1800\", \"1801\", \"1802\", \"1803\", \"1804\", \"1805\", \"1806\", \"1807\", \"1808\", \"1809\", \"1810\", \"1811\", \"1812\", \"1813\", \"1814\", \"1815\", \"1816\", \"1817\", \"1818\", \"1819\", \"1820\", \"1821\", \"1822\", \"1823\", \"1824\", \"1825\", \"1826\", \"1827\", \"1828\", \"1829\", \"1830\", \"1831\", \"1832\", \"1833\", \"1834\", \"1835\", \"1836\", \"1837\", \"1838\", \"1839\", \"1840\", \"1841\", \"1842\", \"1843\", \"1844\", \"1845\", \"1846\", \"1847\", \"1848\", \"1849\", \"1850\", \"1851\", \"1852\", \"1853\", \"1854\", \"1855\", \"1856\", \"1857\", \"1858\", \"1859\", \"1860\", \"1861\", \"1862\", \"1863\", \"1864\", \"1865\", \"1866\", \"1867\", \"1868\", \"1869\", \"1870\", \"1871\", \"1872\", \"1873\", \"1874\", \"1875\", \"1876\", \"1877\", \"1878\", \"1879\", \"1880\", \"1881\", \"1882\", \"1883\", \"1884\", \"1885\", \"1886\", \"1887\", \"1888\", \"1889\", \"1890\", \"1891\", \"1892\", \"1893\", \"1894\", \"1895\", \"1896\", \"1897\", \"1898\", \"1899\", \"1900\", \"1901\", \"1902\", \"1903\", \"1904\", \"1905\", \"1906\", \"1907\", \"1908\", \"1909\", \"1910\", \"1911\", \"1912\", \"1913\", \"1914\", \"1915\", \"1916\", \"1917\", \"1918\", \"1919\", \"1920\", \"1921\", \"1922\", \"1923\", \"1924\", \"1925\", \"1926\", \"1927\", \"1928\", \"1929\", \"1930\", \"1931\", \"1932\", \"1933\", \"1934\", \"1935\", \"1936\", \"1937\", \"1938\", \"1939\", \"1940\", \"1941\", \"1942\", \"1943\", \"1944\", \"1945\", \"1946\", \"1947\", \"1948\", \"1949\", \"1950\", \"1951\", \"1952\", \"1953\", \"1954\", \"1955\", \"1956\", \"1957\", \"1958\", \"1959\", \"1960\", \"1961\", \"1962\", \"1963\", \"1964\", \"1965\", \"1966\", \"1967\", \"1968\", \"1969\", \"1970\", \"1971\", \"1972\", \"1973\", \"1974\", \"1975\", \"1976\", \"1977\", \"1978\", \"1979\", \"1980\", \"1981\", \"1982\", \"1983\", \"1984\", \"1985\", \"1986\", \"1987\", \"1988\", \"1989\", \"1990\", \"1991\", \"1992\", \"1993\", \"1994\", \"1995\", \"1996\", \"1997\", \"1998\", \"1999\", \"2000\", \"2001\", \"2002\", \"2003\", \"2004\", \"2005\", \"2006\", \"2007\", \"2008\", \"2009\", \"2010\", \"2011\", \"2012\", \"2013\", \"2014\", \"2015\"], \"y\": [8.719363636363637, 7.9761428571428565, 5.7798333333333325, 8.388083333333332, 8.469333333333335, 8.355583333333334, 8.849583333333333, 9.022, 6.743583333333333, 7.985083333333333, 7.185166666666667, 8.772499999999999, 8.6065, 7.496749999999999, 8.400333333333332, 8.251916666666666, 8.405666666666667, 8.221499999999999, 6.781333333333333, 7.694583333333334, 7.691916666666667, 7.8531666666666675, 8.1935, 8.2215, 8.772166666666665, 9.183083333333334, 8.304, 8.256250000000001, 8.54225, 8.98325, 9.432916666666667, 8.102583333333332, 7.901249999999998, 7.680833333333333, 7.862000000000001, 7.3629999999999995, 8.258166666666666, 8.031833333333333, 8.447166666666666, 8.334166666666667, 7.982333333333333, 8.23425, 8.089, 8.229166666666666, 8.526000000000002, 8.350333333333333, 8.270999999999999, 8.510583333333335, 8.67025, 8.505749999999999, 8.484250000000001, 8.589666666666668, 8.578166666666666, 8.503, 8.844833333333334, 8.56275, 8.434083333333332, 8.281416666666665, 7.626833333333333, 7.076416666666667, 6.922666666666665, 6.859500000000001, 7.046250000000001, 7.7399166666666686, 7.59175, 7.239333333333334, 6.9375, 6.975666666666668, 7.828916666666667, 7.3691666666666675, 7.616249999999998, 8.090083333333332, 8.188333333333334, 7.7186666666666675, 8.547166666666667, 8.389333333333333, 8.356583333333335, 8.808749999999998, 8.165333333333335, 7.941833333333332, 8.51675, 7.639166666666667, 7.450166666666667, 8.013, 8.14675, 7.392499999999999, 7.695833333333334, 7.375666666666665, 7.514916666666665, 7.632249999999999, 7.796250000000001, 7.688166666666667, 8.02275, 8.173666666666666, 7.646333333333334, 7.851166666666668, 8.55275, 8.086, 7.979500000000001, 7.984416666666667, 7.900666666666666, 8.178583333333332, 8.100166666666665, 8.041833333333333, 8.2105, 8.110749999999998, 7.995916666666666, 7.758166666666668, 8.10025, 8.252, 7.960833333333333, 7.846500000000002, 7.558583333333334, 8.111833333333333, 7.983583333333335, 8.177833333333334, 8.292166666666665, 8.436333333333334, 8.247916666666667, 8.432083333333333, 8.201333333333332, 8.115083333333333, 8.193833333333332, 8.351083333333333, 8.4335, 7.859583333333334, 8.080083333333333, 8.539583333333333, 8.829749999999999, 8.165833333333333, 8.118749999999999, 8.270916666666666, 8.128916666666667, 7.976916666666665, 7.773666666666667, 7.919666666666668, 7.954499999999999, 7.914916666666667, 8.0905, 8.318999999999999, 7.971666666666667, 8.019333333333334, 8.065833333333332, 8.05675, 8.161, 8.147, 8.214916666666666, 8.293333333333335, 8.177999999999999, 8.396333333333333, 8.501583333333333, 8.541916666666665, 8.304416666666667, 8.220166666666668, 8.090916666666667, 8.225166666666665, 8.379083333333332, 7.947166666666667, 8.186083333333334, 8.17825, 8.223, 8.177000000000001, 8.165416666666667, 8.297749999999999, 8.5905, 8.593166666666665, 8.22525, 8.023333333333332, 8.130833333333332, 8.38225, 8.35875, 8.571, 8.408, 8.422166666666666, 8.506833333333335, 8.534416666666667, 8.728833333333332, 8.522083333333333, 8.632166666666668, 8.242416666666665, 8.633583333333332, 8.71925, 8.705250000000001, 8.33825, 8.628333333333336, 8.51575, 8.554, 8.698333333333332, 8.863666666666665, 8.760333333333334, 8.764666666666667, 8.768666666666668, 8.728416666666666, 8.755083333333333, 8.845, 8.584833333333332, 8.676916666666669, 8.797083333333333, 8.74675, 8.586749999999999, 8.365250000000001, 8.625666666666666, 8.638250000000001, 8.873750000000001, 8.560666666666666, 8.62625, 8.279583333333333, 8.7325, 8.77375, 8.732666666666665, 8.58375, 8.797666666666666, 8.745916666666666, 8.856, 8.409666666666666, 8.527416666666667, 8.599333333333332, 8.700083333333334, 8.516333333333334, 8.595083333333333, 8.700916666666666, 8.59925, 8.499583333333334, 8.948249999999998, 8.4675, 8.744833333333334, 8.347249999999999, 8.850249999999999, 8.692749999999998, 8.733416666666665, 8.980333333333332, 9.165833333333333, 8.639166666666666, 9.028166666666666, 8.691833333333335, 8.658, 8.833583333333332, 8.994416666666668, 9.201583333333334, 8.921999999999999, 9.234166666666667, 9.179416666666667, 8.836583333333332, 8.866583333333333, 9.038749999999999, 9.347083333333332, 9.038916666666667, 9.202583333333333, 9.522666666666666, 9.285083333333333, 9.201166666666667, 9.414583333333335, 9.570416666666667, 9.525583333333334, 9.324583333333333, 9.700916666666666, 9.532499999999999, 9.732166666666664, 9.431750000000001, 9.505250000000002, 9.703083333333332, 9.516, 9.507333333333333, 9.606499999999999, 9.570666666666666, 9.830999999999998]}, {\"name\": \"Uncertainity_bottom\", \"type\": \"scatter\", \"x\": [\"1750\", \"1751\", \"1752\", \"1753\", \"1754\", \"1755\", \"1756\", \"1757\", \"1758\", \"1759\", \"1760\", \"1761\", \"1762\", \"1763\", \"1764\", \"1765\", \"1766\", \"1767\", \"1768\", \"1769\", \"1770\", \"1771\", \"1772\", \"1773\", \"1774\", \"1775\", \"1776\", \"1777\", \"1778\", \"1779\", \"1780\", \"1781\", \"1782\", \"1783\", \"1784\", \"1785\", \"1786\", \"1787\", \"1788\", \"1789\", \"1790\", \"1791\", \"1792\", \"1793\", \"1794\", \"1795\", \"1796\", \"1797\", \"1798\", \"1799\", \"1800\", \"1801\", \"1802\", \"1803\", \"1804\", \"1805\", \"1806\", \"1807\", \"1808\", \"1809\", \"1810\", \"1811\", \"1812\", \"1813\", \"1814\", \"1815\", \"1816\", \"1817\", \"1818\", \"1819\", \"1820\", \"1821\", \"1822\", \"1823\", \"1824\", \"1825\", \"1826\", \"1827\", \"1828\", \"1829\", \"1830\", \"1831\", \"1832\", \"1833\", \"1834\", \"1835\", \"1836\", \"1837\", \"1838\", \"1839\", \"1840\", \"1841\", \"1842\", \"1843\", \"1844\", \"1845\", \"1846\", \"1847\", \"1848\", \"1849\", \"1850\", \"1851\", \"1852\", \"1853\", \"1854\", \"1855\", \"1856\", \"1857\", \"1858\", \"1859\", \"1860\", \"1861\", \"1862\", \"1863\", \"1864\", \"1865\", \"1866\", \"1867\", \"1868\", \"1869\", \"1870\", \"1871\", \"1872\", \"1873\", \"1874\", \"1875\", \"1876\", \"1877\", \"1878\", \"1879\", \"1880\", \"1881\", \"1882\", \"1883\", \"1884\", \"1885\", \"1886\", \"1887\", \"1888\", \"1889\", \"1890\", \"1891\", \"1892\", \"1893\", \"1894\", \"1895\", \"1896\", \"1897\", \"1898\", \"1899\", \"1900\", \"1901\", \"1902\", \"1903\", \"1904\", \"1905\", \"1906\", \"1907\", \"1908\", \"1909\", \"1910\", \"1911\", \"1912\", \"1913\", \"1914\", \"1915\", \"1916\", \"1917\", \"1918\", \"1919\", \"1920\", \"1921\", \"1922\", \"1923\", \"1924\", \"1925\", \"1926\", \"1927\", \"1928\", \"1929\", \"1930\", \"1931\", \"1932\", \"1933\", \"1934\", \"1935\", \"1936\", \"1937\", \"1938\", \"1939\", \"1940\", \"1941\", \"1942\", \"1943\", \"1944\", \"1945\", \"1946\", \"1947\", \"1948\", \"1949\", \"1950\", \"1951\", \"1952\", \"1953\", \"1954\", \"1955\", \"1956\", \"1957\", \"1958\", \"1959\", \"1960\", \"1961\", \"1962\", \"1963\", \"1964\", \"1965\", \"1966\", \"1967\", \"1968\", \"1969\", \"1970\", \"1971\", \"1972\", \"1973\", \"1974\", \"1975\", \"1976\", \"1977\", \"1978\", \"1979\", \"1980\", \"1981\", \"1982\", \"1983\", \"1984\", \"1985\", \"1986\", \"1987\", \"1988\", \"1989\", \"1990\", \"1991\", \"1992\", \"1993\", \"1994\", \"1995\", \"1996\", \"1997\", \"1998\", \"1999\", \"2000\", \"2001\", \"2002\", \"2003\", \"2004\", \"2005\", \"2006\", \"2007\", \"2008\", \"2009\", \"2010\", \"2011\", \"2012\", \"2013\", \"2014\", \"2015\"], \"y\": [6.081545454545456, 5.194999999999999, 2.8028333333333326, 5.212083333333332, 4.975083333333334, 4.50525, 5.587249999999999, 4.9959999999999996, 3.3806666666666656, 4.306166666666666, 4.096250000000001, 5.627666666666666, 5.08225, 4.345166666666666, 5.6250833333333325, 5.824166666666666, 5.569833333333333, 5.258833333333332, 4.515333333333333, 5.284500000000001, 4.91125, 5.248583333333334, 5.729666666666667, 5.860750000000001, 5.356999999999999, 6.862500000000001, 5.439833333333333, 5.813416666666669, 5.669749999999999, 6.477416666666667, 6.848083333333333, 5.598749999999998, 5.350666666666665, 5.186416666666666, 5.606333333333334, 5.1235, 5.732749999999999, 5.6700833333333325, 5.889333333333333, 6.4655, 6.210666666666667, 6.450499999999999, 6.388583333333334, 5.95475, 6.5470000000000015, 6.307, 6.3503333333333325, 6.464916666666667, 6.766916666666666, 6.767333333333332, 6.765583333333335, 7.008000000000001, 6.729166666666666, 6.869833333333333, 7.003, 6.873833333333333, 6.863999999999998, 6.689166666666665, 5.63, 4.941000000000001, 4.611666666666666, 4.76375, 4.910666666666668, 6.031083333333335, 5.4232499999999995, 5.272833333333334, 4.744583333333333, 5.267333333333335, 5.999833333333334, 5.787250000000001, 5.997499999999998, 6.714249999999999, 6.813083333333334, 6.356416666666667, 7.099333333333334, 6.8815, 6.7970000000000015, 7.365166666666664, 6.516916666666668, 6.622083333333332, 7.085333333333334, 6.107666666666667, 5.909750000000001, 6.7795, 6.994500000000001, 6.117166666666666, 6.526416666666667, 6.084749999999998, 6.352583333333332, 6.4528333333333325, 6.805083333333334, 6.736166666666667, 7.12525, 7.423833333333333, 6.7203333333333335, 6.969666666666668, 7.5009999999999994, 7.185333333333333, 7.108166666666667, 7.070833333333334, 7.024249999999999, 7.296666666666665, 7.181916666666664, 7.206833333333333, 7.384833333333333, 7.223583333333331, 7.235166666666666, 7.007083333333334, 7.400500000000001, 7.577333333333334, 7.334833333333333, 7.193083333333335, 6.869666666666667, 7.363833333333333, 7.307166666666668, 7.515666666666667, 7.686166666666665, 7.801500000000001, 7.701583333333334, 7.836416666666667, 7.651166666666666, 7.544833333333333, 7.604749999999998, 7.800583333333334, 7.915583333333334, 7.408083333333334, 7.646583333333333, 8.083666666666666, 8.404833333333332, 7.702416666666667, 7.703833333333332, 7.851583333333333, 7.7490000000000006, 7.606249999999998, 7.377416666666667, 7.494666666666668, 7.5684999999999985, 7.522833333333333, 7.708083333333334, 7.949166666666666, 7.628666666666667, 7.684, 7.7269999999999985, 7.711499999999999, 7.84375, 7.8477500000000004, 7.906083333333332, 7.979500000000002, 7.852333333333332, 8.071583333333333, 8.186833333333333, 8.235666666666665, 8.011666666666667, 7.9301666666666675, 7.8045, 7.946416666666665, 8.104166666666666, 7.69, 7.911333333333334, 7.915500000000001, 7.9629166666666675, 7.929166666666668, 7.907000000000001, 8.035499999999999, 8.338583333333334, 8.346999999999998, 7.964833333333334, 7.762666666666665, 7.8625833333333315, 8.1155, 8.096083333333334, 8.314166666666667, 8.149416666666665, 8.169083333333333, 8.250000000000002, 8.293666666666667, 8.486166666666666, 8.273166666666667, 8.383583333333336, 7.990666666666665, 8.393916666666666, 8.4815, 8.456333333333335, 8.095583333333334, 8.388250000000003, 8.279833333333334, 8.310916666666667, 8.45825, 8.623166666666664, 8.523, 8.533583333333333, 8.540833333333335, 8.498916666666666, 8.5285, 8.619833333333334, 8.3645, 8.454500000000003, 8.58, 8.537166666666668, 8.378499999999999, 8.178916666666668, 8.4415, 8.4295, 8.661666666666667, 8.3735, 8.472666666666667, 8.15875, 8.5745, 8.669416666666667, 8.625499999999999, 8.49025, 8.700666666666667, 8.613, 8.763666666666667, 8.317166666666667, 8.418583333333334, 8.507083333333332, 8.616416666666668, 8.404666666666667, 8.509916666666667, 8.625333333333334, 8.501333333333333, 8.404250000000001, 8.847499999999998, 8.363, 8.64775, 8.246666666666666, 8.765583333333332, 8.588916666666664, 8.646999999999998, 8.873666666666665, 9.078583333333334, 8.5565, 8.934166666666666, 8.589250000000002, 8.56475, 8.74858333333333, 8.909250000000002, 9.121500000000001, 8.834, 9.147833333333333, 9.117333333333333, 8.753249999999998, 8.78525, 8.967833333333331, 9.270666666666665, 8.954166666666667, 9.113999999999999, 9.448749999999999, 9.205833333333333, 9.117666666666667, 9.327166666666669, 9.498, 9.434916666666666, 9.241166666666667, 9.62575, 9.442499999999999, 9.642666666666665, 9.352833333333335, 9.419333333333336, 9.619666666666665, 9.434, 9.423916666666667, 9.508833333333332, 9.4805, 9.73883333333333]}],\n",
              "                        {\"template\": {\"data\": {\"bar\": [{\"error_x\": {\"color\": \"#2a3f5f\"}, \"error_y\": {\"color\": \"#2a3f5f\"}, \"marker\": {\"line\": {\"color\": \"#E5ECF6\", \"width\": 0.5}}, \"type\": \"bar\"}], \"barpolar\": [{\"marker\": {\"line\": {\"color\": \"#E5ECF6\", \"width\": 0.5}}, \"type\": \"barpolar\"}], \"carpet\": [{\"aaxis\": {\"endlinecolor\": \"#2a3f5f\", \"gridcolor\": \"white\", \"linecolor\": \"white\", \"minorgridcolor\": \"white\", \"startlinecolor\": \"#2a3f5f\"}, \"baxis\": {\"endlinecolor\": \"#2a3f5f\", \"gridcolor\": \"white\", \"linecolor\": \"white\", \"minorgridcolor\": \"white\", \"startlinecolor\": \"#2a3f5f\"}, \"type\": \"carpet\"}], \"choropleth\": [{\"colorbar\": {\"outlinewidth\": 0, \"ticks\": \"\"}, \"type\": \"choropleth\"}], \"contour\": [{\"colorbar\": {\"outlinewidth\": 0, \"ticks\": \"\"}, \"colorscale\": [[0.0, \"#0d0887\"], [0.1111111111111111, \"#46039f\"], [0.2222222222222222, \"#7201a8\"], [0.3333333333333333, \"#9c179e\"], [0.4444444444444444, \"#bd3786\"], [0.5555555555555556, \"#d8576b\"], [0.6666666666666666, \"#ed7953\"], [0.7777777777777778, \"#fb9f3a\"], [0.8888888888888888, \"#fdca26\"], [1.0, \"#f0f921\"]], \"type\": \"contour\"}], \"contourcarpet\": [{\"colorbar\": {\"outlinewidth\": 0, \"ticks\": \"\"}, \"type\": \"contourcarpet\"}], \"heatmap\": [{\"colorbar\": {\"outlinewidth\": 0, \"ticks\": \"\"}, \"colorscale\": [[0.0, \"#0d0887\"], [0.1111111111111111, \"#46039f\"], [0.2222222222222222, \"#7201a8\"], [0.3333333333333333, \"#9c179e\"], [0.4444444444444444, \"#bd3786\"], [0.5555555555555556, \"#d8576b\"], [0.6666666666666666, \"#ed7953\"], [0.7777777777777778, \"#fb9f3a\"], [0.8888888888888888, \"#fdca26\"], [1.0, \"#f0f921\"]], \"type\": \"heatmap\"}], \"heatmapgl\": [{\"colorbar\": {\"outlinewidth\": 0, \"ticks\": \"\"}, \"colorscale\": [[0.0, \"#0d0887\"], [0.1111111111111111, \"#46039f\"], [0.2222222222222222, \"#7201a8\"], [0.3333333333333333, \"#9c179e\"], [0.4444444444444444, \"#bd3786\"], [0.5555555555555556, \"#d8576b\"], [0.6666666666666666, \"#ed7953\"], [0.7777777777777778, \"#fb9f3a\"], [0.8888888888888888, \"#fdca26\"], [1.0, \"#f0f921\"]], \"type\": \"heatmapgl\"}], \"histogram\": [{\"marker\": {\"colorbar\": {\"outlinewidth\": 0, \"ticks\": \"\"}}, \"type\": \"histogram\"}], \"histogram2d\": [{\"colorbar\": {\"outlinewidth\": 0, \"ticks\": \"\"}, \"colorscale\": [[0.0, \"#0d0887\"], [0.1111111111111111, \"#46039f\"], [0.2222222222222222, \"#7201a8\"], [0.3333333333333333, \"#9c179e\"], [0.4444444444444444, \"#bd3786\"], [0.5555555555555556, \"#d8576b\"], [0.6666666666666666, \"#ed7953\"], [0.7777777777777778, \"#fb9f3a\"], [0.8888888888888888, \"#fdca26\"], [1.0, \"#f0f921\"]], \"type\": \"histogram2d\"}], \"histogram2dcontour\": [{\"colorbar\": {\"outlinewidth\": 0, \"ticks\": \"\"}, \"colorscale\": [[0.0, \"#0d0887\"], [0.1111111111111111, \"#46039f\"], [0.2222222222222222, \"#7201a8\"], [0.3333333333333333, \"#9c179e\"], [0.4444444444444444, \"#bd3786\"], [0.5555555555555556, \"#d8576b\"], [0.6666666666666666, \"#ed7953\"], [0.7777777777777778, \"#fb9f3a\"], [0.8888888888888888, \"#fdca26\"], [1.0, \"#f0f921\"]], \"type\": \"histogram2dcontour\"}], \"mesh3d\": [{\"colorbar\": {\"outlinewidth\": 0, \"ticks\": \"\"}, \"type\": \"mesh3d\"}], \"parcoords\": [{\"line\": {\"colorbar\": {\"outlinewidth\": 0, \"ticks\": \"\"}}, \"type\": \"parcoords\"}], \"pie\": [{\"automargin\": true, \"type\": \"pie\"}], \"scatter\": [{\"marker\": {\"colorbar\": {\"outlinewidth\": 0, \"ticks\": \"\"}}, \"type\": \"scatter\"}], \"scatter3d\": [{\"line\": {\"colorbar\": {\"outlinewidth\": 0, \"ticks\": \"\"}}, \"marker\": {\"colorbar\": {\"outlinewidth\": 0, \"ticks\": \"\"}}, \"type\": \"scatter3d\"}], \"scattercarpet\": [{\"marker\": {\"colorbar\": {\"outlinewidth\": 0, \"ticks\": \"\"}}, \"type\": \"scattercarpet\"}], \"scattergeo\": [{\"marker\": {\"colorbar\": {\"outlinewidth\": 0, \"ticks\": \"\"}}, \"type\": \"scattergeo\"}], \"scattergl\": [{\"marker\": {\"colorbar\": {\"outlinewidth\": 0, \"ticks\": \"\"}}, \"type\": \"scattergl\"}], \"scattermapbox\": [{\"marker\": {\"colorbar\": {\"outlinewidth\": 0, \"ticks\": \"\"}}, \"type\": \"scattermapbox\"}], \"scatterpolar\": [{\"marker\": {\"colorbar\": {\"outlinewidth\": 0, \"ticks\": \"\"}}, \"type\": \"scatterpolar\"}], \"scatterpolargl\": [{\"marker\": {\"colorbar\": {\"outlinewidth\": 0, \"ticks\": \"\"}}, \"type\": \"scatterpolargl\"}], \"scatterternary\": [{\"marker\": {\"colorbar\": {\"outlinewidth\": 0, \"ticks\": \"\"}}, \"type\": \"scatterternary\"}], \"surface\": [{\"colorbar\": {\"outlinewidth\": 0, \"ticks\": \"\"}, \"colorscale\": [[0.0, \"#0d0887\"], [0.1111111111111111, \"#46039f\"], [0.2222222222222222, \"#7201a8\"], [0.3333333333333333, \"#9c179e\"], [0.4444444444444444, \"#bd3786\"], [0.5555555555555556, \"#d8576b\"], [0.6666666666666666, \"#ed7953\"], [0.7777777777777778, \"#fb9f3a\"], [0.8888888888888888, \"#fdca26\"], [1.0, \"#f0f921\"]], \"type\": \"surface\"}], \"table\": [{\"cells\": {\"fill\": {\"color\": \"#EBF0F8\"}, \"line\": {\"color\": \"white\"}}, \"header\": {\"fill\": {\"color\": \"#C8D4E3\"}, \"line\": {\"color\": \"white\"}}, \"type\": \"table\"}]}, \"layout\": {\"annotationdefaults\": {\"arrowcolor\": \"#2a3f5f\", \"arrowhead\": 0, \"arrowwidth\": 1}, \"coloraxis\": {\"colorbar\": {\"outlinewidth\": 0, \"ticks\": \"\"}}, \"colorscale\": {\"diverging\": [[0, \"#8e0152\"], [0.1, \"#c51b7d\"], [0.2, \"#de77ae\"], [0.3, \"#f1b6da\"], [0.4, \"#fde0ef\"], [0.5, \"#f7f7f7\"], [0.6, \"#e6f5d0\"], [0.7, \"#b8e186\"], [0.8, \"#7fbc41\"], [0.9, \"#4d9221\"], [1, \"#276419\"]], \"sequential\": [[0.0, \"#0d0887\"], [0.1111111111111111, \"#46039f\"], [0.2222222222222222, \"#7201a8\"], [0.3333333333333333, \"#9c179e\"], [0.4444444444444444, \"#bd3786\"], [0.5555555555555556, \"#d8576b\"], [0.6666666666666666, \"#ed7953\"], [0.7777777777777778, \"#fb9f3a\"], [0.8888888888888888, \"#fdca26\"], [1.0, \"#f0f921\"]], \"sequentialminus\": [[0.0, \"#0d0887\"], [0.1111111111111111, \"#46039f\"], [0.2222222222222222, \"#7201a8\"], [0.3333333333333333, \"#9c179e\"], [0.4444444444444444, \"#bd3786\"], [0.5555555555555556, \"#d8576b\"], [0.6666666666666666, \"#ed7953\"], [0.7777777777777778, \"#fb9f3a\"], [0.8888888888888888, \"#fdca26\"], [1.0, \"#f0f921\"]]}, \"colorway\": [\"#636efa\", \"#EF553B\", \"#00cc96\", \"#ab63fa\", \"#FFA15A\", \"#19d3f3\", \"#FF6692\", \"#B6E880\", \"#FF97FF\", \"#FECB52\"], \"font\": {\"color\": \"#2a3f5f\"}, \"geo\": {\"bgcolor\": \"white\", \"lakecolor\": \"white\", \"landcolor\": \"#E5ECF6\", \"showlakes\": true, \"showland\": true, \"subunitcolor\": \"white\"}, \"hoverlabel\": {\"align\": \"left\"}, \"hovermode\": \"closest\", \"mapbox\": {\"style\": \"light\"}, \"paper_bgcolor\": \"white\", \"plot_bgcolor\": \"#E5ECF6\", \"polar\": {\"angularaxis\": {\"gridcolor\": \"white\", \"linecolor\": \"white\", \"ticks\": \"\"}, \"bgcolor\": \"#E5ECF6\", \"radialaxis\": {\"gridcolor\": \"white\", \"linecolor\": \"white\", \"ticks\": \"\"}}, \"scene\": {\"xaxis\": {\"backgroundcolor\": \"#E5ECF6\", \"gridcolor\": \"white\", \"gridwidth\": 2, \"linecolor\": \"white\", \"showbackground\": true, \"ticks\": \"\", \"zerolinecolor\": \"white\"}, \"yaxis\": {\"backgroundcolor\": \"#E5ECF6\", \"gridcolor\": \"white\", \"gridwidth\": 2, \"linecolor\": \"white\", \"showbackground\": true, \"ticks\": \"\", \"zerolinecolor\": \"white\"}, \"zaxis\": {\"backgroundcolor\": \"#E5ECF6\", \"gridcolor\": \"white\", \"gridwidth\": 2, \"linecolor\": \"white\", \"showbackground\": true, \"ticks\": \"\", \"zerolinecolor\": \"white\"}}, \"shapedefaults\": {\"line\": {\"color\": \"#2a3f5f\"}}, \"ternary\": {\"aaxis\": {\"gridcolor\": \"white\", \"linecolor\": \"white\", \"ticks\": \"\"}, \"baxis\": {\"gridcolor\": \"white\", \"linecolor\": \"white\", \"ticks\": \"\"}, \"bgcolor\": \"#E5ECF6\", \"caxis\": {\"gridcolor\": \"white\", \"linecolor\": \"white\", \"ticks\": \"\"}}, \"title\": {\"x\": 0.05}, \"xaxis\": {\"automargin\": true, \"gridcolor\": \"white\", \"linecolor\": \"white\", \"ticks\": \"\", \"title\": {\"standoff\": 15}, \"zerolinecolor\": \"white\", \"zerolinewidth\": 2}, \"yaxis\": {\"automargin\": true, \"gridcolor\": \"white\", \"linecolor\": \"white\", \"ticks\": \"\", \"title\": {\"standoff\": 15}, \"zerolinecolor\": \"white\", \"zerolinewidth\": 2}}}},\n",
              "                        {\"responsive\": true}\n",
              "                    ).then(function(){\n",
              "                            \n",
              "var gd = document.getElementById('f99350b4-165b-471d-b4dd-bf17ef15363b');\n",
              "var x = new MutationObserver(function (mutations, observer) {{\n",
              "        var display = window.getComputedStyle(gd).display;\n",
              "        if (!display || display === 'none') {{\n",
              "            console.log([gd, 'removed!']);\n",
              "            Plotly.purge(gd);\n",
              "            observer.disconnect();\n",
              "        }}\n",
              "}});\n",
              "\n",
              "// Listen for the removal of the full notebook cells\n",
              "var notebookContainer = gd.closest('#notebook-container');\n",
              "if (notebookContainer) {{\n",
              "    x.observe(notebookContainer, {childList: true});\n",
              "}}\n",
              "\n",
              "// Listen for the clearing of the current output cell\n",
              "var outputEl = gd.closest('.output');\n",
              "if (outputEl) {{\n",
              "    x.observe(outputEl, {childList: true});\n",
              "}}\n",
              "\n",
              "                        })\n",
              "                };\n",
              "                \n",
              "            </script>\n",
              "        </div>\n",
              "</body>\n",
              "</html>"
            ]
          },
          "metadata": {
            "tags": []
          }
        }
      ]
    },
    {
      "cell_type": "markdown",
      "metadata": {
        "id": "wHiNHjA6B_bl"
      },
      "source": [
        "From the charts you can see, that there is global warming nowadays. The average temperature of Earth surface has the highest value in the last three centuries. The fastest temperature growth occurred in the last 30 years"
      ]
    },
    {
      "cell_type": "markdown",
      "metadata": {
        "id": "3q4pLT218YoQ"
      },
      "source": [
        "### Analyse Average temperature in each season"
      ]
    },
    {
      "cell_type": "code",
      "metadata": {
        "colab": {
          "base_uri": "https://localhost:8080/",
          "height": 304
        },
        "id": "JpTK1Ylk8YoQ",
        "outputId": "1069e902-2f90-41e5-ba90-b2c14ea2946f"
      },
      "source": [
        "global_temp.head()"
      ],
      "execution_count": null,
      "outputs": [
        {
          "output_type": "execute_result",
          "data": {
            "text/html": [
              "<div>\n",
              "<style scoped>\n",
              "    .dataframe tbody tr th:only-of-type {\n",
              "        vertical-align: middle;\n",
              "    }\n",
              "\n",
              "    .dataframe tbody tr th {\n",
              "        vertical-align: top;\n",
              "    }\n",
              "\n",
              "    .dataframe thead th {\n",
              "        text-align: right;\n",
              "    }\n",
              "</style>\n",
              "<table border=\"1\" class=\"dataframe\">\n",
              "  <thead>\n",
              "    <tr style=\"text-align: right;\">\n",
              "      <th></th>\n",
              "      <th>dt</th>\n",
              "      <th>LandAverageTemperature</th>\n",
              "      <th>LandAverageTemperatureUncertainty</th>\n",
              "      <th>LandMaxTemperature</th>\n",
              "      <th>LandMaxTemperatureUncertainty</th>\n",
              "      <th>LandMinTemperature</th>\n",
              "      <th>LandMinTemperatureUncertainty</th>\n",
              "      <th>LandAndOceanAverageTemperature</th>\n",
              "      <th>LandAndOceanAverageTemperatureUncertainty</th>\n",
              "      <th>years</th>\n",
              "    </tr>\n",
              "  </thead>\n",
              "  <tbody>\n",
              "    <tr>\n",
              "      <th>0</th>\n",
              "      <td>1750-01-01</td>\n",
              "      <td>3.034</td>\n",
              "      <td>3.574</td>\n",
              "      <td>NaN</td>\n",
              "      <td>NaN</td>\n",
              "      <td>NaN</td>\n",
              "      <td>NaN</td>\n",
              "      <td>NaN</td>\n",
              "      <td>NaN</td>\n",
              "      <td>1750</td>\n",
              "    </tr>\n",
              "    <tr>\n",
              "      <th>1</th>\n",
              "      <td>1750-02-01</td>\n",
              "      <td>3.083</td>\n",
              "      <td>3.702</td>\n",
              "      <td>NaN</td>\n",
              "      <td>NaN</td>\n",
              "      <td>NaN</td>\n",
              "      <td>NaN</td>\n",
              "      <td>NaN</td>\n",
              "      <td>NaN</td>\n",
              "      <td>1750</td>\n",
              "    </tr>\n",
              "    <tr>\n",
              "      <th>2</th>\n",
              "      <td>1750-03-01</td>\n",
              "      <td>5.626</td>\n",
              "      <td>3.076</td>\n",
              "      <td>NaN</td>\n",
              "      <td>NaN</td>\n",
              "      <td>NaN</td>\n",
              "      <td>NaN</td>\n",
              "      <td>NaN</td>\n",
              "      <td>NaN</td>\n",
              "      <td>1750</td>\n",
              "    </tr>\n",
              "    <tr>\n",
              "      <th>3</th>\n",
              "      <td>1750-04-01</td>\n",
              "      <td>8.490</td>\n",
              "      <td>2.451</td>\n",
              "      <td>NaN</td>\n",
              "      <td>NaN</td>\n",
              "      <td>NaN</td>\n",
              "      <td>NaN</td>\n",
              "      <td>NaN</td>\n",
              "      <td>NaN</td>\n",
              "      <td>1750</td>\n",
              "    </tr>\n",
              "    <tr>\n",
              "      <th>4</th>\n",
              "      <td>1750-05-01</td>\n",
              "      <td>11.573</td>\n",
              "      <td>2.072</td>\n",
              "      <td>NaN</td>\n",
              "      <td>NaN</td>\n",
              "      <td>NaN</td>\n",
              "      <td>NaN</td>\n",
              "      <td>NaN</td>\n",
              "      <td>NaN</td>\n",
              "      <td>1750</td>\n",
              "    </tr>\n",
              "  </tbody>\n",
              "</table>\n",
              "</div>"
            ],
            "text/plain": [
              "           dt  ...  years\n",
              "0  1750-01-01  ...   1750\n",
              "1  1750-02-01  ...   1750\n",
              "2  1750-03-01  ...   1750\n",
              "3  1750-04-01  ...   1750\n",
              "4  1750-05-01  ...   1750\n",
              "\n",
              "[5 rows x 10 columns]"
            ]
          },
          "metadata": {
            "tags": []
          },
          "execution_count": 24
        }
      ]
    },
    {
      "cell_type": "code",
      "metadata": {
        "colab": {
          "base_uri": "https://localhost:8080/"
        },
        "id": "dKwAhMHE8YoR",
        "outputId": "86c6b1e6-6c57-43c4-8032-3800b26d846d"
      },
      "source": [
        "global_temp.dtypes"
      ],
      "execution_count": null,
      "outputs": [
        {
          "output_type": "execute_result",
          "data": {
            "text/plain": [
              "dt                                            object\n",
              "LandAverageTemperature                       float64\n",
              "LandAverageTemperatureUncertainty            float64\n",
              "LandMaxTemperature                           float64\n",
              "LandMaxTemperatureUncertainty                float64\n",
              "LandMinTemperature                           float64\n",
              "LandMinTemperatureUncertainty                float64\n",
              "LandAndOceanAverageTemperature               float64\n",
              "LandAndOceanAverageTemperatureUncertainty    float64\n",
              "years                                         object\n",
              "dtype: object"
            ]
          },
          "metadata": {
            "tags": []
          },
          "execution_count": 25
        }
      ]
    },
    {
      "cell_type": "code",
      "metadata": {
        "id": "VinenmP_8YoS"
      },
      "source": [
        "global_temp['dt']=pd.to_datetime(global_temp['dt'])"
      ],
      "execution_count": null,
      "outputs": []
    },
    {
      "cell_type": "code",
      "metadata": {
        "colab": {
          "base_uri": "https://localhost:8080/"
        },
        "id": "wfCM91cB8YoS",
        "outputId": "fa1548ee-d367-4f65-c3a0-6b3c111f1843"
      },
      "source": [
        "global_temp.dtypes"
      ],
      "execution_count": null,
      "outputs": [
        {
          "output_type": "execute_result",
          "data": {
            "text/plain": [
              "dt                                           datetime64[ns]\n",
              "LandAverageTemperature                              float64\n",
              "LandAverageTemperatureUncertainty                   float64\n",
              "LandMaxTemperature                                  float64\n",
              "LandMaxTemperatureUncertainty                       float64\n",
              "LandMinTemperature                                  float64\n",
              "LandMinTemperatureUncertainty                       float64\n",
              "LandAndOceanAverageTemperature                      float64\n",
              "LandAndOceanAverageTemperatureUncertainty           float64\n",
              "years                                                object\n",
              "dtype: object"
            ]
          },
          "metadata": {
            "tags": []
          },
          "execution_count": 27
        }
      ]
    },
    {
      "cell_type": "markdown",
      "metadata": {
        "id": "4pnjU-6nCsi1"
      },
      "source": [
        "To fetch the month alone"
      ]
    },
    {
      "cell_type": "code",
      "metadata": {
        "id": "zLUQOkf98YoT"
      },
      "source": [
        "global_temp['month']=global_temp['dt'].dt.month"
      ],
      "execution_count": null,
      "outputs": []
    },
    {
      "cell_type": "code",
      "metadata": {
        "colab": {
          "base_uri": "https://localhost:8080/",
          "height": 777
        },
        "id": "oR58L3-V8YoU",
        "outputId": "83cdd654-3ce2-471d-ee0b-7c9ce20d46c6"
      },
      "source": [
        "global_temp.head(15)"
      ],
      "execution_count": null,
      "outputs": [
        {
          "output_type": "execute_result",
          "data": {
            "text/html": [
              "<div>\n",
              "<style scoped>\n",
              "    .dataframe tbody tr th:only-of-type {\n",
              "        vertical-align: middle;\n",
              "    }\n",
              "\n",
              "    .dataframe tbody tr th {\n",
              "        vertical-align: top;\n",
              "    }\n",
              "\n",
              "    .dataframe thead th {\n",
              "        text-align: right;\n",
              "    }\n",
              "</style>\n",
              "<table border=\"1\" class=\"dataframe\">\n",
              "  <thead>\n",
              "    <tr style=\"text-align: right;\">\n",
              "      <th></th>\n",
              "      <th>dt</th>\n",
              "      <th>LandAverageTemperature</th>\n",
              "      <th>LandAverageTemperatureUncertainty</th>\n",
              "      <th>LandMaxTemperature</th>\n",
              "      <th>LandMaxTemperatureUncertainty</th>\n",
              "      <th>LandMinTemperature</th>\n",
              "      <th>LandMinTemperatureUncertainty</th>\n",
              "      <th>LandAndOceanAverageTemperature</th>\n",
              "      <th>LandAndOceanAverageTemperatureUncertainty</th>\n",
              "      <th>years</th>\n",
              "      <th>month</th>\n",
              "    </tr>\n",
              "  </thead>\n",
              "  <tbody>\n",
              "    <tr>\n",
              "      <th>0</th>\n",
              "      <td>1750-01-01</td>\n",
              "      <td>3.034</td>\n",
              "      <td>3.574</td>\n",
              "      <td>NaN</td>\n",
              "      <td>NaN</td>\n",
              "      <td>NaN</td>\n",
              "      <td>NaN</td>\n",
              "      <td>NaN</td>\n",
              "      <td>NaN</td>\n",
              "      <td>1750</td>\n",
              "      <td>1</td>\n",
              "    </tr>\n",
              "    <tr>\n",
              "      <th>1</th>\n",
              "      <td>1750-02-01</td>\n",
              "      <td>3.083</td>\n",
              "      <td>3.702</td>\n",
              "      <td>NaN</td>\n",
              "      <td>NaN</td>\n",
              "      <td>NaN</td>\n",
              "      <td>NaN</td>\n",
              "      <td>NaN</td>\n",
              "      <td>NaN</td>\n",
              "      <td>1750</td>\n",
              "      <td>2</td>\n",
              "    </tr>\n",
              "    <tr>\n",
              "      <th>2</th>\n",
              "      <td>1750-03-01</td>\n",
              "      <td>5.626</td>\n",
              "      <td>3.076</td>\n",
              "      <td>NaN</td>\n",
              "      <td>NaN</td>\n",
              "      <td>NaN</td>\n",
              "      <td>NaN</td>\n",
              "      <td>NaN</td>\n",
              "      <td>NaN</td>\n",
              "      <td>1750</td>\n",
              "      <td>3</td>\n",
              "    </tr>\n",
              "    <tr>\n",
              "      <th>3</th>\n",
              "      <td>1750-04-01</td>\n",
              "      <td>8.490</td>\n",
              "      <td>2.451</td>\n",
              "      <td>NaN</td>\n",
              "      <td>NaN</td>\n",
              "      <td>NaN</td>\n",
              "      <td>NaN</td>\n",
              "      <td>NaN</td>\n",
              "      <td>NaN</td>\n",
              "      <td>1750</td>\n",
              "      <td>4</td>\n",
              "    </tr>\n",
              "    <tr>\n",
              "      <th>4</th>\n",
              "      <td>1750-05-01</td>\n",
              "      <td>11.573</td>\n",
              "      <td>2.072</td>\n",
              "      <td>NaN</td>\n",
              "      <td>NaN</td>\n",
              "      <td>NaN</td>\n",
              "      <td>NaN</td>\n",
              "      <td>NaN</td>\n",
              "      <td>NaN</td>\n",
              "      <td>1750</td>\n",
              "      <td>5</td>\n",
              "    </tr>\n",
              "    <tr>\n",
              "      <th>5</th>\n",
              "      <td>1750-06-01</td>\n",
              "      <td>12.937</td>\n",
              "      <td>1.724</td>\n",
              "      <td>NaN</td>\n",
              "      <td>NaN</td>\n",
              "      <td>NaN</td>\n",
              "      <td>NaN</td>\n",
              "      <td>NaN</td>\n",
              "      <td>NaN</td>\n",
              "      <td>1750</td>\n",
              "      <td>6</td>\n",
              "    </tr>\n",
              "    <tr>\n",
              "      <th>6</th>\n",
              "      <td>1750-07-01</td>\n",
              "      <td>15.868</td>\n",
              "      <td>1.911</td>\n",
              "      <td>NaN</td>\n",
              "      <td>NaN</td>\n",
              "      <td>NaN</td>\n",
              "      <td>NaN</td>\n",
              "      <td>NaN</td>\n",
              "      <td>NaN</td>\n",
              "      <td>1750</td>\n",
              "      <td>7</td>\n",
              "    </tr>\n",
              "    <tr>\n",
              "      <th>7</th>\n",
              "      <td>1750-08-01</td>\n",
              "      <td>14.750</td>\n",
              "      <td>2.231</td>\n",
              "      <td>NaN</td>\n",
              "      <td>NaN</td>\n",
              "      <td>NaN</td>\n",
              "      <td>NaN</td>\n",
              "      <td>NaN</td>\n",
              "      <td>NaN</td>\n",
              "      <td>1750</td>\n",
              "      <td>8</td>\n",
              "    </tr>\n",
              "    <tr>\n",
              "      <th>8</th>\n",
              "      <td>1750-09-01</td>\n",
              "      <td>11.413</td>\n",
              "      <td>2.637</td>\n",
              "      <td>NaN</td>\n",
              "      <td>NaN</td>\n",
              "      <td>NaN</td>\n",
              "      <td>NaN</td>\n",
              "      <td>NaN</td>\n",
              "      <td>NaN</td>\n",
              "      <td>1750</td>\n",
              "      <td>9</td>\n",
              "    </tr>\n",
              "    <tr>\n",
              "      <th>9</th>\n",
              "      <td>1750-10-01</td>\n",
              "      <td>6.367</td>\n",
              "      <td>2.668</td>\n",
              "      <td>NaN</td>\n",
              "      <td>NaN</td>\n",
              "      <td>NaN</td>\n",
              "      <td>NaN</td>\n",
              "      <td>NaN</td>\n",
              "      <td>NaN</td>\n",
              "      <td>1750</td>\n",
              "      <td>10</td>\n",
              "    </tr>\n",
              "    <tr>\n",
              "      <th>10</th>\n",
              "      <td>1750-11-01</td>\n",
              "      <td>NaN</td>\n",
              "      <td>NaN</td>\n",
              "      <td>NaN</td>\n",
              "      <td>NaN</td>\n",
              "      <td>NaN</td>\n",
              "      <td>NaN</td>\n",
              "      <td>NaN</td>\n",
              "      <td>NaN</td>\n",
              "      <td>1750</td>\n",
              "      <td>11</td>\n",
              "    </tr>\n",
              "    <tr>\n",
              "      <th>11</th>\n",
              "      <td>1750-12-01</td>\n",
              "      <td>2.772</td>\n",
              "      <td>2.970</td>\n",
              "      <td>NaN</td>\n",
              "      <td>NaN</td>\n",
              "      <td>NaN</td>\n",
              "      <td>NaN</td>\n",
              "      <td>NaN</td>\n",
              "      <td>NaN</td>\n",
              "      <td>1750</td>\n",
              "      <td>12</td>\n",
              "    </tr>\n",
              "    <tr>\n",
              "      <th>12</th>\n",
              "      <td>1751-01-01</td>\n",
              "      <td>2.495</td>\n",
              "      <td>3.469</td>\n",
              "      <td>NaN</td>\n",
              "      <td>NaN</td>\n",
              "      <td>NaN</td>\n",
              "      <td>NaN</td>\n",
              "      <td>NaN</td>\n",
              "      <td>NaN</td>\n",
              "      <td>1751</td>\n",
              "      <td>1</td>\n",
              "    </tr>\n",
              "    <tr>\n",
              "      <th>13</th>\n",
              "      <td>1751-02-01</td>\n",
              "      <td>0.963</td>\n",
              "      <td>3.827</td>\n",
              "      <td>NaN</td>\n",
              "      <td>NaN</td>\n",
              "      <td>NaN</td>\n",
              "      <td>NaN</td>\n",
              "      <td>NaN</td>\n",
              "      <td>NaN</td>\n",
              "      <td>1751</td>\n",
              "      <td>2</td>\n",
              "    </tr>\n",
              "    <tr>\n",
              "      <th>14</th>\n",
              "      <td>1751-03-01</td>\n",
              "      <td>5.800</td>\n",
              "      <td>3.051</td>\n",
              "      <td>NaN</td>\n",
              "      <td>NaN</td>\n",
              "      <td>NaN</td>\n",
              "      <td>NaN</td>\n",
              "      <td>NaN</td>\n",
              "      <td>NaN</td>\n",
              "      <td>1751</td>\n",
              "      <td>3</td>\n",
              "    </tr>\n",
              "  </tbody>\n",
              "</table>\n",
              "</div>"
            ],
            "text/plain": [
              "           dt  LandAverageTemperature  ...  years  month\n",
              "0  1750-01-01                   3.034  ...   1750      1\n",
              "1  1750-02-01                   3.083  ...   1750      2\n",
              "2  1750-03-01                   5.626  ...   1750      3\n",
              "3  1750-04-01                   8.490  ...   1750      4\n",
              "4  1750-05-01                  11.573  ...   1750      5\n",
              "5  1750-06-01                  12.937  ...   1750      6\n",
              "6  1750-07-01                  15.868  ...   1750      7\n",
              "7  1750-08-01                  14.750  ...   1750      8\n",
              "8  1750-09-01                  11.413  ...   1750      9\n",
              "9  1750-10-01                   6.367  ...   1750     10\n",
              "10 1750-11-01                     NaN  ...   1750     11\n",
              "11 1750-12-01                   2.772  ...   1750     12\n",
              "12 1751-01-01                   2.495  ...   1751      1\n",
              "13 1751-02-01                   0.963  ...   1751      2\n",
              "14 1751-03-01                   5.800  ...   1751      3\n",
              "\n",
              "[15 rows x 11 columns]"
            ]
          },
          "metadata": {
            "tags": []
          },
          "execution_count": 30
        }
      ]
    },
    {
      "cell_type": "code",
      "metadata": {
        "id": "pWxqFXgQ8YoW"
      },
      "source": [
        "def get_season(month):\n",
        "    if month>=3 and month<=5:\n",
        "        return 'spring'\n",
        "    elif month>=6 and month<=8:\n",
        "        return 'summer'\n",
        "    elif month>=9 and month<=11:\n",
        "        return 'autumn'\n",
        "    else:\n",
        "        return 'winter'"
      ],
      "execution_count": null,
      "outputs": []
    },
    {
      "cell_type": "code",
      "metadata": {
        "id": "j796bgj08YoX"
      },
      "source": [
        "global_temp['season']=global_temp['month'].apply(get_season)"
      ],
      "execution_count": null,
      "outputs": []
    },
    {
      "cell_type": "code",
      "metadata": {
        "colab": {
          "base_uri": "https://localhost:8080/",
          "height": 777
        },
        "id": "k8S9Ly7j8YoX",
        "outputId": "53c6d02a-e841-43fc-94b3-fd27c488b370"
      },
      "source": [
        "global_temp.head(15)"
      ],
      "execution_count": null,
      "outputs": [
        {
          "output_type": "execute_result",
          "data": {
            "text/html": [
              "<div>\n",
              "<style scoped>\n",
              "    .dataframe tbody tr th:only-of-type {\n",
              "        vertical-align: middle;\n",
              "    }\n",
              "\n",
              "    .dataframe tbody tr th {\n",
              "        vertical-align: top;\n",
              "    }\n",
              "\n",
              "    .dataframe thead th {\n",
              "        text-align: right;\n",
              "    }\n",
              "</style>\n",
              "<table border=\"1\" class=\"dataframe\">\n",
              "  <thead>\n",
              "    <tr style=\"text-align: right;\">\n",
              "      <th></th>\n",
              "      <th>dt</th>\n",
              "      <th>LandAverageTemperature</th>\n",
              "      <th>LandAverageTemperatureUncertainty</th>\n",
              "      <th>LandMaxTemperature</th>\n",
              "      <th>LandMaxTemperatureUncertainty</th>\n",
              "      <th>LandMinTemperature</th>\n",
              "      <th>LandMinTemperatureUncertainty</th>\n",
              "      <th>LandAndOceanAverageTemperature</th>\n",
              "      <th>LandAndOceanAverageTemperatureUncertainty</th>\n",
              "      <th>years</th>\n",
              "      <th>month</th>\n",
              "      <th>season</th>\n",
              "    </tr>\n",
              "  </thead>\n",
              "  <tbody>\n",
              "    <tr>\n",
              "      <th>0</th>\n",
              "      <td>1750-01-01</td>\n",
              "      <td>3.034</td>\n",
              "      <td>3.574</td>\n",
              "      <td>NaN</td>\n",
              "      <td>NaN</td>\n",
              "      <td>NaN</td>\n",
              "      <td>NaN</td>\n",
              "      <td>NaN</td>\n",
              "      <td>NaN</td>\n",
              "      <td>1750</td>\n",
              "      <td>1</td>\n",
              "      <td>winter</td>\n",
              "    </tr>\n",
              "    <tr>\n",
              "      <th>1</th>\n",
              "      <td>1750-02-01</td>\n",
              "      <td>3.083</td>\n",
              "      <td>3.702</td>\n",
              "      <td>NaN</td>\n",
              "      <td>NaN</td>\n",
              "      <td>NaN</td>\n",
              "      <td>NaN</td>\n",
              "      <td>NaN</td>\n",
              "      <td>NaN</td>\n",
              "      <td>1750</td>\n",
              "      <td>2</td>\n",
              "      <td>winter</td>\n",
              "    </tr>\n",
              "    <tr>\n",
              "      <th>2</th>\n",
              "      <td>1750-03-01</td>\n",
              "      <td>5.626</td>\n",
              "      <td>3.076</td>\n",
              "      <td>NaN</td>\n",
              "      <td>NaN</td>\n",
              "      <td>NaN</td>\n",
              "      <td>NaN</td>\n",
              "      <td>NaN</td>\n",
              "      <td>NaN</td>\n",
              "      <td>1750</td>\n",
              "      <td>3</td>\n",
              "      <td>spring</td>\n",
              "    </tr>\n",
              "    <tr>\n",
              "      <th>3</th>\n",
              "      <td>1750-04-01</td>\n",
              "      <td>8.490</td>\n",
              "      <td>2.451</td>\n",
              "      <td>NaN</td>\n",
              "      <td>NaN</td>\n",
              "      <td>NaN</td>\n",
              "      <td>NaN</td>\n",
              "      <td>NaN</td>\n",
              "      <td>NaN</td>\n",
              "      <td>1750</td>\n",
              "      <td>4</td>\n",
              "      <td>spring</td>\n",
              "    </tr>\n",
              "    <tr>\n",
              "      <th>4</th>\n",
              "      <td>1750-05-01</td>\n",
              "      <td>11.573</td>\n",
              "      <td>2.072</td>\n",
              "      <td>NaN</td>\n",
              "      <td>NaN</td>\n",
              "      <td>NaN</td>\n",
              "      <td>NaN</td>\n",
              "      <td>NaN</td>\n",
              "      <td>NaN</td>\n",
              "      <td>1750</td>\n",
              "      <td>5</td>\n",
              "      <td>spring</td>\n",
              "    </tr>\n",
              "    <tr>\n",
              "      <th>5</th>\n",
              "      <td>1750-06-01</td>\n",
              "      <td>12.937</td>\n",
              "      <td>1.724</td>\n",
              "      <td>NaN</td>\n",
              "      <td>NaN</td>\n",
              "      <td>NaN</td>\n",
              "      <td>NaN</td>\n",
              "      <td>NaN</td>\n",
              "      <td>NaN</td>\n",
              "      <td>1750</td>\n",
              "      <td>6</td>\n",
              "      <td>summer</td>\n",
              "    </tr>\n",
              "    <tr>\n",
              "      <th>6</th>\n",
              "      <td>1750-07-01</td>\n",
              "      <td>15.868</td>\n",
              "      <td>1.911</td>\n",
              "      <td>NaN</td>\n",
              "      <td>NaN</td>\n",
              "      <td>NaN</td>\n",
              "      <td>NaN</td>\n",
              "      <td>NaN</td>\n",
              "      <td>NaN</td>\n",
              "      <td>1750</td>\n",
              "      <td>7</td>\n",
              "      <td>summer</td>\n",
              "    </tr>\n",
              "    <tr>\n",
              "      <th>7</th>\n",
              "      <td>1750-08-01</td>\n",
              "      <td>14.750</td>\n",
              "      <td>2.231</td>\n",
              "      <td>NaN</td>\n",
              "      <td>NaN</td>\n",
              "      <td>NaN</td>\n",
              "      <td>NaN</td>\n",
              "      <td>NaN</td>\n",
              "      <td>NaN</td>\n",
              "      <td>1750</td>\n",
              "      <td>8</td>\n",
              "      <td>summer</td>\n",
              "    </tr>\n",
              "    <tr>\n",
              "      <th>8</th>\n",
              "      <td>1750-09-01</td>\n",
              "      <td>11.413</td>\n",
              "      <td>2.637</td>\n",
              "      <td>NaN</td>\n",
              "      <td>NaN</td>\n",
              "      <td>NaN</td>\n",
              "      <td>NaN</td>\n",
              "      <td>NaN</td>\n",
              "      <td>NaN</td>\n",
              "      <td>1750</td>\n",
              "      <td>9</td>\n",
              "      <td>autumn</td>\n",
              "    </tr>\n",
              "    <tr>\n",
              "      <th>9</th>\n",
              "      <td>1750-10-01</td>\n",
              "      <td>6.367</td>\n",
              "      <td>2.668</td>\n",
              "      <td>NaN</td>\n",
              "      <td>NaN</td>\n",
              "      <td>NaN</td>\n",
              "      <td>NaN</td>\n",
              "      <td>NaN</td>\n",
              "      <td>NaN</td>\n",
              "      <td>1750</td>\n",
              "      <td>10</td>\n",
              "      <td>autumn</td>\n",
              "    </tr>\n",
              "    <tr>\n",
              "      <th>10</th>\n",
              "      <td>1750-11-01</td>\n",
              "      <td>NaN</td>\n",
              "      <td>NaN</td>\n",
              "      <td>NaN</td>\n",
              "      <td>NaN</td>\n",
              "      <td>NaN</td>\n",
              "      <td>NaN</td>\n",
              "      <td>NaN</td>\n",
              "      <td>NaN</td>\n",
              "      <td>1750</td>\n",
              "      <td>11</td>\n",
              "      <td>autumn</td>\n",
              "    </tr>\n",
              "    <tr>\n",
              "      <th>11</th>\n",
              "      <td>1750-12-01</td>\n",
              "      <td>2.772</td>\n",
              "      <td>2.970</td>\n",
              "      <td>NaN</td>\n",
              "      <td>NaN</td>\n",
              "      <td>NaN</td>\n",
              "      <td>NaN</td>\n",
              "      <td>NaN</td>\n",
              "      <td>NaN</td>\n",
              "      <td>1750</td>\n",
              "      <td>12</td>\n",
              "      <td>winter</td>\n",
              "    </tr>\n",
              "    <tr>\n",
              "      <th>12</th>\n",
              "      <td>1751-01-01</td>\n",
              "      <td>2.495</td>\n",
              "      <td>3.469</td>\n",
              "      <td>NaN</td>\n",
              "      <td>NaN</td>\n",
              "      <td>NaN</td>\n",
              "      <td>NaN</td>\n",
              "      <td>NaN</td>\n",
              "      <td>NaN</td>\n",
              "      <td>1751</td>\n",
              "      <td>1</td>\n",
              "      <td>winter</td>\n",
              "    </tr>\n",
              "    <tr>\n",
              "      <th>13</th>\n",
              "      <td>1751-02-01</td>\n",
              "      <td>0.963</td>\n",
              "      <td>3.827</td>\n",
              "      <td>NaN</td>\n",
              "      <td>NaN</td>\n",
              "      <td>NaN</td>\n",
              "      <td>NaN</td>\n",
              "      <td>NaN</td>\n",
              "      <td>NaN</td>\n",
              "      <td>1751</td>\n",
              "      <td>2</td>\n",
              "      <td>winter</td>\n",
              "    </tr>\n",
              "    <tr>\n",
              "      <th>14</th>\n",
              "      <td>1751-03-01</td>\n",
              "      <td>5.800</td>\n",
              "      <td>3.051</td>\n",
              "      <td>NaN</td>\n",
              "      <td>NaN</td>\n",
              "      <td>NaN</td>\n",
              "      <td>NaN</td>\n",
              "      <td>NaN</td>\n",
              "      <td>NaN</td>\n",
              "      <td>1751</td>\n",
              "      <td>3</td>\n",
              "      <td>spring</td>\n",
              "    </tr>\n",
              "  </tbody>\n",
              "</table>\n",
              "</div>"
            ],
            "text/plain": [
              "           dt  LandAverageTemperature  ...  month  season\n",
              "0  1750-01-01                   3.034  ...      1  winter\n",
              "1  1750-02-01                   3.083  ...      2  winter\n",
              "2  1750-03-01                   5.626  ...      3  spring\n",
              "3  1750-04-01                   8.490  ...      4  spring\n",
              "4  1750-05-01                  11.573  ...      5  spring\n",
              "5  1750-06-01                  12.937  ...      6  summer\n",
              "6  1750-07-01                  15.868  ...      7  summer\n",
              "7  1750-08-01                  14.750  ...      8  summer\n",
              "8  1750-09-01                  11.413  ...      9  autumn\n",
              "9  1750-10-01                   6.367  ...     10  autumn\n",
              "10 1750-11-01                     NaN  ...     11  autumn\n",
              "11 1750-12-01                   2.772  ...     12  winter\n",
              "12 1751-01-01                   2.495  ...      1  winter\n",
              "13 1751-02-01                   0.963  ...      2  winter\n",
              "14 1751-03-01                   5.800  ...      3  spring\n",
              "\n",
              "[15 rows x 12 columns]"
            ]
          },
          "metadata": {
            "tags": []
          },
          "execution_count": 33
        }
      ]
    },
    {
      "cell_type": "code",
      "metadata": {
        "id": "5j09J2dZ8YoY"
      },
      "source": [
        "years=global_temp['years'].unique()"
      ],
      "execution_count": null,
      "outputs": []
    },
    {
      "cell_type": "code",
      "metadata": {
        "colab": {
          "base_uri": "https://localhost:8080/"
        },
        "id": "1NDY5SJGDgEM",
        "outputId": "cd4ad305-3885-4a04-928a-9ce62f147212"
      },
      "source": [
        "years"
      ],
      "execution_count": null,
      "outputs": [
        {
          "output_type": "execute_result",
          "data": {
            "text/plain": [
              "array(['1750', '1751', '1752', '1753', '1754', '1755', '1756', '1757',\n",
              "       '1758', '1759', '1760', '1761', '1762', '1763', '1764', '1765',\n",
              "       '1766', '1767', '1768', '1769', '1770', '1771', '1772', '1773',\n",
              "       '1774', '1775', '1776', '1777', '1778', '1779', '1780', '1781',\n",
              "       '1782', '1783', '1784', '1785', '1786', '1787', '1788', '1789',\n",
              "       '1790', '1791', '1792', '1793', '1794', '1795', '1796', '1797',\n",
              "       '1798', '1799', '1800', '1801', '1802', '1803', '1804', '1805',\n",
              "       '1806', '1807', '1808', '1809', '1810', '1811', '1812', '1813',\n",
              "       '1814', '1815', '1816', '1817', '1818', '1819', '1820', '1821',\n",
              "       '1822', '1823', '1824', '1825', '1826', '1827', '1828', '1829',\n",
              "       '1830', '1831', '1832', '1833', '1834', '1835', '1836', '1837',\n",
              "       '1838', '1839', '1840', '1841', '1842', '1843', '1844', '1845',\n",
              "       '1846', '1847', '1848', '1849', '1850', '1851', '1852', '1853',\n",
              "       '1854', '1855', '1856', '1857', '1858', '1859', '1860', '1861',\n",
              "       '1862', '1863', '1864', '1865', '1866', '1867', '1868', '1869',\n",
              "       '1870', '1871', '1872', '1873', '1874', '1875', '1876', '1877',\n",
              "       '1878', '1879', '1880', '1881', '1882', '1883', '1884', '1885',\n",
              "       '1886', '1887', '1888', '1889', '1890', '1891', '1892', '1893',\n",
              "       '1894', '1895', '1896', '1897', '1898', '1899', '1900', '1901',\n",
              "       '1902', '1903', '1904', '1905', '1906', '1907', '1908', '1909',\n",
              "       '1910', '1911', '1912', '1913', '1914', '1915', '1916', '1917',\n",
              "       '1918', '1919', '1920', '1921', '1922', '1923', '1924', '1925',\n",
              "       '1926', '1927', '1928', '1929', '1930', '1931', '1932', '1933',\n",
              "       '1934', '1935', '1936', '1937', '1938', '1939', '1940', '1941',\n",
              "       '1942', '1943', '1944', '1945', '1946', '1947', '1948', '1949',\n",
              "       '1950', '1951', '1952', '1953', '1954', '1955', '1956', '1957',\n",
              "       '1958', '1959', '1960', '1961', '1962', '1963', '1964', '1965',\n",
              "       '1966', '1967', '1968', '1969', '1970', '1971', '1972', '1973',\n",
              "       '1974', '1975', '1976', '1977', '1978', '1979', '1980', '1981',\n",
              "       '1982', '1983', '1984', '1985', '1986', '1987', '1988', '1989',\n",
              "       '1990', '1991', '1992', '1993', '1994', '1995', '1996', '1997',\n",
              "       '1998', '1999', '2000', '2001', '2002', '2003', '2004', '2005',\n",
              "       '2006', '2007', '2008', '2009', '2010', '2011', '2012', '2013',\n",
              "       '2014', '2015'], dtype=object)"
            ]
          },
          "metadata": {
            "tags": []
          },
          "execution_count": 35
        }
      ]
    },
    {
      "cell_type": "code",
      "metadata": {
        "id": "_U1CPiZv8YoZ"
      },
      "source": [
        "spring_temps=[]\n",
        "summer_temps=[]\n",
        "autumn_temps=[]\n",
        "winter_temps=[]"
      ],
      "execution_count": null,
      "outputs": []
    },
    {
      "cell_type": "markdown",
      "metadata": {
        "id": "8pbqZft7N06I"
      },
      "source": [
        "For calculating the average LandAverageTemperature for all seasons"
      ]
    },
    {
      "cell_type": "code",
      "metadata": {
        "id": "wEYwmyP68Yoa"
      },
      "source": [
        "for year in years:\n",
        "    current_df=global_temp[global_temp['years']==year]\n",
        "    spring_temps.append(current_df[current_df['season']=='spring']['LandAverageTemperature'].mean())\n",
        "    summer_temps.append(current_df[current_df['season']=='summer']['LandAverageTemperature'].mean())\n",
        "    autumn_temps.append(current_df[current_df['season']=='autumn']['LandAverageTemperature'].mean())\n",
        "    winter_temps.append(current_df[current_df['season']=='winter']['LandAverageTemperature'].mean())"
      ],
      "execution_count": null,
      "outputs": []
    },
    {
      "cell_type": "markdown",
      "metadata": {
        "id": "sbwVI53SNt9n"
      },
      "source": [
        "Creating a new data frame"
      ]
    },
    {
      "cell_type": "code",
      "metadata": {
        "id": "Z6E0KeVr8Yob"
      },
      "source": [
        "season=pd.DataFrame()"
      ],
      "execution_count": null,
      "outputs": []
    },
    {
      "cell_type": "code",
      "metadata": {
        "id": "FFNy59T38Yoc"
      },
      "source": [
        "season['year']=years\n",
        "season['spring_temps']=spring_temps\n",
        "season['summer_temps']=summer_temps\n",
        "season['autumn_temps']=autumn_temps\n",
        "season['winter_temps']=winter_temps"
      ],
      "execution_count": null,
      "outputs": []
    },
    {
      "cell_type": "code",
      "metadata": {
        "colab": {
          "base_uri": "https://localhost:8080/",
          "height": 200
        },
        "id": "_E3nxLki8Yod",
        "outputId": "7c606c82-48e1-47e9-ec70-93dcf052e2db"
      },
      "source": [
        "season.head()"
      ],
      "execution_count": null,
      "outputs": [
        {
          "output_type": "execute_result",
          "data": {
            "text/html": [
              "<div>\n",
              "<style scoped>\n",
              "    .dataframe tbody tr th:only-of-type {\n",
              "        vertical-align: middle;\n",
              "    }\n",
              "\n",
              "    .dataframe tbody tr th {\n",
              "        vertical-align: top;\n",
              "    }\n",
              "\n",
              "    .dataframe thead th {\n",
              "        text-align: right;\n",
              "    }\n",
              "</style>\n",
              "<table border=\"1\" class=\"dataframe\">\n",
              "  <thead>\n",
              "    <tr style=\"text-align: right;\">\n",
              "      <th></th>\n",
              "      <th>year</th>\n",
              "      <th>spring_temps</th>\n",
              "      <th>summer_temps</th>\n",
              "      <th>autumn_temps</th>\n",
              "      <th>winter_temps</th>\n",
              "    </tr>\n",
              "  </thead>\n",
              "  <tbody>\n",
              "    <tr>\n",
              "      <th>0</th>\n",
              "      <td>1750</td>\n",
              "      <td>8.563000</td>\n",
              "      <td>14.518333</td>\n",
              "      <td>8.890000</td>\n",
              "      <td>2.963000</td>\n",
              "    </tr>\n",
              "    <tr>\n",
              "      <th>1</th>\n",
              "      <td>1751</td>\n",
              "      <td>6.735000</td>\n",
              "      <td>14.116000</td>\n",
              "      <td>10.673000</td>\n",
              "      <td>1.729000</td>\n",
              "    </tr>\n",
              "    <tr>\n",
              "      <th>2</th>\n",
              "      <td>1752</td>\n",
              "      <td>7.035500</td>\n",
              "      <td>NaN</td>\n",
              "      <td>7.587000</td>\n",
              "      <td>2.717000</td>\n",
              "    </tr>\n",
              "    <tr>\n",
              "      <th>3</th>\n",
              "      <td>1753</td>\n",
              "      <td>8.627333</td>\n",
              "      <td>14.608333</td>\n",
              "      <td>9.212333</td>\n",
              "      <td>1.104333</td>\n",
              "    </tr>\n",
              "    <tr>\n",
              "      <th>4</th>\n",
              "      <td>1754</td>\n",
              "      <td>9.074333</td>\n",
              "      <td>14.208333</td>\n",
              "      <td>8.957333</td>\n",
              "      <td>1.637333</td>\n",
              "    </tr>\n",
              "  </tbody>\n",
              "</table>\n",
              "</div>"
            ],
            "text/plain": [
              "   year  spring_temps  summer_temps  autumn_temps  winter_temps\n",
              "0  1750      8.563000     14.518333      8.890000      2.963000\n",
              "1  1751      6.735000     14.116000     10.673000      1.729000\n",
              "2  1752      7.035500           NaN      7.587000      2.717000\n",
              "3  1753      8.627333     14.608333      9.212333      1.104333\n",
              "4  1754      9.074333     14.208333      8.957333      1.637333"
            ]
          },
          "metadata": {
            "tags": []
          },
          "execution_count": 48
        }
      ]
    },
    {
      "cell_type": "code",
      "metadata": {
        "colab": {
          "base_uri": "https://localhost:8080/"
        },
        "id": "j-M_p8zc8Yoe",
        "outputId": "a0a41d9d-e8f3-45c6-ccce-2c87d7e0ba58"
      },
      "source": [
        "season.columns"
      ],
      "execution_count": null,
      "outputs": [
        {
          "output_type": "execute_result",
          "data": {
            "text/plain": [
              "Index(['year', 'spring_temps', 'summer_temps', 'autumn_temps', 'winter_temps'], dtype='object')"
            ]
          },
          "metadata": {
            "tags": []
          },
          "execution_count": 49
        }
      ]
    },
    {
      "cell_type": "code",
      "metadata": {
        "colab": {
          "base_uri": "https://localhost:8080/",
          "height": 541
        },
        "id": "XokNiG_fOdqT",
        "outputId": "c9fd661d-76f9-4b57-d877-d2ac34a737ec"
      },
      "source": [
        "import plotly.graph_objs as go\n",
        "fig = go.Figure()\n",
        "for col in ['spring_temps','summer_temps','autumn_temps','winter_temps']:\n",
        "    fig.add_trace(go.Line(x=season.year, y=season[col],name=col))\n",
        "fig.show()"
      ],
      "execution_count": null,
      "outputs": [
        {
          "output_type": "display_data",
          "data": {
            "text/html": [
              "<html>\n",
              "<head><meta charset=\"utf-8\" /></head>\n",
              "<body>\n",
              "    <div>\n",
              "            <script src=\"https://cdnjs.cloudflare.com/ajax/libs/mathjax/2.7.5/MathJax.js?config=TeX-AMS-MML_SVG\"></script><script type=\"text/javascript\">if (window.MathJax) {MathJax.Hub.Config({SVG: {font: \"STIX-Web\"}});}</script>\n",
              "                <script type=\"text/javascript\">window.PlotlyConfig = {MathJaxConfig: 'local'};</script>\n",
              "        <script src=\"https://cdn.plot.ly/plotly-latest.min.js\"></script>    \n",
              "            <div id=\"e626000a-89f1-44a0-99e3-7a49d46cd1f0\" class=\"plotly-graph-div\" style=\"height:525px; width:100%;\"></div>\n",
              "            <script type=\"text/javascript\">\n",
              "                \n",
              "                    window.PLOTLYENV=window.PLOTLYENV || {};\n",
              "                    \n",
              "                if (document.getElementById(\"e626000a-89f1-44a0-99e3-7a49d46cd1f0\")) {\n",
              "                    Plotly.newPlot(\n",
              "                        'e626000a-89f1-44a0-99e3-7a49d46cd1f0',\n",
              "                        [{\"name\": \"spring_temps\", \"type\": \"scatter\", \"x\": [\"1750\", \"1751\", \"1752\", \"1753\", \"1754\", \"1755\", \"1756\", \"1757\", \"1758\", \"1759\", \"1760\", \"1761\", \"1762\", \"1763\", \"1764\", \"1765\", \"1766\", \"1767\", \"1768\", \"1769\", \"1770\", \"1771\", \"1772\", \"1773\", \"1774\", \"1775\", \"1776\", \"1777\", \"1778\", \"1779\", \"1780\", \"1781\", \"1782\", \"1783\", \"1784\", \"1785\", \"1786\", \"1787\", \"1788\", \"1789\", \"1790\", \"1791\", \"1792\", \"1793\", \"1794\", \"1795\", \"1796\", \"1797\", \"1798\", \"1799\", \"1800\", \"1801\", \"1802\", \"1803\", \"1804\", \"1805\", \"1806\", \"1807\", \"1808\", \"1809\", \"1810\", \"1811\", \"1812\", \"1813\", \"1814\", \"1815\", \"1816\", \"1817\", \"1818\", \"1819\", \"1820\", \"1821\", \"1822\", \"1823\", \"1824\", \"1825\", \"1826\", \"1827\", \"1828\", \"1829\", \"1830\", \"1831\", \"1832\", \"1833\", \"1834\", \"1835\", \"1836\", \"1837\", \"1838\", \"1839\", \"1840\", \"1841\", \"1842\", \"1843\", \"1844\", \"1845\", \"1846\", \"1847\", \"1848\", \"1849\", \"1850\", \"1851\", \"1852\", \"1853\", \"1854\", \"1855\", \"1856\", \"1857\", \"1858\", \"1859\", \"1860\", \"1861\", \"1862\", \"1863\", \"1864\", \"1865\", \"1866\", \"1867\", \"1868\", \"1869\", \"1870\", \"1871\", \"1872\", \"1873\", \"1874\", \"1875\", \"1876\", \"1877\", \"1878\", \"1879\", \"1880\", \"1881\", \"1882\", \"1883\", \"1884\", \"1885\", \"1886\", \"1887\", \"1888\", \"1889\", \"1890\", \"1891\", \"1892\", \"1893\", \"1894\", \"1895\", \"1896\", \"1897\", \"1898\", \"1899\", \"1900\", \"1901\", \"1902\", \"1903\", \"1904\", \"1905\", \"1906\", \"1907\", \"1908\", \"1909\", \"1910\", \"1911\", \"1912\", \"1913\", \"1914\", \"1915\", \"1916\", \"1917\", \"1918\", \"1919\", \"1920\", \"1921\", \"1922\", \"1923\", \"1924\", \"1925\", \"1926\", \"1927\", \"1928\", \"1929\", \"1930\", \"1931\", \"1932\", \"1933\", \"1934\", \"1935\", \"1936\", \"1937\", \"1938\", \"1939\", \"1940\", \"1941\", \"1942\", \"1943\", \"1944\", \"1945\", \"1946\", \"1947\", \"1948\", \"1949\", \"1950\", \"1951\", \"1952\", \"1953\", \"1954\", \"1955\", \"1956\", \"1957\", \"1958\", \"1959\", \"1960\", \"1961\", \"1962\", \"1963\", \"1964\", \"1965\", \"1966\", \"1967\", \"1968\", \"1969\", \"1970\", \"1971\", \"1972\", \"1973\", \"1974\", \"1975\", \"1976\", \"1977\", \"1978\", \"1979\", \"1980\", \"1981\", \"1982\", \"1983\", \"1984\", \"1985\", \"1986\", \"1987\", \"1988\", \"1989\", \"1990\", \"1991\", \"1992\", \"1993\", \"1994\", \"1995\", \"1996\", \"1997\", \"1998\", \"1999\", \"2000\", \"2001\", \"2002\", \"2003\", \"2004\", \"2005\", \"2006\", \"2007\", \"2008\", \"2009\", \"2010\", \"2011\", \"2012\", \"2013\", \"2014\", \"2015\"], \"y\": [8.563, 6.734999999999999, 7.035499999999999, 8.627333333333334, 9.074333333333334, 8.583666666666666, 9.466, 8.604666666666667, 6.896666666666666, 6.897333333333333, 6.653666666666666, 8.915999999999999, 7.809333333333332, 6.715999999999998, 8.192, 8.868666666666668, 8.432333333333332, 7.831, 6.144000000000001, 8.803333333333333, 7.132000000000001, 6.0523333333333325, 7.148666666666666, 8.866999999999999, 10.607, 9.036666666666667, 7.522333333333333, 7.774333333333334, 8.957999999999998, 10.370666666666667, 11.737666666666664, 7.599, 7.390999999999998, 8.397333333333334, 7.3580000000000005, 6.173666666666667, 8.849666666666666, 7.9576666666666656, 8.159333333333333, 7.782999999999999, 6.997333333333333, 7.9253333333333345, 7.914666666666666, 8.248, 9.146333333333333, 8.552, 7.507666666666666, 7.024333333333334, 8.953333333333333, 8.041666666666666, 8.224666666666666, 8.660666666666666, 7.760333333333333, 8.653666666666666, 8.863, 8.328999999999999, 8.075333333333333, 7.03, 7.066666666666666, 6.833666666666666, 6.871999999999999, 6.481999999999999, 6.191333333333333, 7.048333333333333, 6.424666666666667, 6.698666666666667, 7.368333333333332, 7.311333333333333, 8.904333333333334, 6.603666666666666, 8.312666666666667, 8.167, 8.850333333333332, 7.765333333333333, 8.287999999999998, 8.368, 8.365, 9.125666666666666, 8.582333333333333, 8.070666666666666, 7.832333333333335, 7.761, 7.732666666666667, 7.657, 8.351666666666668, 7.482333333333333, 7.680666666666667, 6.797999999999999, 7.030333333333332, 6.951333333333333, 7.718666666666667, 6.947, 8.198333333333332, 7.537999999999999, 7.410666666666667, 7.747333333333333, 8.227666666666666, 7.549333333333333, 7.832, 7.496333333333332, 7.391666666666666, 7.530666666666666, 7.513333333333333, 7.531333333333333, 7.805, 8.127666666666666, 7.550999999999999, 7.008, 7.978333333333333, 8.340333333333334, 7.438666666666666, 7.497333333333333, 7.515666666666667, 7.898, 7.707333333333334, 7.423333333333332, 7.7443333333333335, 7.735666666666667, 8.009666666666666, 7.863333333333332, 7.958000000000001, 7.937666666666666, 7.988666666666667, 7.723999999999999, 7.919333333333333, 7.545999999999999, 7.8790000000000004, 8.130666666666668, 8.841333333333333, 7.831666666666666, 7.761666666666666, 8.165999999999999, 7.873, 7.817333333333333, 7.092, 7.508333333333333, 7.651666666666666, 7.726999999999999, 7.588333333333334, 8.376666666666667, 7.470999999999999, 7.719333333333332, 7.515333333333333, 7.906666666666666, 7.908333333333334, 7.934333333333334, 7.500666666666665, 8.0, 7.497666666666667, 7.973999999999999, 8.366666666666667, 8.457, 7.910666666666667, 7.851999999999999, 7.676666666666666, 7.790666666666667, 8.244, 7.509666666666667, 7.702999999999999, 7.578, 7.905333333333334, 7.721999999999999, 7.946333333333333, 7.761666666666666, 8.108333333333333, 8.447000000000001, 7.954999999999999, 7.5953333333333335, 7.664999999999999, 8.066333333333333, 8.216999999999999, 8.216666666666667, 8.211, 7.821333333333333, 8.17, 8.202333333333334, 8.318333333333333, 7.935666666666666, 8.124, 8.036, 8.256666666666666, 8.134333333333332, 8.316, 8.013666666666667, 8.104, 8.025333333333332, 8.136333333333333, 8.137666666666666, 8.673333333333334, 8.259333333333332, 8.506, 8.427, 8.354, 8.420333333333334, 8.433, 8.320666666666668, 8.476, 8.605333333333334, 8.318333333333333, 8.243333333333332, 8.222333333333333, 8.298666666666666, 8.26, 8.706000000000001, 8.097999999999999, 7.970999999999999, 7.8439999999999985, 8.220333333333334, 8.497333333333332, 8.665333333333333, 7.769333333333333, 8.614666666666666, 8.399333333333333, 8.104999999999999, 7.897333333333333, 8.131333333333332, 8.296, 8.495333333333333, 8.546666666666667, 8.353666666666667, 8.360333333333333, 8.183666666666666, 8.259666666666666, 8.84233333333333, 8.258000000000001, 8.677333333333333, 7.917666666666666, 8.777333333333333, 8.604, 8.376, 8.690666666666665, 8.918999999999999, 8.228666666666667, 8.706999999999999, 8.693, 8.503333333333332, 8.735666666666665, 8.455, 8.924999999999999, 8.587000000000002, 9.243333333333334, 8.805333333333333, 8.686333333333332, 8.696, 8.811, 8.832666666666668, 8.597, 8.832, 9.223999999999998, 8.691333333333333, 9.214999999999998, 9.241333333333332, 9.416333333333332, 9.118333333333332, 9.047, 9.462666666666665, 9.056666666666667, 9.608666666666666, 9.418333333333333, 9.188333333333333, 9.604999999999999, 9.19, 9.429666666666666, 9.166666666666666, 9.516333333333334, 9.454999999999998]}, {\"name\": \"summer_temps\", \"type\": \"scatter\", \"x\": [\"1750\", \"1751\", \"1752\", \"1753\", \"1754\", \"1755\", \"1756\", \"1757\", \"1758\", \"1759\", \"1760\", \"1761\", \"1762\", \"1763\", \"1764\", \"1765\", \"1766\", \"1767\", \"1768\", \"1769\", \"1770\", \"1771\", \"1772\", \"1773\", \"1774\", \"1775\", \"1776\", \"1777\", \"1778\", \"1779\", \"1780\", \"1781\", \"1782\", \"1783\", \"1784\", \"1785\", \"1786\", \"1787\", \"1788\", \"1789\", \"1790\", \"1791\", \"1792\", \"1793\", \"1794\", \"1795\", \"1796\", \"1797\", \"1798\", \"1799\", \"1800\", \"1801\", \"1802\", \"1803\", \"1804\", \"1805\", \"1806\", \"1807\", \"1808\", \"1809\", \"1810\", \"1811\", \"1812\", \"1813\", \"1814\", \"1815\", \"1816\", \"1817\", \"1818\", \"1819\", \"1820\", \"1821\", \"1822\", \"1823\", \"1824\", \"1825\", \"1826\", \"1827\", \"1828\", \"1829\", \"1830\", \"1831\", \"1832\", \"1833\", \"1834\", \"1835\", \"1836\", \"1837\", \"1838\", \"1839\", \"1840\", \"1841\", \"1842\", \"1843\", \"1844\", \"1845\", \"1846\", \"1847\", \"1848\", \"1849\", \"1850\", \"1851\", \"1852\", \"1853\", \"1854\", \"1855\", \"1856\", \"1857\", \"1858\", \"1859\", \"1860\", \"1861\", \"1862\", \"1863\", \"1864\", \"1865\", \"1866\", \"1867\", \"1868\", \"1869\", \"1870\", \"1871\", \"1872\", \"1873\", \"1874\", \"1875\", \"1876\", \"1877\", \"1878\", \"1879\", \"1880\", \"1881\", \"1882\", \"1883\", \"1884\", \"1885\", \"1886\", \"1887\", \"1888\", \"1889\", \"1890\", \"1891\", \"1892\", \"1893\", \"1894\", \"1895\", \"1896\", \"1897\", \"1898\", \"1899\", \"1900\", \"1901\", \"1902\", \"1903\", \"1904\", \"1905\", \"1906\", \"1907\", \"1908\", \"1909\", \"1910\", \"1911\", \"1912\", \"1913\", \"1914\", \"1915\", \"1916\", \"1917\", \"1918\", \"1919\", \"1920\", \"1921\", \"1922\", \"1923\", \"1924\", \"1925\", \"1926\", \"1927\", \"1928\", \"1929\", \"1930\", \"1931\", \"1932\", \"1933\", \"1934\", \"1935\", \"1936\", \"1937\", \"1938\", \"1939\", \"1940\", \"1941\", \"1942\", \"1943\", \"1944\", \"1945\", \"1946\", \"1947\", \"1948\", \"1949\", \"1950\", \"1951\", \"1952\", \"1953\", \"1954\", \"1955\", \"1956\", \"1957\", \"1958\", \"1959\", \"1960\", \"1961\", \"1962\", \"1963\", \"1964\", \"1965\", \"1966\", \"1967\", \"1968\", \"1969\", \"1970\", \"1971\", \"1972\", \"1973\", \"1974\", \"1975\", \"1976\", \"1977\", \"1978\", \"1979\", \"1980\", \"1981\", \"1982\", \"1983\", \"1984\", \"1985\", \"1986\", \"1987\", \"1988\", \"1989\", \"1990\", \"1991\", \"1992\", \"1993\", \"1994\", \"1995\", \"1996\", \"1997\", \"1998\", \"1999\", \"2000\", \"2001\", \"2002\", \"2003\", \"2004\", \"2005\", \"2006\", \"2007\", \"2008\", \"2009\", \"2010\", \"2011\", \"2012\", \"2013\", \"2014\", \"2015\"], \"y\": [14.518333333333333, 14.116, null, 14.608333333333334, 14.208333333333334, 14.430666666666667, 13.963333333333333, 17.544999999999998, 12.934666666666665, 13.541666666666666, 12.916333333333334, 17.057666666666666, 14.070333333333332, 14.262666666666666, 12.170666666666667, 12.635333333333334, 13.655333333333331, 14.023333333333333, 12.905666666666667, 14.365666666666668, 11.639333333333335, 14.045333333333332, 13.775333333333334, 13.639666666666669, 15.330333333333334, 13.822666666666668, 14.503, 12.627, 13.212333333333333, 13.335, 14.625666666666666, 13.368, 14.469666666666667, 13.793333333333331, 14.537, 14.226, 14.261333333333333, 13.791666666666666, 14.720333333333334, 14.269666666666666, 13.827666666666667, 13.529000000000002, 13.357999999999999, 13.547333333333333, 12.784, 13.576, 14.417333333333334, 13.999666666666664, 14.317, 14.211666666666666, 13.662666666666667, 13.466333333333331, 14.379333333333333, 14.764333333333333, 14.686333333333332, 14.666333333333332, 13.644666666666666, 13.743333333333332, 13.655666666666667, 12.853, 12.175333333333333, 12.472999999999999, 13.792666666666667, 13.62, 12.672666666666666, 12.921666666666667, 12.208999999999998, 12.254, 13.500333333333336, 12.707, 12.870666666666667, 12.930666666666667, 13.498, 13.761666666666668, 13.897999999999998, 13.680333333333332, 13.537, 13.975333333333333, 14.047666666666666, 13.494666666666667, 13.718333333333334, 13.091000000000001, 12.85, 13.357999999999999, 13.469333333333333, 12.485999999999999, 13.008333333333333, 12.881, 13.559, 13.676333333333332, 13.737, 13.774, 13.151333333333334, 13.272, 13.269, 13.579333333333333, 14.191333333333333, 13.497333333333332, 13.660333333333334, 13.687, 13.893666666666668, 13.899999999999999, 13.660000000000002, 14.002666666666665, 13.803333333333333, 13.485666666666667, 13.512, 13.255666666666665, 13.284333333333334, 13.395333333333333, 13.746666666666664, 13.546666666666667, 13.325333333333333, 13.284333333333334, 13.653666666666666, 13.671333333333335, 13.662333333333331, 13.677333333333332, 13.806666666666667, 13.961333333333334, 13.912, 13.767333333333333, 13.720333333333334, 13.815666666666667, 13.747666666666666, 13.567333333333332, 13.643666666666666, 14.059, 14.210666666666667, 13.571, 13.758333333333333, 13.552666666666667, 13.418333333333331, 13.512333333333332, 13.135333333333334, 13.346333333333334, 13.446, 13.336, 13.558, 13.672333333333333, 13.390666666666666, 13.438, 13.524333333333333, 13.607666666666667, 13.449999999999998, 13.533333333333333, 13.720333333333334, 13.765666666666666, 13.704, 13.597333333333333, 13.76, 13.850333333333333, 13.681333333333333, 13.43, 13.436333333333332, 13.588999999999999, 13.715666666666666, 13.286666666666667, 13.622, 13.591333333333333, 13.702333333333334, 13.530000000000001, 13.403666666666666, 13.622, 13.841333333333333, 13.837666666666669, 13.524666666666667, 13.548333333333332, 13.447000000000001, 13.762666666666668, 13.682666666666668, 13.812333333333333, 13.731, 13.630333333333335, 13.766666666666667, 13.641333333333334, 13.776666666666666, 13.764333333333333, 13.703333333333333, 13.521666666666667, 13.913333333333332, 14.089666666666666, 13.831666666666665, 13.702, 13.841, 13.810666666666664, 13.950666666666665, 13.995, 13.921999999999999, 13.952666666666666, 13.988333333333335, 14.117333333333335, 13.868666666666668, 13.798333333333334, 13.987666666666664, 13.951333333333332, 13.847, 13.878333333333332, 14.001666666666667, 13.749333333333334, 13.660666666666666, 13.865, 13.985, 14.020999999999999, 13.836333333333334, 14.028333333333334, 13.509666666666666, 13.998, 13.740666666666668, 13.959666666666669, 13.835666666666668, 13.946333333333333, 13.781666666666666, 14.075666666666665, 13.812666666666667, 13.731, 13.962333333333333, 13.781999999999998, 13.584666666666665, 13.832333333333333, 13.855333333333334, 13.705666666666666, 13.967666666666666, 14.042666666666667, 13.895333333333333, 13.807333333333332, 13.583999999999998, 14.198999999999998, 13.627, 13.811333333333332, 14.171000000000001, 14.335, 13.862, 14.062666666666667, 13.933333333333335, 13.866999999999999, 13.901333333333334, 14.237666666666668, 14.483333333333334, 14.064666666666666, 14.257333333333333, 14.523000000000001, 13.826999999999998, 13.982666666666667, 14.259666666666666, 14.638666666666666, 14.370333333333333, 14.317333333333332, 14.911666666666667, 14.410666666666666, 14.475666666666667, 14.566, 14.666000000000002, 14.563666666666668, 14.129666666666667, 14.725333333333332, 14.799333333333331, 14.763666666666667, 14.565333333333333, 14.695666666666666, 14.800666666666666, 14.954666666666666, 14.762666666666668, 14.771, 14.694333333333333, 14.770333333333333]}, {\"name\": \"autumn_temps\", \"type\": \"scatter\", \"x\": [\"1750\", \"1751\", \"1752\", \"1753\", \"1754\", \"1755\", \"1756\", \"1757\", \"1758\", \"1759\", \"1760\", \"1761\", \"1762\", \"1763\", \"1764\", \"1765\", \"1766\", \"1767\", \"1768\", \"1769\", \"1770\", \"1771\", \"1772\", \"1773\", \"1774\", \"1775\", \"1776\", \"1777\", \"1778\", \"1779\", \"1780\", \"1781\", \"1782\", \"1783\", \"1784\", \"1785\", \"1786\", \"1787\", \"1788\", \"1789\", \"1790\", \"1791\", \"1792\", \"1793\", \"1794\", \"1795\", \"1796\", \"1797\", \"1798\", \"1799\", \"1800\", \"1801\", \"1802\", \"1803\", \"1804\", \"1805\", \"1806\", \"1807\", \"1808\", \"1809\", \"1810\", \"1811\", \"1812\", \"1813\", \"1814\", \"1815\", \"1816\", \"1817\", \"1818\", \"1819\", \"1820\", \"1821\", \"1822\", \"1823\", \"1824\", \"1825\", \"1826\", \"1827\", \"1828\", \"1829\", \"1830\", \"1831\", \"1832\", \"1833\", \"1834\", \"1835\", \"1836\", \"1837\", \"1838\", \"1839\", \"1840\", \"1841\", \"1842\", \"1843\", \"1844\", \"1845\", \"1846\", \"1847\", \"1848\", \"1849\", \"1850\", \"1851\", \"1852\", \"1853\", \"1854\", \"1855\", \"1856\", \"1857\", \"1858\", \"1859\", \"1860\", \"1861\", \"1862\", \"1863\", \"1864\", \"1865\", \"1866\", \"1867\", \"1868\", \"1869\", \"1870\", \"1871\", \"1872\", \"1873\", \"1874\", \"1875\", \"1876\", \"1877\", \"1878\", \"1879\", \"1880\", \"1881\", \"1882\", \"1883\", \"1884\", \"1885\", \"1886\", \"1887\", \"1888\", \"1889\", \"1890\", \"1891\", \"1892\", \"1893\", \"1894\", \"1895\", \"1896\", \"1897\", \"1898\", \"1899\", \"1900\", \"1901\", \"1902\", \"1903\", \"1904\", \"1905\", \"1906\", \"1907\", \"1908\", \"1909\", \"1910\", \"1911\", \"1912\", \"1913\", \"1914\", \"1915\", \"1916\", \"1917\", \"1918\", \"1919\", \"1920\", \"1921\", \"1922\", \"1923\", \"1924\", \"1925\", \"1926\", \"1927\", \"1928\", \"1929\", \"1930\", \"1931\", \"1932\", \"1933\", \"1934\", \"1935\", \"1936\", \"1937\", \"1938\", \"1939\", \"1940\", \"1941\", \"1942\", \"1943\", \"1944\", \"1945\", \"1946\", \"1947\", \"1948\", \"1949\", \"1950\", \"1951\", \"1952\", \"1953\", \"1954\", \"1955\", \"1956\", \"1957\", \"1958\", \"1959\", \"1960\", \"1961\", \"1962\", \"1963\", \"1964\", \"1965\", \"1966\", \"1967\", \"1968\", \"1969\", \"1970\", \"1971\", \"1972\", \"1973\", \"1974\", \"1975\", \"1976\", \"1977\", \"1978\", \"1979\", \"1980\", \"1981\", \"1982\", \"1983\", \"1984\", \"1985\", \"1986\", \"1987\", \"1988\", \"1989\", \"1990\", \"1991\", \"1992\", \"1993\", \"1994\", \"1995\", \"1996\", \"1997\", \"1998\", \"1999\", \"2000\", \"2001\", \"2002\", \"2003\", \"2004\", \"2005\", \"2006\", \"2007\", \"2008\", \"2009\", \"2010\", \"2011\", \"2012\", \"2013\", \"2014\", \"2015\"], \"y\": [8.889999999999999, 10.673, 7.587, 9.212333333333333, 8.957333333333333, 9.233666666666666, 8.063, 8.455333333333332, 6.292333333333332, 8.387, 7.778, 8.283666666666667, 7.616333333333333, 7.167000000000001, 8.832666666666666, 8.166666666666666, 9.389666666666667, 9.539, 7.711333333333333, 6.445666666666665, 8.392, 8.865333333333334, 9.102333333333332, 8.354333333333333, 7.5183333333333335, 9.882333333333333, 8.177333333333333, 7.954666666666667, 8.426666666666668, 9.267666666666667, 8.308666666666666, 8.791333333333332, 8.777333333333333, 6.503666666666667, 7.219666666666666, 7.791333333333333, 8.537, 7.976666666666667, 9.053, 8.457333333333333, 8.380333333333333, 8.654333333333332, 8.631333333333334, 8.687, 8.762666666666666, 8.042, 8.879333333333333, 8.809, 8.771, 9.273666666666667, 8.612, 8.760333333333334, 9.023333333333332, 9.136666666666665, 9.627333333333334, 8.076666666666666, 8.735333333333335, 9.162333333333335, 8.398333333333332, 7.572, 6.663666666666667, 6.817, 7.3823333333333325, 9.276666666666667, 8.263, 7.488666666666667, 6.7156666666666665, 6.551000000000001, 7.4223333333333334, 8.451999999999998, 7.730333333333333, 8.104666666666667, 7.656666666666667, 7.449333333333333, 8.534, 8.395, 8.757, 8.557333333333334, 8.231, 8.135666666666667, 8.675333333333333, 7.396, 7.774, 8.577333333333332, 8.847666666666667, 7.363, 7.794, 7.542333333333333, 8.264, 7.663999999999999, 7.538666666666667, 8.143333333333333, 8.023666666666665, 8.331666666666667, 7.973333333333333, 8.07, 8.337, 8.603666666666667, 8.314, 8.586999999999998, 8.109666666666667, 8.590666666666666, 8.327, 8.342666666666668, 9.007333333333333, 8.257, 8.131666666666666, 8.163333333333332, 8.649333333333333, 8.608666666666666, 8.543666666666667, 8.530333333333333, 8.034333333333334, 8.285666666666666, 8.465666666666666, 9.025666666666666, 8.642666666666667, 9.304666666666668, 8.769666666666668, 9.008666666666667, 8.787333333333331, 8.639999999999999, 8.856666666666667, 8.846666666666666, 9.013333333333334, 8.172666666666666, 8.575333333333333, 9.232, 9.237333333333334, 8.734666666666667, 8.650666666666666, 8.604, 8.415666666666665, 8.385666666666665, 8.326666666666666, 8.527333333333335, 8.476666666666667, 8.679, 8.892666666666669, 8.470333333333334, 8.584666666666665, 8.533333333333333, 8.637666666666666, 8.943, 8.703333333333333, 8.868, 8.868666666666668, 8.91, 8.677666666666665, 9.380666666666666, 9.141666666666667, 8.987666666666668, 8.624666666666668, 8.609666666666667, 8.814666666666666, 9.009333333333332, 8.846666666666666, 8.702, 8.704666666666666, 9.102333333333332, 8.685666666666664, 8.955, 8.37, 8.953333333333333, 9.020333333333333, 9.022333333333334, 8.791666666666666, 8.703000000000001, 8.999, 8.946666666666667, 8.793666666666667, 8.999, 8.959, 9.260333333333334, 9.186666666666667, 9.171666666666665, 9.308333333333334, 9.495666666666667, 9.283999999999999, 9.146333333333335, 9.236333333333333, 9.487666666666666, 9.3, 8.994, 9.181666666666667, 8.985999999999999, 9.237, 9.499333333333333, 9.580333333333334, 9.121666666666666, 9.267000000000001, 9.159666666666666, 9.389333333333333, 9.421, 9.449666666666667, 9.290999999999999, 9.193333333333333, 9.528, 9.308, 9.212, 8.825666666666665, 9.406333333333334, 8.94, 9.237666666666668, 9.407666666666666, 9.220666666666666, 8.816333333333333, 9.399666666666667, 9.159999999999998, 8.952666666666667, 9.139999999999999, 9.26, 9.256333333333332, 9.686333333333332, 8.806333333333333, 9.026, 9.084999999999999, 9.346333333333334, 8.988, 9.319, 9.224, 9.274000000000001, 9.014666666666667, 9.318666666666667, 8.918999999999999, 9.121, 8.688666666666666, 9.187333333333333, 9.239666666666666, 9.373, 9.518333333333334, 9.301, 9.077333333333334, 9.647, 9.068, 9.095333333333333, 9.011666666666667, 9.364333333333333, 9.651666666666666, 9.447333333333331, 9.665666666666667, 9.623333333333333, 8.971333333333332, 9.094, 9.768666666666666, 9.810666666666666, 9.455333333333334, 9.878333333333334, 9.672666666666666, 9.770666666666665, 9.448333333333334, 9.996666666666666, 9.943333333333333, 10.020666666666667, 10.028, 10.413666666666666, 10.039666666666667, 10.115333333333334, 10.141666666666667, 10.106666666666667, 10.264000000000001, 10.026000000000002, 10.208, 10.278, 10.044666666666666, 10.411]}, {\"name\": \"winter_temps\", \"type\": \"scatter\", \"x\": [\"1750\", \"1751\", \"1752\", \"1753\", \"1754\", \"1755\", \"1756\", \"1757\", \"1758\", \"1759\", \"1760\", \"1761\", \"1762\", \"1763\", \"1764\", \"1765\", \"1766\", \"1767\", \"1768\", \"1769\", \"1770\", \"1771\", \"1772\", \"1773\", \"1774\", \"1775\", \"1776\", \"1777\", \"1778\", \"1779\", \"1780\", \"1781\", \"1782\", \"1783\", \"1784\", \"1785\", \"1786\", \"1787\", \"1788\", \"1789\", \"1790\", \"1791\", \"1792\", \"1793\", \"1794\", \"1795\", \"1796\", \"1797\", \"1798\", \"1799\", \"1800\", \"1801\", \"1802\", \"1803\", \"1804\", \"1805\", \"1806\", \"1807\", \"1808\", \"1809\", \"1810\", \"1811\", \"1812\", \"1813\", \"1814\", \"1815\", \"1816\", \"1817\", \"1818\", \"1819\", \"1820\", \"1821\", \"1822\", \"1823\", \"1824\", \"1825\", \"1826\", \"1827\", \"1828\", \"1829\", \"1830\", \"1831\", \"1832\", \"1833\", \"1834\", \"1835\", \"1836\", \"1837\", \"1838\", \"1839\", \"1840\", \"1841\", \"1842\", \"1843\", \"1844\", \"1845\", \"1846\", \"1847\", \"1848\", \"1849\", \"1850\", \"1851\", \"1852\", \"1853\", \"1854\", \"1855\", \"1856\", \"1857\", \"1858\", \"1859\", \"1860\", \"1861\", \"1862\", \"1863\", \"1864\", \"1865\", \"1866\", \"1867\", \"1868\", \"1869\", \"1870\", \"1871\", \"1872\", \"1873\", \"1874\", \"1875\", \"1876\", \"1877\", \"1878\", \"1879\", \"1880\", \"1881\", \"1882\", \"1883\", \"1884\", \"1885\", \"1886\", \"1887\", \"1888\", \"1889\", \"1890\", \"1891\", \"1892\", \"1893\", \"1894\", \"1895\", \"1896\", \"1897\", \"1898\", \"1899\", \"1900\", \"1901\", \"1902\", \"1903\", \"1904\", \"1905\", \"1906\", \"1907\", \"1908\", \"1909\", \"1910\", \"1911\", \"1912\", \"1913\", \"1914\", \"1915\", \"1916\", \"1917\", \"1918\", \"1919\", \"1920\", \"1921\", \"1922\", \"1923\", \"1924\", \"1925\", \"1926\", \"1927\", \"1928\", \"1929\", \"1930\", \"1931\", \"1932\", \"1933\", \"1934\", \"1935\", \"1936\", \"1937\", \"1938\", \"1939\", \"1940\", \"1941\", \"1942\", \"1943\", \"1944\", \"1945\", \"1946\", \"1947\", \"1948\", \"1949\", \"1950\", \"1951\", \"1952\", \"1953\", \"1954\", \"1955\", \"1956\", \"1957\", \"1958\", \"1959\", \"1960\", \"1961\", \"1962\", \"1963\", \"1964\", \"1965\", \"1966\", \"1967\", \"1968\", \"1969\", \"1970\", \"1971\", \"1972\", \"1973\", \"1974\", \"1975\", \"1976\", \"1977\", \"1978\", \"1979\", \"1980\", \"1981\", \"1982\", \"1983\", \"1984\", \"1985\", \"1986\", \"1987\", \"1988\", \"1989\", \"1990\", \"1991\", \"1992\", \"1993\", \"1994\", \"1995\", \"1996\", \"1997\", \"1998\", \"1999\", \"2000\", \"2001\", \"2002\", \"2003\", \"2004\", \"2005\", \"2006\", \"2007\", \"2008\", \"2009\", \"2010\", \"2011\", \"2012\", \"2013\", \"2014\", \"2015\"], \"y\": [2.9630000000000005, 1.729, 2.7170000000000005, 1.1043333333333332, 1.6373333333333333, 1.1743333333333332, 3.906, 1.4829999999999999, 0.8506666666666667, 3.1143333333333327, 1.3926666666666667, 0.8326666666666666, 4.930000000000001, 1.8413333333333333, 4.406, 3.3369999999999997, 2.1453333333333333, 1.4926666666666666, 0.36433333333333334, 1.1636666666666666, 3.6043333333333334, 2.449666666666667, 2.747666666666667, 2.0249999999999995, 1.6330000000000002, 3.9906666666666673, 3.013333333333333, 4.6690000000000005, 3.571999999999999, 2.9596666666666667, 3.0596666666666668, 2.6519999999999997, 0.967, 2.029, 2.3333333333333335, 1.261, 1.3846666666666667, 2.4013333333333335, 1.856, 2.8266666666666667, 2.724, 2.828333333333333, 2.452, 2.4343333333333335, 3.411, 3.2313333333333336, 2.279666666666667, 4.209333333333333, 2.639666666666667, 2.496, 3.4376666666666664, 3.4713333333333334, 3.1496666666666666, 1.4573333333333334, 2.202666666666667, 3.179, 3.281, 3.1899999999999995, 1.3866666666666667, 1.047, 1.9796666666666667, 1.6660000000000001, 0.8186666666666668, 1.0146666666666666, 3.0066666666666673, 1.8483333333333334, 1.457, 1.7863333333333333, 1.4886666666666664, 1.7140000000000002, 1.5513333333333332, 3.158, 2.7483333333333335, 1.8983333333333334, 3.468666666666667, 3.1139999999999994, 2.767333333333333, 3.576666666666666, 1.8003333333333336, 2.066333333333333, 3.8409999999999997, 2.308666666666667, 1.444, 2.4596666666666667, 1.9183333333333337, 2.238666666666667, 2.300333333333333, 2.281333333333333, 1.2063333333333335, 2.2373333333333334, 2.1906666666666665, 1.8883333333333334, 2.7176666666666667, 3.5530000000000004, 1.9323333333333335, 2.008, 3.455, 2.6936666666666667, 2.111666666666667, 2.167333333333333, 2.207666666666667, 2.693, 2.9003333333333337, 2.2906666666666666, 2.2263333333333333, 2.5726666666666667, 2.7889999999999997, 2.6056666666666666, 2.489, 2.663666666666667, 2.114333333333333, 1.8116666666666668, 1.359, 2.9793333333333334, 2.1076666666666664, 2.5910000000000006, 3.1193333333333335, 3.0276666666666667, 2.405666666666667, 2.895, 2.148, 2.1153333333333335, 2.2096666666666667, 3.0180000000000002, 3.0536666666666665, 2.1523333333333334, 2.2223333333333333, 2.736666666666667, 3.029666666666667, 2.5260000000000002, 2.3043333333333336, 2.7610000000000006, 2.808666666666667, 2.1923333333333335, 2.5406666666666666, 2.296666666666667, 2.2436666666666665, 1.9176666666666666, 2.323, 2.7566666666666664, 2.4403333333333332, 2.3866666666666667, 2.5860000000000003, 1.7696666666666665, 2.582333333333333, 2.252333333333333, 2.7699999999999996, 2.497666666666667, 2.832666666666667, 2.6333333333333333, 2.738, 2.872666666666667, 3.001, 2.9890000000000003, 2.436, 2.5116666666666667, 2.7099999999999995, 2.2903333333333333, 2.7146666666666666, 2.441333333333334, 2.598666666666667, 2.501, 2.9416666666666664, 2.8539999999999996, 3.392, 3.0656666666666665, 2.6296666666666666, 2.2466666666666666, 2.412333333333333, 2.7533333333333334, 2.7416666666666667, 3.2560000000000002, 2.731, 2.9766666666666666, 2.904, 3.1223333333333336, 3.512, 2.8926666666666665, 3.4173333333333336, 2.2656666666666667, 3.128, 3.1653333333333333, 3.373333333333333, 2.6433333333333335, 3.3866666666666667, 3.241, 2.892, 3.1613333333333333, 3.279, 3.7076666666666664, 3.297333333333333, 3.3706666666666667, 3.301666666666667, 3.3806666666666665, 3.5096666666666665, 2.7763333333333335, 3.191333333333333, 3.176666666666667, 3.359, 3.142333333333333, 2.752333333333333, 2.932666666666666, 3.368, 3.5303333333333335, 2.9006666666666665, 3.285, 2.9483333333333337, 3.312, 3.6970000000000005, 3.3529999999999998, 3.59, 3.369666666666667, 3.546333333333333, 3.557, 3.1223333333333336, 3.2213333333333334, 3.054, 3.176666666666667, 2.946, 2.8753333333333337, 3.3640000000000003, 3.2336666666666667, 2.7563333333333335, 3.5893333333333337, 2.7976666666666667, 3.373666666666667, 3.1986666666666665, 3.2373333333333334, 3.300333333333333, 3.3733333333333335, 3.5413333333333337, 4.108333333333333, 3.388666666666667, 3.696, 3.0730000000000004, 3.1663333333333328, 3.6856666666666666, 3.920666666666667, 3.7463333333333337, 3.589, 3.7703333333333333, 3.7660000000000005, 3.861666666666667, 3.6936666666666667, 3.3156666666666665, 4.1063333333333345, 3.7330000000000005, 3.782666666666666, 4.282333333333334, 4.267666666666667, 3.6656666666666666, 3.8543333333333334, 4.256, 4.399666666666666, 4.093666666666667, 4.202, 4.234333333333333, 4.441, 3.6016666666666666, 4.030333333333332, 4.142666666666666, 3.893333333333333, 3.629, 4.210333333333334, 4.027333333333334, 4.687666666666666]}],\n",
              "                        {\"template\": {\"data\": {\"bar\": [{\"error_x\": {\"color\": \"#2a3f5f\"}, \"error_y\": {\"color\": \"#2a3f5f\"}, \"marker\": {\"line\": {\"color\": \"#E5ECF6\", \"width\": 0.5}}, \"type\": \"bar\"}], \"barpolar\": [{\"marker\": {\"line\": {\"color\": \"#E5ECF6\", \"width\": 0.5}}, \"type\": \"barpolar\"}], \"carpet\": [{\"aaxis\": {\"endlinecolor\": \"#2a3f5f\", \"gridcolor\": \"white\", \"linecolor\": \"white\", \"minorgridcolor\": \"white\", \"startlinecolor\": \"#2a3f5f\"}, \"baxis\": {\"endlinecolor\": \"#2a3f5f\", \"gridcolor\": \"white\", \"linecolor\": \"white\", \"minorgridcolor\": \"white\", \"startlinecolor\": \"#2a3f5f\"}, \"type\": \"carpet\"}], \"choropleth\": [{\"colorbar\": {\"outlinewidth\": 0, \"ticks\": \"\"}, \"type\": \"choropleth\"}], \"contour\": [{\"colorbar\": {\"outlinewidth\": 0, \"ticks\": \"\"}, \"colorscale\": [[0.0, \"#0d0887\"], [0.1111111111111111, \"#46039f\"], [0.2222222222222222, \"#7201a8\"], [0.3333333333333333, \"#9c179e\"], [0.4444444444444444, \"#bd3786\"], [0.5555555555555556, \"#d8576b\"], [0.6666666666666666, \"#ed7953\"], [0.7777777777777778, \"#fb9f3a\"], [0.8888888888888888, \"#fdca26\"], [1.0, \"#f0f921\"]], \"type\": \"contour\"}], \"contourcarpet\": [{\"colorbar\": {\"outlinewidth\": 0, \"ticks\": \"\"}, \"type\": \"contourcarpet\"}], \"heatmap\": [{\"colorbar\": {\"outlinewidth\": 0, \"ticks\": \"\"}, \"colorscale\": [[0.0, \"#0d0887\"], [0.1111111111111111, \"#46039f\"], [0.2222222222222222, \"#7201a8\"], [0.3333333333333333, \"#9c179e\"], [0.4444444444444444, \"#bd3786\"], [0.5555555555555556, \"#d8576b\"], [0.6666666666666666, \"#ed7953\"], [0.7777777777777778, \"#fb9f3a\"], [0.8888888888888888, \"#fdca26\"], [1.0, \"#f0f921\"]], \"type\": \"heatmap\"}], \"heatmapgl\": [{\"colorbar\": {\"outlinewidth\": 0, \"ticks\": \"\"}, \"colorscale\": [[0.0, \"#0d0887\"], [0.1111111111111111, \"#46039f\"], [0.2222222222222222, \"#7201a8\"], [0.3333333333333333, \"#9c179e\"], [0.4444444444444444, \"#bd3786\"], [0.5555555555555556, \"#d8576b\"], [0.6666666666666666, \"#ed7953\"], [0.7777777777777778, \"#fb9f3a\"], [0.8888888888888888, \"#fdca26\"], [1.0, \"#f0f921\"]], \"type\": \"heatmapgl\"}], \"histogram\": [{\"marker\": {\"colorbar\": {\"outlinewidth\": 0, \"ticks\": \"\"}}, \"type\": \"histogram\"}], \"histogram2d\": [{\"colorbar\": {\"outlinewidth\": 0, \"ticks\": \"\"}, \"colorscale\": [[0.0, \"#0d0887\"], [0.1111111111111111, \"#46039f\"], [0.2222222222222222, \"#7201a8\"], [0.3333333333333333, \"#9c179e\"], [0.4444444444444444, \"#bd3786\"], [0.5555555555555556, \"#d8576b\"], [0.6666666666666666, \"#ed7953\"], [0.7777777777777778, \"#fb9f3a\"], [0.8888888888888888, \"#fdca26\"], [1.0, \"#f0f921\"]], \"type\": \"histogram2d\"}], \"histogram2dcontour\": [{\"colorbar\": {\"outlinewidth\": 0, \"ticks\": \"\"}, \"colorscale\": [[0.0, \"#0d0887\"], [0.1111111111111111, \"#46039f\"], [0.2222222222222222, \"#7201a8\"], [0.3333333333333333, \"#9c179e\"], [0.4444444444444444, \"#bd3786\"], [0.5555555555555556, \"#d8576b\"], [0.6666666666666666, \"#ed7953\"], [0.7777777777777778, \"#fb9f3a\"], [0.8888888888888888, \"#fdca26\"], [1.0, \"#f0f921\"]], \"type\": \"histogram2dcontour\"}], \"mesh3d\": [{\"colorbar\": {\"outlinewidth\": 0, \"ticks\": \"\"}, \"type\": \"mesh3d\"}], \"parcoords\": [{\"line\": {\"colorbar\": {\"outlinewidth\": 0, \"ticks\": \"\"}}, \"type\": \"parcoords\"}], \"pie\": [{\"automargin\": true, \"type\": \"pie\"}], \"scatter\": [{\"marker\": {\"colorbar\": {\"outlinewidth\": 0, \"ticks\": \"\"}}, \"type\": \"scatter\"}], \"scatter3d\": [{\"line\": {\"colorbar\": {\"outlinewidth\": 0, \"ticks\": \"\"}}, \"marker\": {\"colorbar\": {\"outlinewidth\": 0, \"ticks\": \"\"}}, \"type\": \"scatter3d\"}], \"scattercarpet\": [{\"marker\": {\"colorbar\": {\"outlinewidth\": 0, \"ticks\": \"\"}}, \"type\": \"scattercarpet\"}], \"scattergeo\": [{\"marker\": {\"colorbar\": {\"outlinewidth\": 0, \"ticks\": \"\"}}, \"type\": \"scattergeo\"}], \"scattergl\": [{\"marker\": {\"colorbar\": {\"outlinewidth\": 0, \"ticks\": \"\"}}, \"type\": \"scattergl\"}], \"scattermapbox\": [{\"marker\": {\"colorbar\": {\"outlinewidth\": 0, \"ticks\": \"\"}}, \"type\": \"scattermapbox\"}], \"scatterpolar\": [{\"marker\": {\"colorbar\": {\"outlinewidth\": 0, \"ticks\": \"\"}}, \"type\": \"scatterpolar\"}], \"scatterpolargl\": [{\"marker\": {\"colorbar\": {\"outlinewidth\": 0, \"ticks\": \"\"}}, \"type\": \"scatterpolargl\"}], \"scatterternary\": [{\"marker\": {\"colorbar\": {\"outlinewidth\": 0, \"ticks\": \"\"}}, \"type\": \"scatterternary\"}], \"surface\": [{\"colorbar\": {\"outlinewidth\": 0, \"ticks\": \"\"}, \"colorscale\": [[0.0, \"#0d0887\"], [0.1111111111111111, \"#46039f\"], [0.2222222222222222, \"#7201a8\"], [0.3333333333333333, \"#9c179e\"], [0.4444444444444444, \"#bd3786\"], [0.5555555555555556, \"#d8576b\"], [0.6666666666666666, \"#ed7953\"], [0.7777777777777778, \"#fb9f3a\"], [0.8888888888888888, \"#fdca26\"], [1.0, \"#f0f921\"]], \"type\": \"surface\"}], \"table\": [{\"cells\": {\"fill\": {\"color\": \"#EBF0F8\"}, \"line\": {\"color\": \"white\"}}, \"header\": {\"fill\": {\"color\": \"#C8D4E3\"}, \"line\": {\"color\": \"white\"}}, \"type\": \"table\"}]}, \"layout\": {\"annotationdefaults\": {\"arrowcolor\": \"#2a3f5f\", \"arrowhead\": 0, \"arrowwidth\": 1}, \"coloraxis\": {\"colorbar\": {\"outlinewidth\": 0, \"ticks\": \"\"}}, \"colorscale\": {\"diverging\": [[0, \"#8e0152\"], [0.1, \"#c51b7d\"], [0.2, \"#de77ae\"], [0.3, \"#f1b6da\"], [0.4, \"#fde0ef\"], [0.5, \"#f7f7f7\"], [0.6, \"#e6f5d0\"], [0.7, \"#b8e186\"], [0.8, \"#7fbc41\"], [0.9, \"#4d9221\"], [1, \"#276419\"]], \"sequential\": [[0.0, \"#0d0887\"], [0.1111111111111111, \"#46039f\"], [0.2222222222222222, \"#7201a8\"], [0.3333333333333333, \"#9c179e\"], [0.4444444444444444, \"#bd3786\"], [0.5555555555555556, \"#d8576b\"], [0.6666666666666666, \"#ed7953\"], [0.7777777777777778, \"#fb9f3a\"], [0.8888888888888888, \"#fdca26\"], [1.0, \"#f0f921\"]], \"sequentialminus\": [[0.0, \"#0d0887\"], [0.1111111111111111, \"#46039f\"], [0.2222222222222222, \"#7201a8\"], [0.3333333333333333, \"#9c179e\"], [0.4444444444444444, \"#bd3786\"], [0.5555555555555556, \"#d8576b\"], [0.6666666666666666, \"#ed7953\"], [0.7777777777777778, \"#fb9f3a\"], [0.8888888888888888, \"#fdca26\"], [1.0, \"#f0f921\"]]}, \"colorway\": [\"#636efa\", \"#EF553B\", \"#00cc96\", \"#ab63fa\", \"#FFA15A\", \"#19d3f3\", \"#FF6692\", \"#B6E880\", \"#FF97FF\", \"#FECB52\"], \"font\": {\"color\": \"#2a3f5f\"}, \"geo\": {\"bgcolor\": \"white\", \"lakecolor\": \"white\", \"landcolor\": \"#E5ECF6\", \"showlakes\": true, \"showland\": true, \"subunitcolor\": \"white\"}, \"hoverlabel\": {\"align\": \"left\"}, \"hovermode\": \"closest\", \"mapbox\": {\"style\": \"light\"}, \"paper_bgcolor\": \"white\", \"plot_bgcolor\": \"#E5ECF6\", \"polar\": {\"angularaxis\": {\"gridcolor\": \"white\", \"linecolor\": \"white\", \"ticks\": \"\"}, \"bgcolor\": \"#E5ECF6\", \"radialaxis\": {\"gridcolor\": \"white\", \"linecolor\": \"white\", \"ticks\": \"\"}}, \"scene\": {\"xaxis\": {\"backgroundcolor\": \"#E5ECF6\", \"gridcolor\": \"white\", \"gridwidth\": 2, \"linecolor\": \"white\", \"showbackground\": true, \"ticks\": \"\", \"zerolinecolor\": \"white\"}, \"yaxis\": {\"backgroundcolor\": \"#E5ECF6\", \"gridcolor\": \"white\", \"gridwidth\": 2, \"linecolor\": \"white\", \"showbackground\": true, \"ticks\": \"\", \"zerolinecolor\": \"white\"}, \"zaxis\": {\"backgroundcolor\": \"#E5ECF6\", \"gridcolor\": \"white\", \"gridwidth\": 2, \"linecolor\": \"white\", \"showbackground\": true, \"ticks\": \"\", \"zerolinecolor\": \"white\"}}, \"shapedefaults\": {\"line\": {\"color\": \"#2a3f5f\"}}, \"ternary\": {\"aaxis\": {\"gridcolor\": \"white\", \"linecolor\": \"white\", \"ticks\": \"\"}, \"baxis\": {\"gridcolor\": \"white\", \"linecolor\": \"white\", \"ticks\": \"\"}, \"bgcolor\": \"#E5ECF6\", \"caxis\": {\"gridcolor\": \"white\", \"linecolor\": \"white\", \"ticks\": \"\"}}, \"title\": {\"x\": 0.05}, \"xaxis\": {\"automargin\": true, \"gridcolor\": \"white\", \"linecolor\": \"white\", \"ticks\": \"\", \"title\": {\"standoff\": 15}, \"zerolinecolor\": \"white\", \"zerolinewidth\": 2}, \"yaxis\": {\"automargin\": true, \"gridcolor\": \"white\", \"linecolor\": \"white\", \"ticks\": \"\", \"title\": {\"standoff\": 15}, \"zerolinecolor\": \"white\", \"zerolinewidth\": 2}}}},\n",
              "                        {\"responsive\": true}\n",
              "                    ).then(function(){\n",
              "                            \n",
              "var gd = document.getElementById('e626000a-89f1-44a0-99e3-7a49d46cd1f0');\n",
              "var x = new MutationObserver(function (mutations, observer) {{\n",
              "        var display = window.getComputedStyle(gd).display;\n",
              "        if (!display || display === 'none') {{\n",
              "            console.log([gd, 'removed!']);\n",
              "            Plotly.purge(gd);\n",
              "            observer.disconnect();\n",
              "        }}\n",
              "}});\n",
              "\n",
              "// Listen for the removal of the full notebook cells\n",
              "var notebookContainer = gd.closest('#notebook-container');\n",
              "if (notebookContainer) {{\n",
              "    x.observe(notebookContainer, {childList: true});\n",
              "}}\n",
              "\n",
              "// Listen for the clearing of the current output cell\n",
              "var outputEl = gd.closest('.output');\n",
              "if (outputEl) {{\n",
              "    x.observe(outputEl, {childList: true});\n",
              "}}\n",
              "\n",
              "                        })\n",
              "                };\n",
              "                \n",
              "            </script>\n",
              "        </div>\n",
              "</body>\n",
              "</html>"
            ]
          },
          "metadata": {
            "tags": []
          }
        }
      ]
    },
    {
      "cell_type": "markdown",
      "metadata": {
        "id": "NgzP9C3A8Yoi"
      },
      "source": [
        "    Is it getting warmer? Yes, it is."
      ]
    },
    {
      "cell_type": "markdown",
      "metadata": {
        "id": "_n7EKdlEO1ya"
      },
      "source": [
        " Building a Time Series Model"
      ]
    },
    {
      "cell_type": "code",
      "metadata": {
        "id": "CavOVHdy8Yok"
      },
      "source": [
        "cities=pd.read_csv(/content/GlobalLandTemperaturesByCity.csv')"
      ],
      "execution_count": null,
      "outputs": []
    },
    {
      "cell_type": "code",
      "metadata": {
        "id": "9SUU7vKn8Yol",
        "outputId": "6a022024-921f-4ec7-9071-6897a3425c3d"
      },
      "source": [
        "cities.head()"
      ],
      "execution_count": null,
      "outputs": [
        {
          "output_type": "execute_result",
          "data": {
            "text/html": [
              "<div>\n",
              "<style scoped>\n",
              "    .dataframe tbody tr th:only-of-type {\n",
              "        vertical-align: middle;\n",
              "    }\n",
              "\n",
              "    .dataframe tbody tr th {\n",
              "        vertical-align: top;\n",
              "    }\n",
              "\n",
              "    .dataframe thead th {\n",
              "        text-align: right;\n",
              "    }\n",
              "</style>\n",
              "<table border=\"1\" class=\"dataframe\">\n",
              "  <thead>\n",
              "    <tr style=\"text-align: right;\">\n",
              "      <th></th>\n",
              "      <th>dt</th>\n",
              "      <th>AverageTemperature</th>\n",
              "      <th>AverageTemperatureUncertainty</th>\n",
              "      <th>City</th>\n",
              "      <th>Country</th>\n",
              "      <th>Latitude</th>\n",
              "      <th>Longitude</th>\n",
              "    </tr>\n",
              "  </thead>\n",
              "  <tbody>\n",
              "    <tr>\n",
              "      <th>0</th>\n",
              "      <td>1743-11-01</td>\n",
              "      <td>6.068</td>\n",
              "      <td>1.737</td>\n",
              "      <td>Århus</td>\n",
              "      <td>Denmark</td>\n",
              "      <td>57.05N</td>\n",
              "      <td>10.33E</td>\n",
              "    </tr>\n",
              "    <tr>\n",
              "      <th>1</th>\n",
              "      <td>1743-12-01</td>\n",
              "      <td>NaN</td>\n",
              "      <td>NaN</td>\n",
              "      <td>Århus</td>\n",
              "      <td>Denmark</td>\n",
              "      <td>57.05N</td>\n",
              "      <td>10.33E</td>\n",
              "    </tr>\n",
              "    <tr>\n",
              "      <th>2</th>\n",
              "      <td>1744-01-01</td>\n",
              "      <td>NaN</td>\n",
              "      <td>NaN</td>\n",
              "      <td>Århus</td>\n",
              "      <td>Denmark</td>\n",
              "      <td>57.05N</td>\n",
              "      <td>10.33E</td>\n",
              "    </tr>\n",
              "    <tr>\n",
              "      <th>3</th>\n",
              "      <td>1744-02-01</td>\n",
              "      <td>NaN</td>\n",
              "      <td>NaN</td>\n",
              "      <td>Århus</td>\n",
              "      <td>Denmark</td>\n",
              "      <td>57.05N</td>\n",
              "      <td>10.33E</td>\n",
              "    </tr>\n",
              "    <tr>\n",
              "      <th>4</th>\n",
              "      <td>1744-03-01</td>\n",
              "      <td>NaN</td>\n",
              "      <td>NaN</td>\n",
              "      <td>Århus</td>\n",
              "      <td>Denmark</td>\n",
              "      <td>57.05N</td>\n",
              "      <td>10.33E</td>\n",
              "    </tr>\n",
              "  </tbody>\n",
              "</table>\n",
              "</div>"
            ],
            "text/plain": [
              "           dt  AverageTemperature  AverageTemperatureUncertainty   City  \\\n",
              "0  1743-11-01               6.068                          1.737  Århus   \n",
              "1  1743-12-01                 NaN                            NaN  Århus   \n",
              "2  1744-01-01                 NaN                            NaN  Århus   \n",
              "3  1744-02-01                 NaN                            NaN  Århus   \n",
              "4  1744-03-01                 NaN                            NaN  Århus   \n",
              "\n",
              "   Country Latitude Longitude  \n",
              "0  Denmark   57.05N    10.33E  \n",
              "1  Denmark   57.05N    10.33E  \n",
              "2  Denmark   57.05N    10.33E  \n",
              "3  Denmark   57.05N    10.33E  \n",
              "4  Denmark   57.05N    10.33E  "
            ]
          },
          "metadata": {
            "tags": []
          },
          "execution_count": 40
        }
      ]
    },
    {
      "cell_type": "code",
      "metadata": {
        "id": "_-Ru-Via8Yom",
        "outputId": "cee305aa-16d1-45b5-c1ed-93fc6363c7dc"
      },
      "source": [
        "cities.shape"
      ],
      "execution_count": null,
      "outputs": [
        {
          "output_type": "execute_result",
          "data": {
            "text/plain": [
              "(8599212, 7)"
            ]
          },
          "metadata": {
            "tags": []
          },
          "execution_count": 41
        }
      ]
    },
    {
      "cell_type": "code",
      "metadata": {
        "id": "EmA-pij68Yon"
      },
      "source": [
        "usa=cities[cities['Country']=='United States']"
      ],
      "execution_count": null,
      "outputs": []
    },
    {
      "cell_type": "code",
      "metadata": {
        "id": "MZ7e-PFQ8Yoo",
        "outputId": "26c94862-c4cc-4b41-c7c5-7a688a70fa81"
      },
      "source": [
        "usa.shape"
      ],
      "execution_count": null,
      "outputs": [
        {
          "output_type": "execute_result",
          "data": {
            "text/plain": [
              "(687289, 7)"
            ]
          },
          "metadata": {
            "tags": []
          },
          "execution_count": 43
        }
      ]
    },
    {
      "cell_type": "code",
      "metadata": {
        "id": "ibBIk4D98Yop"
      },
      "source": [
        "data=['New York','Los Angeles','San Francisco']"
      ],
      "execution_count": null,
      "outputs": []
    },
    {
      "cell_type": "code",
      "metadata": {
        "id": "GgUR93lI8Yoq"
      },
      "source": [
        "data2=usa[usa['City'].isin(data)]"
      ],
      "execution_count": null,
      "outputs": []
    },
    {
      "cell_type": "code",
      "metadata": {
        "id": "44hcKA8J8Yoq",
        "outputId": "2e4693e6-a8a8-41d8-d3b5-b99646c1b10e"
      },
      "source": [
        "data2.head()"
      ],
      "execution_count": null,
      "outputs": [
        {
          "output_type": "execute_result",
          "data": {
            "text/html": [
              "<div>\n",
              "<style scoped>\n",
              "    .dataframe tbody tr th:only-of-type {\n",
              "        vertical-align: middle;\n",
              "    }\n",
              "\n",
              "    .dataframe tbody tr th {\n",
              "        vertical-align: top;\n",
              "    }\n",
              "\n",
              "    .dataframe thead th {\n",
              "        text-align: right;\n",
              "    }\n",
              "</style>\n",
              "<table border=\"1\" class=\"dataframe\">\n",
              "  <thead>\n",
              "    <tr style=\"text-align: right;\">\n",
              "      <th></th>\n",
              "      <th>dt</th>\n",
              "      <th>AverageTemperature</th>\n",
              "      <th>AverageTemperatureUncertainty</th>\n",
              "      <th>City</th>\n",
              "      <th>Country</th>\n",
              "      <th>Latitude</th>\n",
              "      <th>Longitude</th>\n",
              "    </tr>\n",
              "  </thead>\n",
              "  <tbody>\n",
              "    <tr>\n",
              "      <th>4356748</th>\n",
              "      <td>1849-01-01</td>\n",
              "      <td>8.819</td>\n",
              "      <td>2.558</td>\n",
              "      <td>Los Angeles</td>\n",
              "      <td>United States</td>\n",
              "      <td>34.56N</td>\n",
              "      <td>118.70W</td>\n",
              "    </tr>\n",
              "    <tr>\n",
              "      <th>4356749</th>\n",
              "      <td>1849-02-01</td>\n",
              "      <td>9.577</td>\n",
              "      <td>1.970</td>\n",
              "      <td>Los Angeles</td>\n",
              "      <td>United States</td>\n",
              "      <td>34.56N</td>\n",
              "      <td>118.70W</td>\n",
              "    </tr>\n",
              "    <tr>\n",
              "      <th>4356750</th>\n",
              "      <td>1849-03-01</td>\n",
              "      <td>11.814</td>\n",
              "      <td>2.173</td>\n",
              "      <td>Los Angeles</td>\n",
              "      <td>United States</td>\n",
              "      <td>34.56N</td>\n",
              "      <td>118.70W</td>\n",
              "    </tr>\n",
              "    <tr>\n",
              "      <th>4356751</th>\n",
              "      <td>1849-04-01</td>\n",
              "      <td>13.704</td>\n",
              "      <td>2.902</td>\n",
              "      <td>Los Angeles</td>\n",
              "      <td>United States</td>\n",
              "      <td>34.56N</td>\n",
              "      <td>118.70W</td>\n",
              "    </tr>\n",
              "    <tr>\n",
              "      <th>4356752</th>\n",
              "      <td>1849-05-01</td>\n",
              "      <td>14.834</td>\n",
              "      <td>2.017</td>\n",
              "      <td>Los Angeles</td>\n",
              "      <td>United States</td>\n",
              "      <td>34.56N</td>\n",
              "      <td>118.70W</td>\n",
              "    </tr>\n",
              "  </tbody>\n",
              "</table>\n",
              "</div>"
            ],
            "text/plain": [
              "                 dt  AverageTemperature  AverageTemperatureUncertainty  \\\n",
              "4356748  1849-01-01               8.819                          2.558   \n",
              "4356749  1849-02-01               9.577                          1.970   \n",
              "4356750  1849-03-01              11.814                          2.173   \n",
              "4356751  1849-04-01              13.704                          2.902   \n",
              "4356752  1849-05-01              14.834                          2.017   \n",
              "\n",
              "                City        Country Latitude Longitude  \n",
              "4356748  Los Angeles  United States   34.56N   118.70W  \n",
              "4356749  Los Angeles  United States   34.56N   118.70W  \n",
              "4356750  Los Angeles  United States   34.56N   118.70W  \n",
              "4356751  Los Angeles  United States   34.56N   118.70W  \n",
              "4356752  Los Angeles  United States   34.56N   118.70W  "
            ]
          },
          "metadata": {
            "tags": []
          },
          "execution_count": 47
        }
      ]
    },
    {
      "cell_type": "markdown",
      "metadata": {
        "id": "6FvLvBeCYAKA"
      },
      "source": [
        "Extracting the required columns"
      ]
    },
    {
      "cell_type": "code",
      "metadata": {
        "id": "2HQMpOVA8Yor"
      },
      "source": [
        "data2=data2[['dt','AverageTemperature']]"
      ],
      "execution_count": null,
      "outputs": []
    },
    {
      "cell_type": "code",
      "metadata": {
        "id": "GmcJpnYQ8Yor",
        "outputId": "46de4bef-f7b3-437f-a6d5-b082645c11ab"
      },
      "source": [
        "data2.head()"
      ],
      "execution_count": null,
      "outputs": [
        {
          "output_type": "execute_result",
          "data": {
            "text/html": [
              "<div>\n",
              "<style scoped>\n",
              "    .dataframe tbody tr th:only-of-type {\n",
              "        vertical-align: middle;\n",
              "    }\n",
              "\n",
              "    .dataframe tbody tr th {\n",
              "        vertical-align: top;\n",
              "    }\n",
              "\n",
              "    .dataframe thead th {\n",
              "        text-align: right;\n",
              "    }\n",
              "</style>\n",
              "<table border=\"1\" class=\"dataframe\">\n",
              "  <thead>\n",
              "    <tr style=\"text-align: right;\">\n",
              "      <th></th>\n",
              "      <th>dt</th>\n",
              "      <th>AverageTemperature</th>\n",
              "    </tr>\n",
              "  </thead>\n",
              "  <tbody>\n",
              "    <tr>\n",
              "      <th>4356748</th>\n",
              "      <td>1849-01-01</td>\n",
              "      <td>8.819</td>\n",
              "    </tr>\n",
              "    <tr>\n",
              "      <th>4356749</th>\n",
              "      <td>1849-02-01</td>\n",
              "      <td>9.577</td>\n",
              "    </tr>\n",
              "    <tr>\n",
              "      <th>4356750</th>\n",
              "      <td>1849-03-01</td>\n",
              "      <td>11.814</td>\n",
              "    </tr>\n",
              "    <tr>\n",
              "      <th>4356751</th>\n",
              "      <td>1849-04-01</td>\n",
              "      <td>13.704</td>\n",
              "    </tr>\n",
              "    <tr>\n",
              "      <th>4356752</th>\n",
              "      <td>1849-05-01</td>\n",
              "      <td>14.834</td>\n",
              "    </tr>\n",
              "  </tbody>\n",
              "</table>\n",
              "</div>"
            ],
            "text/plain": [
              "                 dt  AverageTemperature\n",
              "4356748  1849-01-01               8.819\n",
              "4356749  1849-02-01               9.577\n",
              "4356750  1849-03-01              11.814\n",
              "4356751  1849-04-01              13.704\n",
              "4356752  1849-05-01              14.834"
            ]
          },
          "metadata": {
            "tags": []
          },
          "execution_count": 49
        }
      ]
    },
    {
      "cell_type": "code",
      "metadata": {
        "id": "1HPXDPTm8Yos"
      },
      "source": [
        "data2.columns=['Date','Temp']"
      ],
      "execution_count": null,
      "outputs": []
    },
    {
      "cell_type": "code",
      "metadata": {
        "id": "c_oyqFU58Yot",
        "outputId": "405bb93f-857a-4f84-93c1-013ecc9c3a67"
      },
      "source": [
        "data2.head()"
      ],
      "execution_count": null,
      "outputs": [
        {
          "output_type": "execute_result",
          "data": {
            "text/html": [
              "<div>\n",
              "<style scoped>\n",
              "    .dataframe tbody tr th:only-of-type {\n",
              "        vertical-align: middle;\n",
              "    }\n",
              "\n",
              "    .dataframe tbody tr th {\n",
              "        vertical-align: top;\n",
              "    }\n",
              "\n",
              "    .dataframe thead th {\n",
              "        text-align: right;\n",
              "    }\n",
              "</style>\n",
              "<table border=\"1\" class=\"dataframe\">\n",
              "  <thead>\n",
              "    <tr style=\"text-align: right;\">\n",
              "      <th></th>\n",
              "      <th>Date</th>\n",
              "      <th>Temp</th>\n",
              "    </tr>\n",
              "  </thead>\n",
              "  <tbody>\n",
              "    <tr>\n",
              "      <th>4356748</th>\n",
              "      <td>1849-01-01</td>\n",
              "      <td>8.819</td>\n",
              "    </tr>\n",
              "    <tr>\n",
              "      <th>4356749</th>\n",
              "      <td>1849-02-01</td>\n",
              "      <td>9.577</td>\n",
              "    </tr>\n",
              "    <tr>\n",
              "      <th>4356750</th>\n",
              "      <td>1849-03-01</td>\n",
              "      <td>11.814</td>\n",
              "    </tr>\n",
              "    <tr>\n",
              "      <th>4356751</th>\n",
              "      <td>1849-04-01</td>\n",
              "      <td>13.704</td>\n",
              "    </tr>\n",
              "    <tr>\n",
              "      <th>4356752</th>\n",
              "      <td>1849-05-01</td>\n",
              "      <td>14.834</td>\n",
              "    </tr>\n",
              "  </tbody>\n",
              "</table>\n",
              "</div>"
            ],
            "text/plain": [
              "               Date    Temp\n",
              "4356748  1849-01-01   8.819\n",
              "4356749  1849-02-01   9.577\n",
              "4356750  1849-03-01  11.814\n",
              "4356751  1849-04-01  13.704\n",
              "4356752  1849-05-01  14.834"
            ]
          },
          "metadata": {
            "tags": []
          },
          "execution_count": 51
        }
      ]
    },
    {
      "cell_type": "code",
      "metadata": {
        "id": "1HPWPMiq8Yot",
        "outputId": "da71f6ed-2024-419e-af1b-6e9a896b156e"
      },
      "source": [
        "data2.dtypes"
      ],
      "execution_count": null,
      "outputs": [
        {
          "output_type": "execute_result",
          "data": {
            "text/plain": [
              "Date     object\n",
              "Temp    float64\n",
              "dtype: object"
            ]
          },
          "metadata": {
            "tags": []
          },
          "execution_count": 52
        }
      ]
    },
    {
      "cell_type": "code",
      "metadata": {
        "id": "HI1JtPkP8Yo1"
      },
      "source": [
        "data2['Date']=pd.to_datetime(data2['Date'])"
      ],
      "execution_count": null,
      "outputs": []
    },
    {
      "cell_type": "code",
      "metadata": {
        "id": "c81b4UDg8Yo2",
        "outputId": "05f4355e-096f-4e9f-c0b3-ed5c20090ac2"
      },
      "source": [
        "data2.isna().sum()"
      ],
      "execution_count": null,
      "outputs": [
        {
          "output_type": "execute_result",
          "data": {
            "text/plain": [
              "Date      0\n",
              "Temp    120\n",
              "dtype: int64"
            ]
          },
          "metadata": {
            "tags": []
          },
          "execution_count": 54
        }
      ]
    },
    {
      "cell_type": "code",
      "metadata": {
        "id": "_6cUIZji8Yo6"
      },
      "source": [
        "data2.dropna(inplace=True)"
      ],
      "execution_count": null,
      "outputs": []
    },
    {
      "cell_type": "code",
      "metadata": {
        "id": "QBTdAM_78Yo7",
        "outputId": "eecd3083-1c43-4c69-b355-a4792b77de7f"
      },
      "source": [
        "data2.shape"
      ],
      "execution_count": null,
      "outputs": [
        {
          "output_type": "execute_result",
          "data": {
            "text/plain": [
              "(7073, 2)"
            ]
          },
          "metadata": {
            "tags": []
          },
          "execution_count": 56
        }
      ]
    },
    {
      "cell_type": "markdown",
      "metadata": {
        "id": "gT6Btn0FYaUr"
      },
      "source": [
        "for Machine Learning,feature is a columns & we have by-default index as from 0 but for our time series Problem,we have date column our as row-index"
      ]
    },
    {
      "cell_type": "code",
      "metadata": {
        "id": "iu785fnc8Yo8"
      },
      "source": [
        "data2.set_index('Date',inplace=True)"
      ],
      "execution_count": null,
      "outputs": []
    },
    {
      "cell_type": "code",
      "metadata": {
        "id": "kRyzhlsH8Yo9",
        "outputId": "6796ac89-7aa7-4921-a2dc-e670b0c691ff"
      },
      "source": [
        "data2.head()"
      ],
      "execution_count": null,
      "outputs": [
        {
          "output_type": "execute_result",
          "data": {
            "text/html": [
              "<div>\n",
              "<style scoped>\n",
              "    .dataframe tbody tr th:only-of-type {\n",
              "        vertical-align: middle;\n",
              "    }\n",
              "\n",
              "    .dataframe tbody tr th {\n",
              "        vertical-align: top;\n",
              "    }\n",
              "\n",
              "    .dataframe thead th {\n",
              "        text-align: right;\n",
              "    }\n",
              "</style>\n",
              "<table border=\"1\" class=\"dataframe\">\n",
              "  <thead>\n",
              "    <tr style=\"text-align: right;\">\n",
              "      <th></th>\n",
              "      <th>Temp</th>\n",
              "    </tr>\n",
              "    <tr>\n",
              "      <th>Date</th>\n",
              "      <th></th>\n",
              "    </tr>\n",
              "  </thead>\n",
              "  <tbody>\n",
              "    <tr>\n",
              "      <th>1849-01-01</th>\n",
              "      <td>8.819</td>\n",
              "    </tr>\n",
              "    <tr>\n",
              "      <th>1849-02-01</th>\n",
              "      <td>9.577</td>\n",
              "    </tr>\n",
              "    <tr>\n",
              "      <th>1849-03-01</th>\n",
              "      <td>11.814</td>\n",
              "    </tr>\n",
              "    <tr>\n",
              "      <th>1849-04-01</th>\n",
              "      <td>13.704</td>\n",
              "    </tr>\n",
              "    <tr>\n",
              "      <th>1849-05-01</th>\n",
              "      <td>14.834</td>\n",
              "    </tr>\n",
              "  </tbody>\n",
              "</table>\n",
              "</div>"
            ],
            "text/plain": [
              "              Temp\n",
              "Date              \n",
              "1849-01-01   8.819\n",
              "1849-02-01   9.577\n",
              "1849-03-01  11.814\n",
              "1849-04-01  13.704\n",
              "1849-05-01  14.834"
            ]
          },
          "metadata": {
            "tags": []
          },
          "execution_count": 58
        }
      ]
    },
    {
      "cell_type": "code",
      "metadata": {
        "id": "qBnMKD108Yo-",
        "outputId": "1fe3fec6-b061-4b23-fdef-24149fcdded5"
      },
      "source": [
        "sns.lineplot(x=data2.index,y=data2['Temp'])"
      ],
      "execution_count": null,
      "outputs": [
        {
          "output_type": "execute_result",
          "data": {
            "text/plain": [
              "<matplotlib.axes._subplots.AxesSubplot at 0xec0001de88>"
            ]
          },
          "metadata": {
            "tags": []
          },
          "execution_count": 59
        },
        {
          "output_type": "display_data",
          "data": {
            "image/png": "[encoded data removed]",
            "text/plain": [
              "<Figure size 432x288 with 1 Axes>"
            ]
          },
          "metadata": {
            "tags": [],
            "needs_background": "light"
          }
        }
      ]
    },
    {
      "cell_type": "markdown",
      "metadata": {
        "id": "TGh7rNIeZCPI"
      },
      "source": [
        "Statistical test to check stationarity"
      ]
    },
    {
      "cell_type": "code",
      "metadata": {
        "id": "02_7sZ5i8YpA"
      },
      "source": [
        "from statsmodels.tsa.stattools import adfuller"
      ],
      "execution_count": null,
      "outputs": []
    },
    {
      "cell_type": "code",
      "metadata": {
        "id": "3_M2awqx8YpA"
      },
      "source": [
        "#apply adfuller on data2['Temp']\n",
        "test_result=adfuller(data2['Temp'])"
      ],
      "execution_count": null,
      "outputs": []
    },
    {
      "cell_type": "markdown",
      "metadata": {
        "id": "Ki6am-tNaqHE"
      },
      "source": [
        "\n",
        "*   Null Hypotehsis (H0): it suggests the time \n",
        "series has a unit root, meaning it is non-stationary. It has some time dependent structure.\n",
        "*   Alternate Hypothesis (H1): it suggests the time series does not have a unit root, meaning it is stationary.\n",
        "\n",
        "* p-value > 0.05: Accept H0, the data has a unit root and is non-stationary\n",
        "* p-value ≤ 0.05: Reject H0. the data does not have a unit root and is stationary\n",
        "\n",
        "\n",
        "\n",
        "\n",
        "\n",
        "\n",
        "\n",
        "\n",
        "\n"
      ]
    },
    {
      "cell_type": "code",
      "metadata": {
        "id": "VHJGbbCy8YpB"
      },
      "source": [
        "def adfuller_test(Temp):\n",
        "    result=adfuller(Temp)\n",
        "    labels = ['ADF Test Statistic','p-value','#Lags Used','Number of Observations Used']\n",
        "    for value,label in zip(result,labels):\n",
        "        print(label+' : '+str(value) )\n",
        "    if result[1] <= 0.05:\n",
        "        print(\"strong evidence against the null hypothesis(Ho), reject the null hypothesis. Data has no unit root and is stationary\")\n",
        "    else:\n",
        "        print(\"weak evidence against null hypothesis, time series has a unit root, indicating it is non-stationary \")\n",
        "    "
      ],
      "execution_count": null,
      "outputs": []
    },
    {
      "cell_type": "code",
      "metadata": {
        "id": "CSPGl_oK8YpC",
        "outputId": "89898c23-ae1b-453e-c1ec-2c6da071d785"
      },
      "source": [
        "adfuller_test(data2['Temp'])"
      ],
      "execution_count": null,
      "outputs": [
        {
          "output_type": "stream",
          "text": [
            "ADF Test Staistics : -2.006389303675715\n",
            "p-value : 0.283778658333361\n",
            "#lags used : 35\n",
            "Number of observations used : 7037\n",
            "weak evidemce against the null hypo , accept the null hypo ,data has no unit root and non stationery\n"
          ],
          "name": "stdout"
        }
      ]
    },
    {
      "cell_type": "code",
      "metadata": {
        "id": "MDtdmX9z8YpE"
      },
      "source": [
        "df=data2.copy()"
      ],
      "execution_count": null,
      "outputs": []
    },
    {
      "cell_type": "code",
      "metadata": {
        "id": "2ZLp63L28YpE",
        "outputId": "4681067f-7852-4107-80f1-a998833de27c"
      },
      "source": [
        "df.head()"
      ],
      "execution_count": null,
      "outputs": [
        {
          "output_type": "execute_result",
          "data": {
            "text/html": [
              "<div>\n",
              "<style scoped>\n",
              "    .dataframe tbody tr th:only-of-type {\n",
              "        vertical-align: middle;\n",
              "    }\n",
              "\n",
              "    .dataframe tbody tr th {\n",
              "        vertical-align: top;\n",
              "    }\n",
              "\n",
              "    .dataframe thead th {\n",
              "        text-align: right;\n",
              "    }\n",
              "</style>\n",
              "<table border=\"1\" class=\"dataframe\">\n",
              "  <thead>\n",
              "    <tr style=\"text-align: right;\">\n",
              "      <th></th>\n",
              "      <th>Temp</th>\n",
              "    </tr>\n",
              "    <tr>\n",
              "      <th>Date</th>\n",
              "      <th></th>\n",
              "    </tr>\n",
              "  </thead>\n",
              "  <tbody>\n",
              "    <tr>\n",
              "      <th>1849-01-01</th>\n",
              "      <td>8.819</td>\n",
              "    </tr>\n",
              "    <tr>\n",
              "      <th>1849-02-01</th>\n",
              "      <td>9.577</td>\n",
              "    </tr>\n",
              "    <tr>\n",
              "      <th>1849-03-01</th>\n",
              "      <td>11.814</td>\n",
              "    </tr>\n",
              "    <tr>\n",
              "      <th>1849-04-01</th>\n",
              "      <td>13.704</td>\n",
              "    </tr>\n",
              "    <tr>\n",
              "      <th>1849-05-01</th>\n",
              "      <td>14.834</td>\n",
              "    </tr>\n",
              "  </tbody>\n",
              "</table>\n",
              "</div>"
            ],
            "text/plain": [
              "              Temp\n",
              "Date              \n",
              "1849-01-01   8.819\n",
              "1849-02-01   9.577\n",
              "1849-03-01  11.814\n",
              "1849-04-01  13.704\n",
              "1849-05-01  14.834"
            ]
          },
          "metadata": {
            "tags": []
          },
          "execution_count": 65
        }
      ]
    },
    {
      "cell_type": "markdown",
      "metadata": {
        "id": "pCZIDgSEcDSZ"
      },
      "source": [
        "To make the data stationary"
      ]
    },
    {
      "cell_type": "code",
      "metadata": {
        "id": "RnBR9BN38YpI"
      },
      "source": [
        "df['first_temp_diff']=df['Temp']-df['Temp'].shift(12)"
      ],
      "execution_count": null,
      "outputs": []
    },
    {
      "cell_type": "code",
      "metadata": {
        "id": "9SeTxdrw8YpJ",
        "outputId": "26d0c5ff-64a6-4d0e-9a01-3c7f47a8a163"
      },
      "source": [
        "df.head(20)"
      ],
      "execution_count": null,
      "outputs": [
        {
          "output_type": "execute_result",
          "data": {
            "text/html": [
              "<div>\n",
              "<style scoped>\n",
              "    .dataframe tbody tr th:only-of-type {\n",
              "        vertical-align: middle;\n",
              "    }\n",
              "\n",
              "    .dataframe tbody tr th {\n",
              "        vertical-align: top;\n",
              "    }\n",
              "\n",
              "    .dataframe thead th {\n",
              "        text-align: right;\n",
              "    }\n",
              "</style>\n",
              "<table border=\"1\" class=\"dataframe\">\n",
              "  <thead>\n",
              "    <tr style=\"text-align: right;\">\n",
              "      <th></th>\n",
              "      <th>Temp</th>\n",
              "      <th>first_temp_diff</th>\n",
              "    </tr>\n",
              "    <tr>\n",
              "      <th>Date</th>\n",
              "      <th></th>\n",
              "      <th></th>\n",
              "    </tr>\n",
              "  </thead>\n",
              "  <tbody>\n",
              "    <tr>\n",
              "      <th>1849-01-01</th>\n",
              "      <td>8.819</td>\n",
              "      <td>NaN</td>\n",
              "    </tr>\n",
              "    <tr>\n",
              "      <th>1849-02-01</th>\n",
              "      <td>9.577</td>\n",
              "      <td>NaN</td>\n",
              "    </tr>\n",
              "    <tr>\n",
              "      <th>1849-03-01</th>\n",
              "      <td>11.814</td>\n",
              "      <td>NaN</td>\n",
              "    </tr>\n",
              "    <tr>\n",
              "      <th>1849-04-01</th>\n",
              "      <td>13.704</td>\n",
              "      <td>NaN</td>\n",
              "    </tr>\n",
              "    <tr>\n",
              "      <th>1849-05-01</th>\n",
              "      <td>14.834</td>\n",
              "      <td>NaN</td>\n",
              "    </tr>\n",
              "    <tr>\n",
              "      <th>1849-06-01</th>\n",
              "      <td>21.173</td>\n",
              "      <td>NaN</td>\n",
              "    </tr>\n",
              "    <tr>\n",
              "      <th>1849-07-01</th>\n",
              "      <td>26.159</td>\n",
              "      <td>NaN</td>\n",
              "    </tr>\n",
              "    <tr>\n",
              "      <th>1849-08-01</th>\n",
              "      <td>26.099</td>\n",
              "      <td>NaN</td>\n",
              "    </tr>\n",
              "    <tr>\n",
              "      <th>1849-09-01</th>\n",
              "      <td>21.848</td>\n",
              "      <td>NaN</td>\n",
              "    </tr>\n",
              "    <tr>\n",
              "      <th>1849-10-01</th>\n",
              "      <td>16.549</td>\n",
              "      <td>NaN</td>\n",
              "    </tr>\n",
              "    <tr>\n",
              "      <th>1849-11-01</th>\n",
              "      <td>10.907</td>\n",
              "      <td>NaN</td>\n",
              "    </tr>\n",
              "    <tr>\n",
              "      <th>1849-12-01</th>\n",
              "      <td>7.032</td>\n",
              "      <td>NaN</td>\n",
              "    </tr>\n",
              "    <tr>\n",
              "      <th>1850-01-01</th>\n",
              "      <td>7.087</td>\n",
              "      <td>-1.732</td>\n",
              "    </tr>\n",
              "    <tr>\n",
              "      <th>1850-02-01</th>\n",
              "      <td>8.575</td>\n",
              "      <td>-1.002</td>\n",
              "    </tr>\n",
              "    <tr>\n",
              "      <th>1850-03-01</th>\n",
              "      <td>10.365</td>\n",
              "      <td>-1.449</td>\n",
              "    </tr>\n",
              "    <tr>\n",
              "      <th>1850-04-01</th>\n",
              "      <td>13.735</td>\n",
              "      <td>0.031</td>\n",
              "    </tr>\n",
              "    <tr>\n",
              "      <th>1850-05-01</th>\n",
              "      <td>16.633</td>\n",
              "      <td>1.799</td>\n",
              "    </tr>\n",
              "    <tr>\n",
              "      <th>1850-06-01</th>\n",
              "      <td>20.241</td>\n",
              "      <td>-0.932</td>\n",
              "    </tr>\n",
              "    <tr>\n",
              "      <th>1850-07-01</th>\n",
              "      <td>23.445</td>\n",
              "      <td>-2.714</td>\n",
              "    </tr>\n",
              "    <tr>\n",
              "      <th>1850-08-01</th>\n",
              "      <td>25.935</td>\n",
              "      <td>-0.164</td>\n",
              "    </tr>\n",
              "  </tbody>\n",
              "</table>\n",
              "</div>"
            ],
            "text/plain": [
              "              Temp  first_temp_diff\n",
              "Date                               \n",
              "1849-01-01   8.819              NaN\n",
              "1849-02-01   9.577              NaN\n",
              "1849-03-01  11.814              NaN\n",
              "1849-04-01  13.704              NaN\n",
              "1849-05-01  14.834              NaN\n",
              "1849-06-01  21.173              NaN\n",
              "1849-07-01  26.159              NaN\n",
              "1849-08-01  26.099              NaN\n",
              "1849-09-01  21.848              NaN\n",
              "1849-10-01  16.549              NaN\n",
              "1849-11-01  10.907              NaN\n",
              "1849-12-01   7.032              NaN\n",
              "1850-01-01   7.087           -1.732\n",
              "1850-02-01   8.575           -1.002\n",
              "1850-03-01  10.365           -1.449\n",
              "1850-04-01  13.735            0.031\n",
              "1850-05-01  16.633            1.799\n",
              "1850-06-01  20.241           -0.932\n",
              "1850-07-01  23.445           -2.714\n",
              "1850-08-01  25.935           -0.164"
            ]
          },
          "metadata": {
            "tags": []
          },
          "execution_count": 71
        }
      ]
    },
    {
      "cell_type": "code",
      "metadata": {
        "id": "oUNhfkGH8YpK",
        "outputId": "157a679d-8fbe-455b-ed4b-72a6e1768244"
      },
      "source": [
        "adfuller_test(df['first_temp_diff'].dropna())"
      ],
      "execution_count": null,
      "outputs": [
        {
          "output_type": "stream",
          "text": [
            "ADF Test Statistic : -21.239650404910833\n",
            "p-value : 0.0\n",
            "#Lags Used : 35\n",
            "Number of Observations Used : 7025\n",
            "strong evidence against the null hypothesis(Ho), reject the null hypothesis. Data has no unit root and is stationary\n"
          ],
          "name": "stdout"
        }
      ]
    },
    {
      "cell_type": "code",
      "metadata": {
        "id": "NJi-Gv8j8YpM"
      },
      "source": [
        ""
      ],
      "execution_count": null,
      "outputs": []
    },
    {
      "cell_type": "code",
      "metadata": {
        "id": "1JLEmDau8YpM",
        "outputId": "d9ab2c6e-fe71-41dc-debf-43272484f892"
      },
      "source": [
        "df[['first_temp_diff']].plot(figsize=(30,15))"
      ],
      "execution_count": null,
      "outputs": [
        {
          "output_type": "execute_result",
          "data": {
            "text/plain": [
              "<matplotlib.axes._subplots.AxesSubplot at 0xec009d8848>"
            ]
          },
          "metadata": {
            "tags": []
          },
          "execution_count": 79
        },
        {
          "output_type": "display_data",
          "data": {
            "image/png": "[encoded data removed]",
            "text/plain": [
              "<Figure size 2160x1080 with 1 Axes>"
            ]
          },
          "metadata": {
            "tags": [],
            "needs_background": "light"
          }
        }
      ]
    },
    {
      "cell_type": "markdown",
      "metadata": {
        "id": "nxwABN_B8YpO"
      },
      "source": [
        "### Examine whether there is a seasonality factor in your data "
      ]
    },
    {
      "cell_type": "code",
      "metadata": {
        "id": "AgPTyThH8YpO",
        "outputId": "7d5858ee-179c-494e-a996-08601692892c"
      },
      "source": [
        "data2.head()"
      ],
      "execution_count": null,
      "outputs": [
        {
          "output_type": "execute_result",
          "data": {
            "text/html": [
              "<div>\n",
              "<style scoped>\n",
              "    .dataframe tbody tr th:only-of-type {\n",
              "        vertical-align: middle;\n",
              "    }\n",
              "\n",
              "    .dataframe tbody tr th {\n",
              "        vertical-align: top;\n",
              "    }\n",
              "\n",
              "    .dataframe thead th {\n",
              "        text-align: right;\n",
              "    }\n",
              "</style>\n",
              "<table border=\"1\" class=\"dataframe\">\n",
              "  <thead>\n",
              "    <tr style=\"text-align: right;\">\n",
              "      <th></th>\n",
              "      <th>Temp</th>\n",
              "    </tr>\n",
              "    <tr>\n",
              "      <th>Date</th>\n",
              "      <th></th>\n",
              "    </tr>\n",
              "  </thead>\n",
              "  <tbody>\n",
              "    <tr>\n",
              "      <th>1849-01-01</th>\n",
              "      <td>8.819</td>\n",
              "    </tr>\n",
              "    <tr>\n",
              "      <th>1849-02-01</th>\n",
              "      <td>9.577</td>\n",
              "    </tr>\n",
              "    <tr>\n",
              "      <th>1849-03-01</th>\n",
              "      <td>11.814</td>\n",
              "    </tr>\n",
              "    <tr>\n",
              "      <th>1849-04-01</th>\n",
              "      <td>13.704</td>\n",
              "    </tr>\n",
              "    <tr>\n",
              "      <th>1849-05-01</th>\n",
              "      <td>14.834</td>\n",
              "    </tr>\n",
              "  </tbody>\n",
              "</table>\n",
              "</div>"
            ],
            "text/plain": [
              "              Temp\n",
              "Date              \n",
              "1849-01-01   8.819\n",
              "1849-02-01   9.577\n",
              "1849-03-01  11.814\n",
              "1849-04-01  13.704\n",
              "1849-05-01  14.834"
            ]
          },
          "metadata": {
            "tags": []
          },
          "execution_count": 80
        }
      ]
    },
    {
      "cell_type": "code",
      "metadata": {
        "id": "LAu5mqxP8YpQ"
      },
      "source": [
        "data2['month']=data2.index.month"
      ],
      "execution_count": null,
      "outputs": []
    },
    {
      "cell_type": "code",
      "metadata": {
        "id": "xwU5Runh8YpR"
      },
      "source": [
        "data2['year']=data2.index.year"
      ],
      "execution_count": null,
      "outputs": []
    },
    {
      "cell_type": "code",
      "metadata": {
        "id": "SC_Tp9oI8YpR",
        "outputId": "ec303802-2bb4-4993-a00d-e9607441b031"
      },
      "source": [
        "data2.head()"
      ],
      "execution_count": null,
      "outputs": [
        {
          "output_type": "execute_result",
          "data": {
            "text/html": [
              "<div>\n",
              "<style scoped>\n",
              "    .dataframe tbody tr th:only-of-type {\n",
              "        vertical-align: middle;\n",
              "    }\n",
              "\n",
              "    .dataframe tbody tr th {\n",
              "        vertical-align: top;\n",
              "    }\n",
              "\n",
              "    .dataframe thead th {\n",
              "        text-align: right;\n",
              "    }\n",
              "</style>\n",
              "<table border=\"1\" class=\"dataframe\">\n",
              "  <thead>\n",
              "    <tr style=\"text-align: right;\">\n",
              "      <th></th>\n",
              "      <th>Temp</th>\n",
              "      <th>month</th>\n",
              "      <th>year</th>\n",
              "    </tr>\n",
              "    <tr>\n",
              "      <th>Date</th>\n",
              "      <th></th>\n",
              "      <th></th>\n",
              "      <th></th>\n",
              "    </tr>\n",
              "  </thead>\n",
              "  <tbody>\n",
              "    <tr>\n",
              "      <th>1849-01-01</th>\n",
              "      <td>8.819</td>\n",
              "      <td>1</td>\n",
              "      <td>1849</td>\n",
              "    </tr>\n",
              "    <tr>\n",
              "      <th>1849-02-01</th>\n",
              "      <td>9.577</td>\n",
              "      <td>2</td>\n",
              "      <td>1849</td>\n",
              "    </tr>\n",
              "    <tr>\n",
              "      <th>1849-03-01</th>\n",
              "      <td>11.814</td>\n",
              "      <td>3</td>\n",
              "      <td>1849</td>\n",
              "    </tr>\n",
              "    <tr>\n",
              "      <th>1849-04-01</th>\n",
              "      <td>13.704</td>\n",
              "      <td>4</td>\n",
              "      <td>1849</td>\n",
              "    </tr>\n",
              "    <tr>\n",
              "      <th>1849-05-01</th>\n",
              "      <td>14.834</td>\n",
              "      <td>5</td>\n",
              "      <td>1849</td>\n",
              "    </tr>\n",
              "  </tbody>\n",
              "</table>\n",
              "</div>"
            ],
            "text/plain": [
              "              Temp  month  year\n",
              "Date                           \n",
              "1849-01-01   8.819      1  1849\n",
              "1849-02-01   9.577      2  1849\n",
              "1849-03-01  11.814      3  1849\n",
              "1849-04-01  13.704      4  1849\n",
              "1849-05-01  14.834      5  1849"
            ]
          },
          "metadata": {
            "tags": []
          },
          "execution_count": 84
        }
      ]
    },
    {
      "cell_type": "code",
      "metadata": {
        "id": "kNMgUbId8YpS"
      },
      "source": [
        "pivot=data2.pivot_table(values='Temp',index='month',columns='year')"
      ],
      "execution_count": null,
      "outputs": []
    },
    {
      "cell_type": "code",
      "metadata": {
        "id": "J0tFnwq28YpT",
        "outputId": "a21a633e-6d64-41be-9a77-5dcae9798bd9"
      },
      "source": [
        "pivot"
      ],
      "execution_count": null,
      "outputs": [
        {
          "output_type": "execute_result",
          "data": {
            "text/html": [
              "<div>\n",
              "<style scoped>\n",
              "    .dataframe tbody tr th:only-of-type {\n",
              "        vertical-align: middle;\n",
              "    }\n",
              "\n",
              "    .dataframe tbody tr th {\n",
              "        vertical-align: top;\n",
              "    }\n",
              "\n",
              "    .dataframe thead th {\n",
              "        text-align: right;\n",
              "    }\n",
              "</style>\n",
              "<table border=\"1\" class=\"dataframe\">\n",
              "  <thead>\n",
              "    <tr style=\"text-align: right;\">\n",
              "      <th>year</th>\n",
              "      <th>1743</th>\n",
              "      <th>1744</th>\n",
              "      <th>1745</th>\n",
              "      <th>1750</th>\n",
              "      <th>1751</th>\n",
              "      <th>1752</th>\n",
              "      <th>1753</th>\n",
              "      <th>1754</th>\n",
              "      <th>1755</th>\n",
              "      <th>1756</th>\n",
              "      <th>...</th>\n",
              "      <th>2004</th>\n",
              "      <th>2005</th>\n",
              "      <th>2006</th>\n",
              "      <th>2007</th>\n",
              "      <th>2008</th>\n",
              "      <th>2009</th>\n",
              "      <th>2010</th>\n",
              "      <th>2011</th>\n",
              "      <th>2012</th>\n",
              "      <th>2013</th>\n",
              "    </tr>\n",
              "    <tr>\n",
              "      <th>month</th>\n",
              "      <th></th>\n",
              "      <th></th>\n",
              "      <th></th>\n",
              "      <th></th>\n",
              "      <th></th>\n",
              "      <th></th>\n",
              "      <th></th>\n",
              "      <th></th>\n",
              "      <th></th>\n",
              "      <th></th>\n",
              "      <th></th>\n",
              "      <th></th>\n",
              "      <th></th>\n",
              "      <th></th>\n",
              "      <th></th>\n",
              "      <th></th>\n",
              "      <th></th>\n",
              "      <th></th>\n",
              "      <th></th>\n",
              "      <th></th>\n",
              "      <th></th>\n",
              "    </tr>\n",
              "  </thead>\n",
              "  <tbody>\n",
              "    <tr>\n",
              "      <th>1</th>\n",
              "      <td>NaN</td>\n",
              "      <td>NaN</td>\n",
              "      <td>-2.363</td>\n",
              "      <td>-4.310</td>\n",
              "      <td>-3.591</td>\n",
              "      <td>-7.588</td>\n",
              "      <td>-3.122</td>\n",
              "      <td>-2.252</td>\n",
              "      <td>-3.193</td>\n",
              "      <td>-1.985</td>\n",
              "      <td>...</td>\n",
              "      <td>4.080333</td>\n",
              "      <td>4.923000</td>\n",
              "      <td>7.135333</td>\n",
              "      <td>5.656000</td>\n",
              "      <td>5.216333</td>\n",
              "      <td>5.550333</td>\n",
              "      <td>5.776667</td>\n",
              "      <td>5.109333</td>\n",
              "      <td>7.177667</td>\n",
              "      <td>5.388333</td>\n",
              "    </tr>\n",
              "    <tr>\n",
              "      <th>2</th>\n",
              "      <td>NaN</td>\n",
              "      <td>NaN</td>\n",
              "      <td>-2.671</td>\n",
              "      <td>-2.719</td>\n",
              "      <td>-2.051</td>\n",
              "      <td>NaN</td>\n",
              "      <td>-1.467</td>\n",
              "      <td>-2.583</td>\n",
              "      <td>-1.802</td>\n",
              "      <td>0.259</td>\n",
              "      <td>...</td>\n",
              "      <td>6.100000</td>\n",
              "      <td>7.297000</td>\n",
              "      <td>7.547667</td>\n",
              "      <td>5.634000</td>\n",
              "      <td>6.754333</td>\n",
              "      <td>6.540667</td>\n",
              "      <td>6.788000</td>\n",
              "      <td>5.777333</td>\n",
              "      <td>7.970000</td>\n",
              "      <td>6.222667</td>\n",
              "    </tr>\n",
              "    <tr>\n",
              "      <th>3</th>\n",
              "      <td>NaN</td>\n",
              "      <td>NaN</td>\n",
              "      <td>1.363</td>\n",
              "      <td>2.773</td>\n",
              "      <td>3.256</td>\n",
              "      <td>3.322</td>\n",
              "      <td>4.207</td>\n",
              "      <td>2.728</td>\n",
              "      <td>1.112</td>\n",
              "      <td>NaN</td>\n",
              "      <td>...</td>\n",
              "      <td>12.184000</td>\n",
              "      <td>9.124667</td>\n",
              "      <td>7.527333</td>\n",
              "      <td>10.586000</td>\n",
              "      <td>9.733667</td>\n",
              "      <td>9.211000</td>\n",
              "      <td>10.486667</td>\n",
              "      <td>9.115000</td>\n",
              "      <td>10.604333</td>\n",
              "      <td>10.162333</td>\n",
              "    </tr>\n",
              "    <tr>\n",
              "      <th>4</th>\n",
              "      <td>NaN</td>\n",
              "      <td>9.788</td>\n",
              "      <td>8.209</td>\n",
              "      <td>8.848</td>\n",
              "      <td>7.992</td>\n",
              "      <td>7.402</td>\n",
              "      <td>8.099</td>\n",
              "      <td>NaN</td>\n",
              "      <td>8.714</td>\n",
              "      <td>NaN</td>\n",
              "      <td>...</td>\n",
              "      <td>13.806333</td>\n",
              "      <td>12.546000</td>\n",
              "      <td>12.051667</td>\n",
              "      <td>12.342000</td>\n",
              "      <td>13.113000</td>\n",
              "      <td>12.744000</td>\n",
              "      <td>12.254000</td>\n",
              "      <td>12.710000</td>\n",
              "      <td>13.075000</td>\n",
              "      <td>13.880000</td>\n",
              "    </tr>\n",
              "    <tr>\n",
              "      <th>5</th>\n",
              "      <td>NaN</td>\n",
              "      <td>15.708</td>\n",
              "      <td>NaN</td>\n",
              "      <td>15.411</td>\n",
              "      <td>NaN</td>\n",
              "      <td>NaN</td>\n",
              "      <td>15.330</td>\n",
              "      <td>NaN</td>\n",
              "      <td>15.238</td>\n",
              "      <td>NaN</td>\n",
              "      <td>...</td>\n",
              "      <td>17.817333</td>\n",
              "      <td>15.982333</td>\n",
              "      <td>17.123333</td>\n",
              "      <td>17.150000</td>\n",
              "      <td>15.800333</td>\n",
              "      <td>17.565667</td>\n",
              "      <td>15.856333</td>\n",
              "      <td>15.724000</td>\n",
              "      <td>17.670333</td>\n",
              "      <td>17.335333</td>\n",
              "    </tr>\n",
              "    <tr>\n",
              "      <th>6</th>\n",
              "      <td>NaN</td>\n",
              "      <td>21.210</td>\n",
              "      <td>NaN</td>\n",
              "      <td>19.017</td>\n",
              "      <td>20.724</td>\n",
              "      <td>NaN</td>\n",
              "      <td>20.820</td>\n",
              "      <td>20.075</td>\n",
              "      <td>19.964</td>\n",
              "      <td>20.488</td>\n",
              "      <td>...</td>\n",
              "      <td>19.872000</td>\n",
              "      <td>19.775333</td>\n",
              "      <td>21.395333</td>\n",
              "      <td>20.514333</td>\n",
              "      <td>21.474667</td>\n",
              "      <td>18.941667</td>\n",
              "      <td>20.436667</td>\n",
              "      <td>19.305000</td>\n",
              "      <td>19.904333</td>\n",
              "      <td>21.028333</td>\n",
              "    </tr>\n",
              "    <tr>\n",
              "      <th>7</th>\n",
              "      <td>NaN</td>\n",
              "      <td>22.207</td>\n",
              "      <td>NaN</td>\n",
              "      <td>24.203</td>\n",
              "      <td>22.668</td>\n",
              "      <td>NaN</td>\n",
              "      <td>22.524</td>\n",
              "      <td>22.503</td>\n",
              "      <td>NaN</td>\n",
              "      <td>22.452</td>\n",
              "      <td>...</td>\n",
              "      <td>22.246333</td>\n",
              "      <td>23.611667</td>\n",
              "      <td>24.655333</td>\n",
              "      <td>22.628333</td>\n",
              "      <td>23.020000</td>\n",
              "      <td>22.247667</td>\n",
              "      <td>22.538667</td>\n",
              "      <td>22.733333</td>\n",
              "      <td>22.654000</td>\n",
              "      <td>23.489667</td>\n",
              "    </tr>\n",
              "    <tr>\n",
              "      <th>8</th>\n",
              "      <td>NaN</td>\n",
              "      <td>NaN</td>\n",
              "      <td>NaN</td>\n",
              "      <td>22.135</td>\n",
              "      <td>21.547</td>\n",
              "      <td>NaN</td>\n",
              "      <td>21.324</td>\n",
              "      <td>21.461</td>\n",
              "      <td>NaN</td>\n",
              "      <td>21.208</td>\n",
              "      <td>...</td>\n",
              "      <td>22.101333</td>\n",
              "      <td>23.028333</td>\n",
              "      <td>21.920333</td>\n",
              "      <td>22.690000</td>\n",
              "      <td>22.305333</td>\n",
              "      <td>22.578000</td>\n",
              "      <td>21.665333</td>\n",
              "      <td>22.028667</td>\n",
              "      <td>23.384667</td>\n",
              "      <td>21.654667</td>\n",
              "    </tr>\n",
              "    <tr>\n",
              "      <th>9</th>\n",
              "      <td>NaN</td>\n",
              "      <td>14.922</td>\n",
              "      <td>NaN</td>\n",
              "      <td>17.445</td>\n",
              "      <td>15.812</td>\n",
              "      <td>NaN</td>\n",
              "      <td>15.548</td>\n",
              "      <td>16.281</td>\n",
              "      <td>16.137</td>\n",
              "      <td>17.345</td>\n",
              "      <td>...</td>\n",
              "      <td>20.669333</td>\n",
              "      <td>19.427667</td>\n",
              "      <td>19.365333</td>\n",
              "      <td>19.559000</td>\n",
              "      <td>20.686667</td>\n",
              "      <td>20.752667</td>\n",
              "      <td>20.537333</td>\n",
              "      <td>20.856333</td>\n",
              "      <td>20.655667</td>\n",
              "      <td>20.393333</td>\n",
              "    </tr>\n",
              "    <tr>\n",
              "      <th>10</th>\n",
              "      <td>NaN</td>\n",
              "      <td>8.968</td>\n",
              "      <td>NaN</td>\n",
              "      <td>9.076</td>\n",
              "      <td>NaN</td>\n",
              "      <td>9.391</td>\n",
              "      <td>10.479</td>\n",
              "      <td>11.477</td>\n",
              "      <td>8.669</td>\n",
              "      <td>9.662</td>\n",
              "      <td>...</td>\n",
              "      <td>14.205667</td>\n",
              "      <td>15.098000</td>\n",
              "      <td>14.368667</td>\n",
              "      <td>15.985667</td>\n",
              "      <td>15.699000</td>\n",
              "      <td>14.313333</td>\n",
              "      <td>15.170333</td>\n",
              "      <td>15.846667</td>\n",
              "      <td>16.147667</td>\n",
              "      <td>NaN</td>\n",
              "    </tr>\n",
              "    <tr>\n",
              "      <th>11</th>\n",
              "      <td>3.264</td>\n",
              "      <td>3.161</td>\n",
              "      <td>NaN</td>\n",
              "      <td>NaN</td>\n",
              "      <td>NaN</td>\n",
              "      <td>5.831</td>\n",
              "      <td>3.363</td>\n",
              "      <td>NaN</td>\n",
              "      <td>3.599</td>\n",
              "      <td>2.894</td>\n",
              "      <td>...</td>\n",
              "      <td>9.758333</td>\n",
              "      <td>11.739667</td>\n",
              "      <td>11.861333</td>\n",
              "      <td>10.836333</td>\n",
              "      <td>11.423000</td>\n",
              "      <td>11.484000</td>\n",
              "      <td>10.032333</td>\n",
              "      <td>10.378000</td>\n",
              "      <td>10.457667</td>\n",
              "      <td>NaN</td>\n",
              "    </tr>\n",
              "    <tr>\n",
              "      <th>12</th>\n",
              "      <td>NaN</td>\n",
              "      <td>-2.681</td>\n",
              "      <td>NaN</td>\n",
              "      <td>-1.093</td>\n",
              "      <td>NaN</td>\n",
              "      <td>-1.471</td>\n",
              "      <td>-2.854</td>\n",
              "      <td>-0.752</td>\n",
              "      <td>-2.381</td>\n",
              "      <td>-2.900</td>\n",
              "      <td>...</td>\n",
              "      <td>6.428000</td>\n",
              "      <td>6.582667</td>\n",
              "      <td>7.701667</td>\n",
              "      <td>5.474333</td>\n",
              "      <td>5.610667</td>\n",
              "      <td>5.425333</td>\n",
              "      <td>6.119667</td>\n",
              "      <td>6.991000</td>\n",
              "      <td>6.749333</td>\n",
              "      <td>NaN</td>\n",
              "    </tr>\n",
              "  </tbody>\n",
              "</table>\n",
              "<p>12 rows × 266 columns</p>\n",
              "</div>"
            ],
            "text/plain": [
              "year    1743    1744   1745    1750    1751   1752    1753    1754    1755  \\\n",
              "month                                                                        \n",
              "1        NaN     NaN -2.363  -4.310  -3.591 -7.588  -3.122  -2.252  -3.193   \n",
              "2        NaN     NaN -2.671  -2.719  -2.051    NaN  -1.467  -2.583  -1.802   \n",
              "3        NaN     NaN  1.363   2.773   3.256  3.322   4.207   2.728   1.112   \n",
              "4        NaN   9.788  8.209   8.848   7.992  7.402   8.099     NaN   8.714   \n",
              "5        NaN  15.708    NaN  15.411     NaN    NaN  15.330     NaN  15.238   \n",
              "6        NaN  21.210    NaN  19.017  20.724    NaN  20.820  20.075  19.964   \n",
              "7        NaN  22.207    NaN  24.203  22.668    NaN  22.524  22.503     NaN   \n",
              "8        NaN     NaN    NaN  22.135  21.547    NaN  21.324  21.461     NaN   \n",
              "9        NaN  14.922    NaN  17.445  15.812    NaN  15.548  16.281  16.137   \n",
              "10       NaN   8.968    NaN   9.076     NaN  9.391  10.479  11.477   8.669   \n",
              "11     3.264   3.161    NaN     NaN     NaN  5.831   3.363     NaN   3.599   \n",
              "12       NaN  -2.681    NaN  -1.093     NaN -1.471  -2.854  -0.752  -2.381   \n",
              "\n",
              "year     1756  ...       2004       2005       2006       2007       2008  \\\n",
              "month          ...                                                          \n",
              "1      -1.985  ...   4.080333   4.923000   7.135333   5.656000   5.216333   \n",
              "2       0.259  ...   6.100000   7.297000   7.547667   5.634000   6.754333   \n",
              "3         NaN  ...  12.184000   9.124667   7.527333  10.586000   9.733667   \n",
              "4         NaN  ...  13.806333  12.546000  12.051667  12.342000  13.113000   \n",
              "5         NaN  ...  17.817333  15.982333  17.123333  17.150000  15.800333   \n",
              "6      20.488  ...  19.872000  19.775333  21.395333  20.514333  21.474667   \n",
              "7      22.452  ...  22.246333  23.611667  24.655333  22.628333  23.020000   \n",
              "8      21.208  ...  22.101333  23.028333  21.920333  22.690000  22.305333   \n",
              "9      17.345  ...  20.669333  19.427667  19.365333  19.559000  20.686667   \n",
              "10      9.662  ...  14.205667  15.098000  14.368667  15.985667  15.699000   \n",
              "11      2.894  ...   9.758333  11.739667  11.861333  10.836333  11.423000   \n",
              "12     -2.900  ...   6.428000   6.582667   7.701667   5.474333   5.610667   \n",
              "\n",
              "year        2009       2010       2011       2012       2013  \n",
              "month                                                         \n",
              "1       5.550333   5.776667   5.109333   7.177667   5.388333  \n",
              "2       6.540667   6.788000   5.777333   7.970000   6.222667  \n",
              "3       9.211000  10.486667   9.115000  10.604333  10.162333  \n",
              "4      12.744000  12.254000  12.710000  13.075000  13.880000  \n",
              "5      17.565667  15.856333  15.724000  17.670333  17.335333  \n",
              "6      18.941667  20.436667  19.305000  19.904333  21.028333  \n",
              "7      22.247667  22.538667  22.733333  22.654000  23.489667  \n",
              "8      22.578000  21.665333  22.028667  23.384667  21.654667  \n",
              "9      20.752667  20.537333  20.856333  20.655667  20.393333  \n",
              "10     14.313333  15.170333  15.846667  16.147667        NaN  \n",
              "11     11.484000  10.032333  10.378000  10.457667        NaN  \n",
              "12      5.425333   6.119667   6.991000   6.749333        NaN  \n",
              "\n",
              "[12 rows x 266 columns]"
            ]
          },
          "metadata": {
            "tags": []
          },
          "execution_count": 86
        }
      ]
    },
    {
      "cell_type": "code",
      "metadata": {
        "id": "zjzddMAs8YpT",
        "outputId": "ba5c5765-711d-4d78-c5f7-b2c1a7be93bf"
      },
      "source": [
        "pivot.plot(figsize=(20,6))\n",
        "plt.legend().remove()\n",
        "plt.xlabel('Months')\n",
        "plt.ylabel('Temperatures')"
      ],
      "execution_count": null,
      "outputs": [
        {
          "output_type": "execute_result",
          "data": {
            "text/plain": [
              "Text(0, 0.5, 'Temperatures')"
            ]
          },
          "metadata": {
            "tags": []
          },
          "execution_count": 91
        },
        {
          "output_type": "display_data",
          "data": {
            "image/png": "[encoded data removed]",
            "text/plain": [
              "<Figure size 1440x432 with 1 Axes>"
            ]
          },
          "metadata": {
            "tags": [],
            "needs_background": "light"
          }
        }
      ]
    },
    {
      "cell_type": "markdown",
      "metadata": {
        "id": "FCH9t6Oz8YpU"
      },
      "source": [
        "So we can say this data is seasonal. The series clearly has some seasonality, the higher temperatures are around b/w June & August and the lower are between December & Feb "
      ]
    },
    {
      "cell_type": "markdown",
      "metadata": {
        "id": "_iF-kfiZc4_g"
      },
      "source": [
        "To make the above visualisation more clear"
      ]
    },
    {
      "cell_type": "code",
      "metadata": {
        "id": "um6j_F_y8YpW"
      },
      "source": [
        "monthly_seasonality=pivot.mean(axis=1)"
      ],
      "execution_count": null,
      "outputs": []
    },
    {
      "cell_type": "code",
      "metadata": {
        "id": "OBAbsle-8YpX",
        "outputId": "32d82adc-6ead-4291-a340-568e7b90c570"
      },
      "source": [
        "monthly_seasonality.plot(figsize=(20,6))"
      ],
      "execution_count": null,
      "outputs": [
        {
          "output_type": "execute_result",
          "data": {
            "text/plain": [
              "<matplotlib.axes._subplots.AxesSubplot at 0xec024b4648>"
            ]
          },
          "metadata": {
            "tags": []
          },
          "execution_count": 93
        },
        {
          "output_type": "display_data",
          "data": {
            "image/png": "[encoded data removed]",
            "text/plain": [
              "<Figure size 1440x432 with 1 Axes>"
            ]
          },
          "metadata": {
            "tags": [],
            "needs_background": "light"
          }
        }
      ]
    },
    {
      "cell_type": "markdown",
      "metadata": {
        "id": "YSmq1d54d5Q6"
      },
      "source": [
        "Moving average method"
      ]
    },
    {
      "cell_type": "code",
      "metadata": {
        "id": "lzdEFUHt8YpY",
        "outputId": "ea429be2-b54c-4a2c-92da-8db5a427e053"
      },
      "source": [
        "df.head()"
      ],
      "execution_count": null,
      "outputs": [
        {
          "output_type": "execute_result",
          "data": {
            "text/html": [
              "<div>\n",
              "<style scoped>\n",
              "    .dataframe tbody tr th:only-of-type {\n",
              "        vertical-align: middle;\n",
              "    }\n",
              "\n",
              "    .dataframe tbody tr th {\n",
              "        vertical-align: top;\n",
              "    }\n",
              "\n",
              "    .dataframe thead th {\n",
              "        text-align: right;\n",
              "    }\n",
              "</style>\n",
              "<table border=\"1\" class=\"dataframe\">\n",
              "  <thead>\n",
              "    <tr style=\"text-align: right;\">\n",
              "      <th></th>\n",
              "      <th>Temp</th>\n",
              "      <th>first_temp_diff</th>\n",
              "    </tr>\n",
              "    <tr>\n",
              "      <th>Date</th>\n",
              "      <th></th>\n",
              "      <th></th>\n",
              "    </tr>\n",
              "  </thead>\n",
              "  <tbody>\n",
              "    <tr>\n",
              "      <th>1849-01-01</th>\n",
              "      <td>8.819</td>\n",
              "      <td>NaN</td>\n",
              "    </tr>\n",
              "    <tr>\n",
              "      <th>1849-02-01</th>\n",
              "      <td>9.577</td>\n",
              "      <td>NaN</td>\n",
              "    </tr>\n",
              "    <tr>\n",
              "      <th>1849-03-01</th>\n",
              "      <td>11.814</td>\n",
              "      <td>NaN</td>\n",
              "    </tr>\n",
              "    <tr>\n",
              "      <th>1849-04-01</th>\n",
              "      <td>13.704</td>\n",
              "      <td>NaN</td>\n",
              "    </tr>\n",
              "    <tr>\n",
              "      <th>1849-05-01</th>\n",
              "      <td>14.834</td>\n",
              "      <td>NaN</td>\n",
              "    </tr>\n",
              "  </tbody>\n",
              "</table>\n",
              "</div>"
            ],
            "text/plain": [
              "              Temp  first_temp_diff\n",
              "Date                               \n",
              "1849-01-01   8.819              NaN\n",
              "1849-02-01   9.577              NaN\n",
              "1849-03-01  11.814              NaN\n",
              "1849-04-01  13.704              NaN\n",
              "1849-05-01  14.834              NaN"
            ]
          },
          "metadata": {
            "tags": []
          },
          "execution_count": 94
        }
      ]
    },
    {
      "cell_type": "code",
      "metadata": {
        "id": "O-I7OoAg8YpZ"
      },
      "source": [
        "df=df[['first_temp_diff']]"
      ],
      "execution_count": null,
      "outputs": []
    },
    {
      "cell_type": "code",
      "metadata": {
        "id": "QiXpPMC38Ypa",
        "outputId": "1da54b0f-aa33-4221-97c3-d7366c1de337"
      },
      "source": [
        "df.head()"
      ],
      "execution_count": null,
      "outputs": [
        {
          "output_type": "execute_result",
          "data": {
            "text/html": [
              "<div>\n",
              "<style scoped>\n",
              "    .dataframe tbody tr th:only-of-type {\n",
              "        vertical-align: middle;\n",
              "    }\n",
              "\n",
              "    .dataframe tbody tr th {\n",
              "        vertical-align: top;\n",
              "    }\n",
              "\n",
              "    .dataframe thead th {\n",
              "        text-align: right;\n",
              "    }\n",
              "</style>\n",
              "<table border=\"1\" class=\"dataframe\">\n",
              "  <thead>\n",
              "    <tr style=\"text-align: right;\">\n",
              "      <th></th>\n",
              "      <th>first_temp_diff</th>\n",
              "    </tr>\n",
              "    <tr>\n",
              "      <th>Date</th>\n",
              "      <th></th>\n",
              "    </tr>\n",
              "  </thead>\n",
              "  <tbody>\n",
              "    <tr>\n",
              "      <th>1849-01-01</th>\n",
              "      <td>NaN</td>\n",
              "    </tr>\n",
              "    <tr>\n",
              "      <th>1849-02-01</th>\n",
              "      <td>NaN</td>\n",
              "    </tr>\n",
              "    <tr>\n",
              "      <th>1849-03-01</th>\n",
              "      <td>NaN</td>\n",
              "    </tr>\n",
              "    <tr>\n",
              "      <th>1849-04-01</th>\n",
              "      <td>NaN</td>\n",
              "    </tr>\n",
              "    <tr>\n",
              "      <th>1849-05-01</th>\n",
              "      <td>NaN</td>\n",
              "    </tr>\n",
              "  </tbody>\n",
              "</table>\n",
              "</div>"
            ],
            "text/plain": [
              "            first_temp_diff\n",
              "Date                       \n",
              "1849-01-01              NaN\n",
              "1849-02-01              NaN\n",
              "1849-03-01              NaN\n",
              "1849-04-01              NaN\n",
              "1849-05-01              NaN"
            ]
          },
          "metadata": {
            "tags": []
          },
          "execution_count": 96
        }
      ]
    },
    {
      "cell_type": "code",
      "metadata": {
        "id": "K7BullHe8Ypb"
      },
      "source": [
        "df.dropna(inplace=True)"
      ],
      "execution_count": null,
      "outputs": []
    },
    {
      "cell_type": "code",
      "metadata": {
        "id": "0Cf3qxg-8Yph",
        "outputId": "47a0c72f-29c6-4b87-991d-10b5905b0c04"
      },
      "source": [
        "df.head()"
      ],
      "execution_count": null,
      "outputs": [
        {
          "output_type": "execute_result",
          "data": {
            "text/html": [
              "<div>\n",
              "<style scoped>\n",
              "    .dataframe tbody tr th:only-of-type {\n",
              "        vertical-align: middle;\n",
              "    }\n",
              "\n",
              "    .dataframe tbody tr th {\n",
              "        vertical-align: top;\n",
              "    }\n",
              "\n",
              "    .dataframe thead th {\n",
              "        text-align: right;\n",
              "    }\n",
              "</style>\n",
              "<table border=\"1\" class=\"dataframe\">\n",
              "  <thead>\n",
              "    <tr style=\"text-align: right;\">\n",
              "      <th></th>\n",
              "      <th>first_temp_diff</th>\n",
              "    </tr>\n",
              "    <tr>\n",
              "      <th>Date</th>\n",
              "      <th></th>\n",
              "    </tr>\n",
              "  </thead>\n",
              "  <tbody>\n",
              "    <tr>\n",
              "      <th>1850-01-01</th>\n",
              "      <td>-1.732</td>\n",
              "    </tr>\n",
              "    <tr>\n",
              "      <th>1850-02-01</th>\n",
              "      <td>-1.002</td>\n",
              "    </tr>\n",
              "    <tr>\n",
              "      <th>1850-03-01</th>\n",
              "      <td>-1.449</td>\n",
              "    </tr>\n",
              "    <tr>\n",
              "      <th>1850-04-01</th>\n",
              "      <td>0.031</td>\n",
              "    </tr>\n",
              "    <tr>\n",
              "      <th>1850-05-01</th>\n",
              "      <td>1.799</td>\n",
              "    </tr>\n",
              "  </tbody>\n",
              "</table>\n",
              "</div>"
            ],
            "text/plain": [
              "            first_temp_diff\n",
              "Date                       \n",
              "1850-01-01           -1.732\n",
              "1850-02-01           -1.002\n",
              "1850-03-01           -1.449\n",
              "1850-04-01            0.031\n",
              "1850-05-01            1.799"
            ]
          },
          "metadata": {
            "tags": []
          },
          "execution_count": 98
        }
      ]
    },
    {
      "cell_type": "code",
      "metadata": {
        "id": "_C8x5oB98Ypl"
      },
      "source": [
        "### smoothening your Time Series data"
      ],
      "execution_count": null,
      "outputs": []
    },
    {
      "cell_type": "code",
      "metadata": {
        "id": "V0kDCeIA8Ypm",
        "outputId": "6c4d14a8-59d9-4ec6-a513-f7eb72fd3d58"
      },
      "source": [
        "df['first_temp_diff'].rolling(window=5).mean()"
      ],
      "execution_count": null,
      "outputs": [
        {
          "output_type": "execute_result",
          "data": {
            "text/plain": [
              "Date\n",
              "1850-01-01       NaN\n",
              "1850-02-01       NaN\n",
              "1850-03-01       NaN\n",
              "1850-04-01       NaN\n",
              "1850-05-01   -0.4706\n",
              "               ...  \n",
              "2013-05-01    0.4336\n",
              "2013-06-01    1.0236\n",
              "2013-07-01    1.4060\n",
              "2013-08-01    0.8454\n",
              "2013-09-01    0.7614\n",
              "Name: first_temp_diff, Length: 7061, dtype: float64"
            ]
          },
          "metadata": {
            "tags": []
          },
          "execution_count": 99
        }
      ]
    },
    {
      "cell_type": "code",
      "metadata": {
        "id": "W-iJFDpT8Ypn"
      },
      "source": [
        "value=pd.DataFrame(df['first_temp_diff'])"
      ],
      "execution_count": null,
      "outputs": []
    },
    {
      "cell_type": "code",
      "metadata": {
        "id": "hkl6HJgp8Ypn"
      },
      "source": [
        "temp_df=pd.concat([value,df['first_temp_diff'].rolling(window=5).mean()],axis=1)"
      ],
      "execution_count": null,
      "outputs": []
    },
    {
      "cell_type": "code",
      "metadata": {
        "id": "mEzklJUs8Ypo"
      },
      "source": [
        "temp_df.columns=['actual_temp','forecast_temp']"
      ],
      "execution_count": null,
      "outputs": []
    },
    {
      "cell_type": "code",
      "metadata": {
        "id": "dIVp4x4N8Ypo",
        "outputId": "8bfa5dbd-0271-4de8-828f-52ce8a834e7c"
      },
      "source": [
        "temp_df.head(20)"
      ],
      "execution_count": null,
      "outputs": [
        {
          "output_type": "execute_result",
          "data": {
            "text/html": [
              "<div>\n",
              "<style scoped>\n",
              "    .dataframe tbody tr th:only-of-type {\n",
              "        vertical-align: middle;\n",
              "    }\n",
              "\n",
              "    .dataframe tbody tr th {\n",
              "        vertical-align: top;\n",
              "    }\n",
              "\n",
              "    .dataframe thead th {\n",
              "        text-align: right;\n",
              "    }\n",
              "</style>\n",
              "<table border=\"1\" class=\"dataframe\">\n",
              "  <thead>\n",
              "    <tr style=\"text-align: right;\">\n",
              "      <th></th>\n",
              "      <th>actual_temp</th>\n",
              "      <th>forecast_temp</th>\n",
              "    </tr>\n",
              "    <tr>\n",
              "      <th>Date</th>\n",
              "      <th></th>\n",
              "      <th></th>\n",
              "    </tr>\n",
              "  </thead>\n",
              "  <tbody>\n",
              "    <tr>\n",
              "      <th>1850-01-01</th>\n",
              "      <td>-1.732</td>\n",
              "      <td>NaN</td>\n",
              "    </tr>\n",
              "    <tr>\n",
              "      <th>1850-02-01</th>\n",
              "      <td>-1.002</td>\n",
              "      <td>NaN</td>\n",
              "    </tr>\n",
              "    <tr>\n",
              "      <th>1850-03-01</th>\n",
              "      <td>-1.449</td>\n",
              "      <td>NaN</td>\n",
              "    </tr>\n",
              "    <tr>\n",
              "      <th>1850-04-01</th>\n",
              "      <td>0.031</td>\n",
              "      <td>NaN</td>\n",
              "    </tr>\n",
              "    <tr>\n",
              "      <th>1850-05-01</th>\n",
              "      <td>1.799</td>\n",
              "      <td>-0.4706</td>\n",
              "    </tr>\n",
              "    <tr>\n",
              "      <th>1850-06-01</th>\n",
              "      <td>-0.932</td>\n",
              "      <td>-0.3106</td>\n",
              "    </tr>\n",
              "    <tr>\n",
              "      <th>1850-07-01</th>\n",
              "      <td>-2.714</td>\n",
              "      <td>-0.6530</td>\n",
              "    </tr>\n",
              "    <tr>\n",
              "      <th>1850-08-01</th>\n",
              "      <td>-0.164</td>\n",
              "      <td>-0.3960</td>\n",
              "    </tr>\n",
              "    <tr>\n",
              "      <th>1850-09-01</th>\n",
              "      <td>0.714</td>\n",
              "      <td>-0.2594</td>\n",
              "    </tr>\n",
              "    <tr>\n",
              "      <th>1850-10-01</th>\n",
              "      <td>1.028</td>\n",
              "      <td>-0.4136</td>\n",
              "    </tr>\n",
              "    <tr>\n",
              "      <th>1850-11-01</th>\n",
              "      <td>0.024</td>\n",
              "      <td>-0.2224</td>\n",
              "    </tr>\n",
              "    <tr>\n",
              "      <th>1850-12-01</th>\n",
              "      <td>-0.779</td>\n",
              "      <td>0.1646</td>\n",
              "    </tr>\n",
              "    <tr>\n",
              "      <th>1851-01-01</th>\n",
              "      <td>0.462</td>\n",
              "      <td>0.2898</td>\n",
              "    </tr>\n",
              "    <tr>\n",
              "      <th>1851-02-01</th>\n",
              "      <td>-0.498</td>\n",
              "      <td>0.0474</td>\n",
              "    </tr>\n",
              "    <tr>\n",
              "      <th>1851-03-01</th>\n",
              "      <td>0.658</td>\n",
              "      <td>-0.0266</td>\n",
              "    </tr>\n",
              "    <tr>\n",
              "      <th>1851-04-01</th>\n",
              "      <td>0.895</td>\n",
              "      <td>0.1476</td>\n",
              "    </tr>\n",
              "    <tr>\n",
              "      <th>1851-05-01</th>\n",
              "      <td>0.111</td>\n",
              "      <td>0.3256</td>\n",
              "    </tr>\n",
              "    <tr>\n",
              "      <th>1851-06-01</th>\n",
              "      <td>1.265</td>\n",
              "      <td>0.4862</td>\n",
              "    </tr>\n",
              "    <tr>\n",
              "      <th>1851-07-01</th>\n",
              "      <td>0.136</td>\n",
              "      <td>0.6130</td>\n",
              "    </tr>\n",
              "    <tr>\n",
              "      <th>1851-08-01</th>\n",
              "      <td>-1.049</td>\n",
              "      <td>0.2716</td>\n",
              "    </tr>\n",
              "  </tbody>\n",
              "</table>\n",
              "</div>"
            ],
            "text/plain": [
              "            actual_temp  forecast_temp\n",
              "Date                                  \n",
              "1850-01-01       -1.732            NaN\n",
              "1850-02-01       -1.002            NaN\n",
              "1850-03-01       -1.449            NaN\n",
              "1850-04-01        0.031            NaN\n",
              "1850-05-01        1.799        -0.4706\n",
              "1850-06-01       -0.932        -0.3106\n",
              "1850-07-01       -2.714        -0.6530\n",
              "1850-08-01       -0.164        -0.3960\n",
              "1850-09-01        0.714        -0.2594\n",
              "1850-10-01        1.028        -0.4136\n",
              "1850-11-01        0.024        -0.2224\n",
              "1850-12-01       -0.779         0.1646\n",
              "1851-01-01        0.462         0.2898\n",
              "1851-02-01       -0.498         0.0474\n",
              "1851-03-01        0.658        -0.0266\n",
              "1851-04-01        0.895         0.1476\n",
              "1851-05-01        0.111         0.3256\n",
              "1851-06-01        1.265         0.4862\n",
              "1851-07-01        0.136         0.6130\n",
              "1851-08-01       -1.049         0.2716"
            ]
          },
          "metadata": {
            "tags": []
          },
          "execution_count": 106
        }
      ]
    },
    {
      "cell_type": "code",
      "metadata": {
        "id": "OJ9uEUUN8Yps"
      },
      "source": [
        "from sklearn.metrics import mean_squared_error"
      ],
      "execution_count": null,
      "outputs": []
    },
    {
      "cell_type": "code",
      "metadata": {
        "id": "IxKiq8mo8Ypt",
        "outputId": "9923dc7a-38f3-42d4-b478-6d55a1994b79"
      },
      "source": [
        "###check accuracy\n",
        "np.sqrt(mean_squared_error(temp_df['forecast_temp'][4:],temp_df['actual_temp'][4:]))"
      ],
      "execution_count": null,
      "outputs": [
        {
          "output_type": "execute_result",
          "data": {
            "text/plain": [
              "2.3934235122562058"
            ]
          },
          "metadata": {
            "tags": []
          },
          "execution_count": 107
        }
      ]
    },
    {
      "cell_type": "markdown",
      "metadata": {
        "id": "JtszQ42SeN-4"
      },
      "source": [
        "This shows that there will be +2 or -2 variations in our predicted model, still to reduce it,  we go for a better model called ARIMA"
      ]
    },
    {
      "cell_type": "markdown",
      "metadata": {
        "id": "K0BMPezMXH6O"
      },
      "source": [
        "#Arima model"
      ]
    },
    {
      "cell_type": "markdown",
      "metadata": {
        "id": "PjZ1xuXpXTGF"
      },
      "source": [
        "To find p,d,q"
      ]
    },
    {
      "cell_type": "code",
      "metadata": {
        "id": "5SuJlffK8Ypv"
      },
      "source": [
        "from statsmodels.graphics.tsaplots import plot_acf,plot_pacf"
      ],
      "execution_count": null,
      "outputs": []
    },
    {
      "cell_type": "code",
      "metadata": {
        "id": "0wcPDFhD8Ypw",
        "outputId": "b4affc85-6be5-41dc-992d-1e20d7f2c40e"
      },
      "source": [
        "df.head()"
      ],
      "execution_count": null,
      "outputs": [
        {
          "output_type": "execute_result",
          "data": {
            "text/html": [
              "<div>\n",
              "<style scoped>\n",
              "    .dataframe tbody tr th:only-of-type {\n",
              "        vertical-align: middle;\n",
              "    }\n",
              "\n",
              "    .dataframe tbody tr th {\n",
              "        vertical-align: top;\n",
              "    }\n",
              "\n",
              "    .dataframe thead th {\n",
              "        text-align: right;\n",
              "    }\n",
              "</style>\n",
              "<table border=\"1\" class=\"dataframe\">\n",
              "  <thead>\n",
              "    <tr style=\"text-align: right;\">\n",
              "      <th></th>\n",
              "      <th>first_temp_diff</th>\n",
              "    </tr>\n",
              "    <tr>\n",
              "      <th>Date</th>\n",
              "      <th></th>\n",
              "    </tr>\n",
              "  </thead>\n",
              "  <tbody>\n",
              "    <tr>\n",
              "      <th>1850-01-01</th>\n",
              "      <td>-1.732</td>\n",
              "    </tr>\n",
              "    <tr>\n",
              "      <th>1850-02-01</th>\n",
              "      <td>-1.002</td>\n",
              "    </tr>\n",
              "    <tr>\n",
              "      <th>1850-03-01</th>\n",
              "      <td>-1.449</td>\n",
              "    </tr>\n",
              "    <tr>\n",
              "      <th>1850-04-01</th>\n",
              "      <td>0.031</td>\n",
              "    </tr>\n",
              "    <tr>\n",
              "      <th>1850-05-01</th>\n",
              "      <td>1.799</td>\n",
              "    </tr>\n",
              "  </tbody>\n",
              "</table>\n",
              "</div>"
            ],
            "text/plain": [
              "            first_temp_diff\n",
              "Date                       \n",
              "1850-01-01           -1.732\n",
              "1850-02-01           -1.002\n",
              "1850-03-01           -1.449\n",
              "1850-04-01            0.031\n",
              "1850-05-01            1.799"
            ]
          },
          "metadata": {
            "tags": []
          },
          "execution_count": 110
        }
      ]
    },
    {
      "cell_type": "code",
      "metadata": {
        "id": "Z65N1Cjb8Ypy",
        "outputId": "109c31ff-e4e4-45c1-f659-c6e5e5e1d46a"
      },
      "source": [
        "plot_acf(df['first_temp_diff'].dropna())"
      ],
      "execution_count": null,
      "outputs": [
        {
          "output_type": "execute_result",
          "data": {
            "image/png": "[encoded data removed]",
            "text/plain": [
              "<Figure size 432x288 with 1 Axes>"
            ]
          },
          "metadata": {
            "tags": []
          },
          "execution_count": 111
        },
        {
          "output_type": "display_data",
          "data": {
            "image/png": "[encoded data removed]",
            "text/plain": [
              "<Figure size 432x288 with 1 Axes>"
            ]
          },
          "metadata": {
            "tags": [],
            "needs_background": "light"
          }
        }
      ]
    },
    {
      "cell_type": "code",
      "metadata": {
        "id": "hDYytpvo8Yp1",
        "outputId": "0ab2e160-ab7a-40f5-bb1f-30298210e878"
      },
      "source": [
        "plot_pacf(df['first_temp_diff'].dropna())"
      ],
      "execution_count": null,
      "outputs": [
        {
          "output_type": "execute_result",
          "data": {
            "image/png": "[encoded data removed]",
            "text/plain": [
              "<Figure size 432x288 with 1 Axes>"
            ]
          },
          "metadata": {
            "tags": []
          },
          "execution_count": 112
        },
        {
          "output_type": "display_data",
          "data": {
            "image/png": "[encoded data removed]",
            "text/plain": [
              "<Figure size 432x288 with 1 Axes>"
            ]
          },
          "metadata": {
            "tags": [],
            "needs_background": "light"
          }
        }
      ]
    },
    {
      "cell_type": "code",
      "metadata": {
        "id": "U2s3cIf-8Yp2",
        "outputId": "d33eff2e-f8ad-47cb-f7f2-af90c1c57757"
      },
      "source": [
        "df.isna().sum()"
      ],
      "execution_count": null,
      "outputs": [
        {
          "output_type": "execute_result",
          "data": {
            "text/plain": [
              "first_temp_diff    0\n",
              "dtype: int64"
            ]
          },
          "metadata": {
            "tags": []
          },
          "execution_count": 113
        }
      ]
    },
    {
      "cell_type": "code",
      "metadata": {
        "id": "TOIy3pWA8Yp3",
        "outputId": "d49ea548-70b6-4474-a93f-09c74d8aad13"
      },
      "source": [
        "df.shape"
      ],
      "execution_count": null,
      "outputs": [
        {
          "output_type": "execute_result",
          "data": {
            "text/plain": [
              "(7061, 1)"
            ]
          },
          "metadata": {
            "tags": []
          },
          "execution_count": 114
        }
      ]
    },
    {
      "cell_type": "code",
      "metadata": {
        "id": "Ayxl_3_W8Yp4"
      },
      "source": [
        "training_data=df[0:6000]\n",
        "### create test that is basically unseen to our model, or which is basocally is used for evalaution\n",
        "test_data=df[6000:]"
      ],
      "execution_count": null,
      "outputs": []
    },
    {
      "cell_type": "code",
      "metadata": {
        "id": "RXJm17AU8Yp7"
      },
      "source": [
        "from statsmodels.tsa.arima_model import ARIMA"
      ],
      "execution_count": null,
      "outputs": []
    },
    {
      "cell_type": "code",
      "metadata": {
        "id": "1hpO593I8Yp8"
      },
      "source": [
        "arima=ARIMA(training_data,order=(2,1,3))"
      ],
      "execution_count": null,
      "outputs": []
    },
    {
      "cell_type": "code",
      "metadata": {
        "id": "VGNX09n28Yp9"
      },
      "source": [
        "model=arima.fit()"
      ],
      "execution_count": null,
      "outputs": []
    },
    {
      "cell_type": "code",
      "metadata": {
        "id": "DRme5W_a8Yp_"
      },
      "source": [
        "predictions=model.forecast(steps=len(test_data))[0]"
      ],
      "execution_count": null,
      "outputs": []
    },
    {
      "cell_type": "code",
      "metadata": {
        "id": "ibKgKfh38YqA",
        "outputId": "504e2a17-28d6-4a9c-da96-34235e1d8663"
      },
      "source": [
        "np.sqrt(mean_squared_error(test_data,predictions))"
      ],
      "execution_count": null,
      "outputs": [
        {
          "output_type": "execute_result",
          "data": {
            "text/plain": [
              "1.5120453542239605"
            ]
          },
          "metadata": {
            "tags": []
          },
          "execution_count": 122
        }
      ]
    },
    {
      "cell_type": "markdown",
      "metadata": {
        "id": "lqY4B6ncWtHw"
      },
      "source": [
        "So comparing to the previous model , here the mse value is decreased slightly and we can conclude it as the best fit."
      ]
    }
  ]
}